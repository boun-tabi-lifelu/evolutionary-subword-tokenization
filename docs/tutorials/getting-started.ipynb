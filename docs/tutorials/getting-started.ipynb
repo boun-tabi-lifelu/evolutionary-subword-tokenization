{
 "cells": [
  {
   "cell_type": "markdown",
   "metadata": {},
   "source": [
    "# Getting-Started with `template_repo`"
   ]
  }
 ],
 "metadata": {
  "language_info": {
   "name": "python"
  }
 },
 "nbformat": 4,
 "nbformat_minor": 2
}
