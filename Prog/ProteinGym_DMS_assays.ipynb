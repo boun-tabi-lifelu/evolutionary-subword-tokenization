{
 "cells": [
  {
   "cell_type": "code",
   "execution_count": 103,
   "id": "60df14a0",
   "metadata": {},
   "outputs": [
    {
     "data": {
      "text/plain": [
       "[PosixPath('/cta/share/users/ProteinGym/DMS_Assays(Substitutions)/VG08_BPP22_Tsuboyama_2023_2GP8.csv'),\n",
       " PosixPath('/cta/share/users/ProteinGym/DMS_Assays(Substitutions)/CAPSD_AAV2S_Sinai_2021.csv'),\n",
       " PosixPath('/cta/share/users/ProteinGym/DMS_Assays(Substitutions)/A0A192B1T2_9HIV1_Haddox_2018.csv'),\n",
       " PosixPath('/cta/share/users/ProteinGym/DMS_Assays(Substitutions)/ESTA_BACSU_Nutschel_2020.csv'),\n",
       " PosixPath('/cta/share/users/ProteinGym/DMS_Assays(Substitutions)/SAV1_MOUSE_Tsuboyama_2023_2YSB.csv')]"
      ]
     },
     "execution_count": 103,
     "metadata": {},
     "output_type": "execute_result"
    }
   ],
   "source": [
    "from pathlib import Path\n",
    "base_path = Path(\"/cta/share/users/ProteinGym/DMS_Assays(Substitutions)\")\n",
    "list(base_path.glob(\"*.csv\"))[:5]"
   ]
  },
  {
   "cell_type": "code",
   "execution_count": 104,
   "id": "05449c2f",
   "metadata": {},
   "outputs": [],
   "source": [
    "import pandas as pd\n",
    "# df = pd.concat((pd.read_csv(file) for file in base_path.rglob(\"*.csv\")), ignore_index=True)\n",
    "files = list(base_path.rglob(\"*.csv\"))\n",
    "proteins = [pd.read_csv(file) for file in files]"
   ]
  },
  {
   "cell_type": "code",
   "execution_count": 105,
   "id": "d6df0ad1",
   "metadata": {},
   "outputs": [],
   "source": [
    "import numpy as np\n",
    "\n",
    "# Given a dataframe containing a DMS assay belongin to a single protein (from single .csv file)\n",
    "# Calculate the original sequence and functional map of that sequence \n",
    "def extract_func_map(df):\n",
    "    df = df[~df[\"mutant\"].str.contains(\":\")].copy() # Cant handle multiple mutations right now\n",
    "    idx = df[\"mutant\"].first_valid_index()\n",
    "    mut = df[\"mutant\"][idx]\n",
    "    mut_seq = df[\"mutated_sequence\"][idx]\n",
    "    mut_pos = int(mut[1:-1])\n",
    "    ori_seq = mut_seq[:mut_pos-1] + mut[:1] + mut_seq[mut_pos:]\n",
    "    mu = np.mean(df[\"DMS_score\"])\n",
    "    stddev = np.std(df[\"DMS_score\"])\n",
    "    df[\"Z_scores\"] = (df[\"DMS_score\"] - mu)/stddev\n",
    "    df[\"mut_positions\"] = df[\"mutant\"].apply(lambda x: int(x[1:-1]) - 1)\n",
    "    func_map = df.groupby(\"mut_positions\")[\"Z_scores\"].mean()\n",
    "    func_vals = np.zeros((len(ori_seq), ))\n",
    "    func_vals.fill(np.nan)\n",
    "    func_vals[func_map.index.to_numpy()] = func_map.to_numpy()\n",
    "    return ori_seq, func_vals\n",
    "    "
   ]
  },
  {
   "cell_type": "code",
   "execution_count": 106,
   "id": "6870a344",
   "metadata": {},
   "outputs": [
    {
     "name": "stdout",
     "output_type": "stream",
     "text": [
      "Processing 0th protein\n",
      "Processing 2th protein\n",
      "Processing 3th protein\n",
      "Processing 5th protein\n",
      "Processing 6th protein\n",
      "Processing 7th protein\n",
      "Processing 8th protein\n",
      "Processing 9th protein\n",
      "Processing 10th protein\n",
      "Processing 12th protein\n",
      "Processing 13th protein\n",
      "Processing 14th protein\n",
      "Processing 15th protein\n",
      "Processing 16th protein\n",
      "Processing 17th protein\n",
      "Processing 18th protein\n",
      "Processing 21th protein\n",
      "Processing 25th protein\n",
      "Processing 27th protein\n",
      "Processing 30th protein\n",
      "Processing 31th protein\n",
      "Processing 37th protein\n",
      "Processing 38th protein\n",
      "Processing 39th protein\n",
      "Processing 40th protein\n",
      "Processing 43th protein\n",
      "Processing 45th protein\n",
      "Processing 46th protein\n",
      "Processing 48th protein\n",
      "Processing 49th protein\n",
      "Processing 50th protein\n",
      "Processing 51th protein\n",
      "Processing 52th protein\n",
      "Processing 53th protein\n",
      "Processing 54th protein\n",
      "Processing 55th protein\n",
      "Processing 56th protein\n",
      "Processing 57th protein\n",
      "Processing 58th protein\n",
      "Processing 59th protein\n",
      "Processing 60th protein\n",
      "Processing 61th protein\n",
      "Processing 62th protein\n",
      "Processing 64th protein\n",
      "Processing 65th protein\n",
      "Processing 66th protein\n",
      "Processing 68th protein\n",
      "Processing 69th protein\n",
      "Processing 71th protein\n",
      "Processing 72th protein\n",
      "Processing 73th protein\n",
      "Processing 76th protein\n",
      "Processing 77th protein\n",
      "Processing 78th protein\n",
      "Processing 79th protein\n",
      "Processing 80th protein\n",
      "Processing 81th protein\n",
      "Processing 82th protein\n",
      "Processing 84th protein\n",
      "Processing 86th protein\n",
      "Processing 87th protein\n",
      "Processing 88th protein\n",
      "Processing 89th protein\n",
      "Processing 90th protein\n",
      "Processing 91th protein\n",
      "Processing 93th protein\n",
      "Processing 94th protein\n",
      "Processing 95th protein\n",
      "Processing 96th protein\n",
      "Processing 97th protein\n",
      "Processing 98th protein\n",
      "Processing 100th protein\n",
      "Processing 102th protein\n",
      "Processing 103th protein\n",
      "Processing 105th protein\n",
      "Processing 106th protein\n",
      "Processing 107th protein\n",
      "Processing 109th protein\n",
      "Processing 113th protein\n",
      "Processing 114th protein\n",
      "Processing 115th protein\n",
      "Processing 116th protein\n",
      "Processing 117th protein\n",
      "Processing 118th protein\n",
      "Processing 122th protein\n",
      "Processing 123th protein\n",
      "Processing 124th protein\n",
      "Processing 125th protein\n",
      "Processing 127th protein\n",
      "Processing 129th protein\n",
      "Processing 132th protein\n",
      "Processing 133th protein\n",
      "Processing 136th protein\n",
      "Processing 137th protein\n",
      "Processing 139th protein\n",
      "Processing 141th protein\n",
      "Processing 144th protein\n",
      "Processing 145th protein\n",
      "Processing 146th protein\n",
      "Processing 148th protein\n",
      "Processing 149th protein\n",
      "Processing 150th protein\n",
      "Processing 151th protein\n",
      "Processing 152th protein\n",
      "Processing 153th protein\n",
      "Processing 155th protein\n",
      "Processing 157th protein\n",
      "Processing 158th protein\n",
      "Processing 159th protein\n",
      "Processing 161th protein\n",
      "Processing 162th protein\n",
      "Processing 163th protein\n",
      "Processing 166th protein\n",
      "Processing 167th protein\n",
      "Processing 170th protein\n",
      "Processing 171th protein\n",
      "Processing 173th protein\n",
      "Processing 174th protein\n",
      "Processing 176th protein\n",
      "Processing 177th protein\n",
      "Processing 178th protein\n",
      "Processing 179th protein\n",
      "Processing 180th protein\n",
      "Processing 181th protein\n",
      "Processing 183th protein\n",
      "Processing 187th protein\n",
      "Processing 188th protein\n",
      "Processing 190th protein\n",
      "Processing 191th protein\n",
      "Processing 192th protein\n",
      "Processing 193th protein\n",
      "Processing 194th protein\n",
      "Processing 195th protein\n",
      "Processing 196th protein\n",
      "Processing 197th protein\n",
      "Processing 198th protein\n",
      "Processing 200th protein\n",
      "Processing 202th protein\n",
      "Processing 203th protein\n",
      "Processing 205th protein\n",
      "Processing 206th protein\n",
      "Processing 207th protein\n",
      "Processing 208th protein\n",
      "Processing 209th protein\n",
      "Processing 211th protein\n",
      "Processing 212th protein\n",
      "Processing 215th protein\n",
      "Processing 216th protein\n"
     ]
    }
   ],
   "source": [
    "sequences = []\n",
    "func_maps = []\n",
    "\n",
    "for i, prot in enumerate(proteins):\n",
    "    if prot[\"mutant\"].str.contains(\":\").sum() > 0:\n",
    "        continue\n",
    "    print(f\"Processing {i}th protein\")\n",
    "    seq, func = extract_func_map(prot)\n",
    "    sequences.append(seq)\n",
    "    func_maps.append(func)"
   ]
  },
  {
   "cell_type": "code",
   "execution_count": 107,
   "id": "627ae3c6",
   "metadata": {},
   "outputs": [],
   "source": [
    "from tokenizers import Tokenizer"
   ]
  },
  {
   "cell_type": "code",
   "execution_count": 108,
   "id": "88f32a12",
   "metadata": {},
   "outputs": [],
   "source": [
    "tkz_path = \"/cta/share/users/mutbpe/tokenizers/blosum62/hf_uniref50_bpe_51200.json\"\n",
    "tkz1 = Tokenizer.from_file(tkz_path)\n",
    "tkz_path = \"/cta/share/users/mutbpe/tokenizers/blosum62/hf_uniref50_mutbpe_0.7_3_12_0.05_51200.json\"\n",
    "tkz2 = Tokenizer.from_file(tkz_path)"
   ]
  },
  {
   "cell_type": "code",
   "execution_count": 109,
   "id": "e7927571",
   "metadata": {},
   "outputs": [],
   "source": [
    "tkz1_vals = []\n",
    "tkz2_vals = []\n",
    "for i, seq in enumerate(sequences):\n",
    "    offs1 = tkz1.encode(seq).offsets\n",
    "    offs2 = tkz2.encode(seq).offsets\n",
    "    func_map = np.abs(func_maps[i])\n",
    "    # func_map = func_maps[i]\n",
    "    for s, e in offs1:\n",
    "        tkz1_vals.append(np.mean(func_map[s:e]))\n",
    "    for s, e in offs2:\n",
    "        tkz2_vals.append(np.mean(func_map[s:e]))\n"
   ]
  },
  {
   "cell_type": "code",
   "execution_count": 110,
   "id": "f9f9e664",
   "metadata": {},
   "outputs": [
    {
     "data": {
      "image/png": "[encoded data removed]",
      "text/plain": [
       "<Figure size 640x480 with 1 Axes>"
      ]
     },
     "metadata": {},
     "output_type": "display_data"
    }
   ],
   "source": [
    "import matplotlib.pyplot as plt\n",
    "plt.hist(tkz1_vals, bins=30, alpha=0.5, color='red', label='Data 1', density=True)\n",
    "plt.hist(tkz2_vals, bins=30, alpha=0.5, color='blue', label='Data 2',  density=True)\n",
    "\n",
    "# Add legend and labels\n",
    "plt.legend()\n",
    "plt.xlabel('Value')\n",
    "plt.ylabel('Frequency')\n",
    "plt.title('Overlayed Histograms')\n",
    "\n",
    "plt.show()"
   ]
  },
  {
   "cell_type": "code",
   "execution_count": 111,
   "id": "8851645c",
   "metadata": {},
   "outputs": [
    {
     "data": {
      "text/plain": [
       "np.float64(nan)"
      ]
     },
     "execution_count": 111,
     "metadata": {},
     "output_type": "execute_result"
    }
   ],
   "source": [
    "np.mean(tkz2_vals)"
   ]
  },
  {
   "cell_type": "markdown",
   "id": "38f52671",
   "metadata": {},
   "source": [
    "- Disagreement olan tokenlari incele, agreement olan tokenlardan geriye kalan bolgelere bak"
   ]
  },
  {
   "cell_type": "code",
   "execution_count": 112,
   "id": "e1e4c998",
   "metadata": {},
   "outputs": [
    {
     "data": {
      "text/plain": [
       "{(4, 8), (8, 11), (11, 15), (28, 32), (32, 34), (34, 37), (51, 54), (54, 55)}"
      ]
     },
     "execution_count": 112,
     "metadata": {},
     "output_type": "execute_result"
    }
   ],
   "source": [
    "set(offs2) - set(offs1)\n"
   ]
  },
  {
   "cell_type": "code",
   "execution_count": 113,
   "id": "0149da0c",
   "metadata": {},
   "outputs": [],
   "source": [
    "tkz1_vals = []\n",
    "tkz2_vals = []\n",
    "for i, seq in enumerate(sequences):\n",
    "    offs1 = tkz1.encode(seq).offsets\n",
    "    offs2 = tkz2.encode(seq).offsets\n",
    "    func_map = np.abs(func_maps[i])\n",
    "    # func_map = func_maps[i]\n",
    "    for s, e in (set(offs1) - set(offs2)):\n",
    "        tkz1_vals.append(np.mean(func_map[s:e]))\n",
    "    for s, e in (set(offs2) - set(offs1)):\n",
    "        tkz2_vals.append(np.mean(func_map[s:e]))"
   ]
  },
  {
   "cell_type": "code",
   "execution_count": 114,
   "id": "28d1e9be",
   "metadata": {},
   "outputs": [
    {
     "data": {
      "image/png": "[encoded data removed]",
      "text/plain": [
       "<Figure size 640x480 with 1 Axes>"
      ]
     },
     "metadata": {},
     "output_type": "display_data"
    }
   ],
   "source": [
    "import matplotlib.pyplot as plt\n",
    "plt.hist(tkz1_vals, bins=np.arange(0, 3, 0.1), alpha=0.5, color='red', label='Data 1', density=True)\n",
    "plt.hist(tkz2_vals, bins=np.arange(0, 3, 0.1), alpha=0.5, color='blue', label='Data 2',  density=True)\n",
    "\n",
    "# Add legend and labels\n",
    "plt.legend()\n",
    "plt.xlabel('Value')\n",
    "plt.ylabel('Frequency')\n",
    "plt.title('Overlayed Histograms')\n",
    "\n",
    "plt.show()"
   ]
  },
  {
   "cell_type": "code",
   "execution_count": 115,
   "id": "68c30ad6",
   "metadata": {},
   "outputs": [
    {
     "data": {
      "text/plain": [
       "13537"
      ]
     },
     "execution_count": 115,
     "metadata": {},
     "output_type": "execute_result"
    }
   ],
   "source": [
    "len(tkz2_vals)"
   ]
  },
  {
   "cell_type": "code",
   "execution_count": null,
   "id": "9dd0ea59",
   "metadata": {},
   "outputs": [],
   "source": []
  }
 ],
 "metadata": {
  "kernelspec": {
   "display_name": ".venv",
   "language": "python",
   "name": "python3"
  },
  "language_info": {
   "codemirror_mode": {
    "name": "ipython",
    "version": 3
   },
   "file_extension": ".py",
   "mimetype": "text/x-python",
   "name": "python",
   "nbconvert_exporter": "python",
   "pygments_lexer": "ipython3",
   "version": "3.12.3"
  }
 },
 "nbformat": 4,
 "nbformat_minor": 5
}
