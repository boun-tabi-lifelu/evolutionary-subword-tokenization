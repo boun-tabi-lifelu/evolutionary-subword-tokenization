{
 "cells": [
  {
   "cell_type": "markdown",
   "id": "78e24ab9",
   "metadata": {},
   "source": [
    "# Notebook corresponding to case studies taken from MaveDB"
   ]
  },
  {
   "cell_type": "code",
   "execution_count": 1,
   "id": "0b548369",
   "metadata": {},
   "outputs": [],
   "source": [
    "from pathlib import Path"
   ]
  },
  {
   "cell_type": "code",
   "execution_count": 2,
   "id": "ce6ae51d",
   "metadata": {},
   "outputs": [
    {
     "data": {
      "text/plain": [
       "[PosixPath('/cta/share/users/ProteinGym/Clinical_Variants(Substitutions)/NP_003110.1.csv'),\n",
       " PosixPath('/cta/share/users/ProteinGym/Clinical_Variants(Substitutions)/NP_005076.3.csv'),\n",
       " PosixPath('/cta/share/users/ProteinGym/Clinical_Variants(Substitutions)/NP_005493.2.csv'),\n",
       " PosixPath('/cta/share/users/ProteinGym/Clinical_Variants(Substitutions)/NP_057097.2.csv'),\n",
       " PosixPath('/cta/share/users/ProteinGym/Clinical_Variants(Substitutions)/NP_055790.1.csv')]"
      ]
     },
     "execution_count": 2,
     "metadata": {},
     "output_type": "execute_result"
    }
   ],
   "source": [
    "import os\n",
    "base_path = Path(\"/cta/share/users/ProteinGym/Clinical_Variants(Substitutions)\")\n",
    "list(base_path.glob(\"*.csv\"))[:5]"
   ]
  },
  {
   "cell_type": "code",
   "execution_count": 3,
   "id": "ee12e2f4",
   "metadata": {},
   "outputs": [
    {
     "data": {
      "text/html": [
       "<div>\n",
       "<style scoped>\n",
       "    .dataframe tbody tr th:only-of-type {\n",
       "        vertical-align: middle;\n",
       "    }\n",
       "\n",
       "    .dataframe tbody tr th {\n",
       "        vertical-align: top;\n",
       "    }\n",
       "\n",
       "    .dataframe thead th {\n",
       "        text-align: right;\n",
       "    }\n",
       "</style>\n",
       "<table border=\"1\" class=\"dataframe\">\n",
       "  <thead>\n",
       "    <tr style=\"text-align: right;\">\n",
       "      <th></th>\n",
       "      <th>Unnamed: 0</th>\n",
       "      <th>protein</th>\n",
       "      <th>protein_sequence</th>\n",
       "      <th>mutant</th>\n",
       "      <th>mutated_sequence</th>\n",
       "      <th>DMS_bin_score</th>\n",
       "    </tr>\n",
       "  </thead>\n",
       "  <tbody>\n",
       "    <tr>\n",
       "      <th>0</th>\n",
       "      <td>67567</td>\n",
       "      <td>NP_003110.1</td>\n",
       "      <td>MAVLLLLLRALRRGPGPGPRPLWGPGPAWSPGFPARPGRGRPYMAS...</td>\n",
       "      <td>R13G</td>\n",
       "      <td>MAVLLLLLRALRGGPGPGPRPLWGPGPAWSPGFPARPGRGRPYMAS...</td>\n",
       "      <td>Benign</td>\n",
       "    </tr>\n",
       "    <tr>\n",
       "      <th>1</th>\n",
       "      <td>67568</td>\n",
       "      <td>NP_003110.1</td>\n",
       "      <td>MAVLLLLLRALRRGPGPGPRPLWGPGPAWSPGFPARPGRGRPYMAS...</td>\n",
       "      <td>G32E</td>\n",
       "      <td>MAVLLLLLRALRRGPGPGPRPLWGPGPAWSPEFPARPGRGRPYMAS...</td>\n",
       "      <td>Benign</td>\n",
       "    </tr>\n",
       "    <tr>\n",
       "      <th>2</th>\n",
       "      <td>67569</td>\n",
       "      <td>NP_003110.1</td>\n",
       "      <td>MAVLLLLLRALRRGPGPGPRPLWGPGPAWSPGFPARPGRGRPYMAS...</td>\n",
       "      <td>K113R</td>\n",
       "      <td>MAVLLLLLRALRRGPGPGPRPLWGPGPAWSPGFPARPGRGRPYMAS...</td>\n",
       "      <td>Benign</td>\n",
       "    </tr>\n",
       "    <tr>\n",
       "      <th>5</th>\n",
       "      <td>67572</td>\n",
       "      <td>NP_003110.1</td>\n",
       "      <td>MAVLLLLLRALRRGPGPGPRPLWGPGPAWSPGFPARPGRGRPYMAS...</td>\n",
       "      <td>V183I</td>\n",
       "      <td>MAVLLLLLRALRRGPGPGPRPLWGPGPAWSPGFPARPGRGRPYMAS...</td>\n",
       "      <td>Benign</td>\n",
       "    </tr>\n",
       "    <tr>\n",
       "      <th>6</th>\n",
       "      <td>67573</td>\n",
       "      <td>NP_003110.1</td>\n",
       "      <td>MAVLLLLLRALRRGPGPGPRPLWGPGPAWSPGFPARPGRGRPYMAS...</td>\n",
       "      <td>R294H</td>\n",
       "      <td>MAVLLLLLRALRRGPGPGPRPLWGPGPAWSPGFPARPGRGRPYMAS...</td>\n",
       "      <td>Benign</td>\n",
       "    </tr>\n",
       "    <tr>\n",
       "      <th>...</th>\n",
       "      <td>...</td>\n",
       "      <td>...</td>\n",
       "      <td>...</td>\n",
       "      <td>...</td>\n",
       "      <td>...</td>\n",
       "      <td>...</td>\n",
       "    </tr>\n",
       "    <tr>\n",
       "      <th>62715</th>\n",
       "      <td>18955</td>\n",
       "      <td>NP_004647.1</td>\n",
       "      <td>MNKGWLELESDPGLFTLLVEDFGVKGVQVEEIYDLQSKCQGPVYGF...</td>\n",
       "      <td>S596G</td>\n",
       "      <td>MNKGWLELESDPGLFTLLVEDFGVKGVQVEEIYDLQSKCQGPVYGF...</td>\n",
       "      <td>Benign</td>\n",
       "    </tr>\n",
       "    <tr>\n",
       "      <th>62717</th>\n",
       "      <td>18957</td>\n",
       "      <td>NP_004647.1</td>\n",
       "      <td>MNKGWLELESDPGLFTLLVEDFGVKGVQVEEIYDLQSKCQGPVYGF...</td>\n",
       "      <td>V476A</td>\n",
       "      <td>MNKGWLELESDPGLFTLLVEDFGVKGVQVEEIYDLQSKCQGPVYGF...</td>\n",
       "      <td>Benign</td>\n",
       "    </tr>\n",
       "    <tr>\n",
       "      <th>62718</th>\n",
       "      <td>18958</td>\n",
       "      <td>NP_004647.1</td>\n",
       "      <td>MNKGWLELESDPGLFTLLVEDFGVKGVQVEEIYDLQSKCQGPVYGF...</td>\n",
       "      <td>T423K</td>\n",
       "      <td>MNKGWLELESDPGLFTLLVEDFGVKGVQVEEIYDLQSKCQGPVYGF...</td>\n",
       "      <td>Benign</td>\n",
       "    </tr>\n",
       "    <tr>\n",
       "      <th>62719</th>\n",
       "      <td>18959</td>\n",
       "      <td>NP_004647.1</td>\n",
       "      <td>MNKGWLELESDPGLFTLLVEDFGVKGVQVEEIYDLQSKCQGPVYGF...</td>\n",
       "      <td>N290S</td>\n",
       "      <td>MNKGWLELESDPGLFTLLVEDFGVKGVQVEEIYDLQSKCQGPVYGF...</td>\n",
       "      <td>Benign</td>\n",
       "    </tr>\n",
       "    <tr>\n",
       "      <th>62725</th>\n",
       "      <td>18965</td>\n",
       "      <td>NP_004647.1</td>\n",
       "      <td>MNKGWLELESDPGLFTLLVEDFGVKGVQVEEIYDLQSKCQGPVYGF...</td>\n",
       "      <td>G41S</td>\n",
       "      <td>MNKGWLELESDPGLFTLLVEDFGVKGVQVEEIYDLQSKCQSPVYGF...</td>\n",
       "      <td>Benign</td>\n",
       "    </tr>\n",
       "  </tbody>\n",
       "</table>\n",
       "<p>30727 rows × 6 columns</p>\n",
       "</div>"
      ],
      "text/plain": [
       "       Unnamed: 0      protein  \\\n",
       "0           67567  NP_003110.1   \n",
       "1           67568  NP_003110.1   \n",
       "2           67569  NP_003110.1   \n",
       "5           67572  NP_003110.1   \n",
       "6           67573  NP_003110.1   \n",
       "...           ...          ...   \n",
       "62715       18955  NP_004647.1   \n",
       "62717       18957  NP_004647.1   \n",
       "62718       18958  NP_004647.1   \n",
       "62719       18959  NP_004647.1   \n",
       "62725       18965  NP_004647.1   \n",
       "\n",
       "                                        protein_sequence mutant  \\\n",
       "0      MAVLLLLLRALRRGPGPGPRPLWGPGPAWSPGFPARPGRGRPYMAS...   R13G   \n",
       "1      MAVLLLLLRALRRGPGPGPRPLWGPGPAWSPGFPARPGRGRPYMAS...   G32E   \n",
       "2      MAVLLLLLRALRRGPGPGPRPLWGPGPAWSPGFPARPGRGRPYMAS...  K113R   \n",
       "5      MAVLLLLLRALRRGPGPGPRPLWGPGPAWSPGFPARPGRGRPYMAS...  V183I   \n",
       "6      MAVLLLLLRALRRGPGPGPRPLWGPGPAWSPGFPARPGRGRPYMAS...  R294H   \n",
       "...                                                  ...    ...   \n",
       "62715  MNKGWLELESDPGLFTLLVEDFGVKGVQVEEIYDLQSKCQGPVYGF...  S596G   \n",
       "62717  MNKGWLELESDPGLFTLLVEDFGVKGVQVEEIYDLQSKCQGPVYGF...  V476A   \n",
       "62718  MNKGWLELESDPGLFTLLVEDFGVKGVQVEEIYDLQSKCQGPVYGF...  T423K   \n",
       "62719  MNKGWLELESDPGLFTLLVEDFGVKGVQVEEIYDLQSKCQGPVYGF...  N290S   \n",
       "62725  MNKGWLELESDPGLFTLLVEDFGVKGVQVEEIYDLQSKCQGPVYGF...   G41S   \n",
       "\n",
       "                                        mutated_sequence DMS_bin_score  \n",
       "0      MAVLLLLLRALRGGPGPGPRPLWGPGPAWSPGFPARPGRGRPYMAS...        Benign  \n",
       "1      MAVLLLLLRALRRGPGPGPRPLWGPGPAWSPEFPARPGRGRPYMAS...        Benign  \n",
       "2      MAVLLLLLRALRRGPGPGPRPLWGPGPAWSPGFPARPGRGRPYMAS...        Benign  \n",
       "5      MAVLLLLLRALRRGPGPGPRPLWGPGPAWSPGFPARPGRGRPYMAS...        Benign  \n",
       "6      MAVLLLLLRALRRGPGPGPRPLWGPGPAWSPGFPARPGRGRPYMAS...        Benign  \n",
       "...                                                  ...           ...  \n",
       "62715  MNKGWLELESDPGLFTLLVEDFGVKGVQVEEIYDLQSKCQGPVYGF...        Benign  \n",
       "62717  MNKGWLELESDPGLFTLLVEDFGVKGVQVEEIYDLQSKCQGPVYGF...        Benign  \n",
       "62718  MNKGWLELESDPGLFTLLVEDFGVKGVQVEEIYDLQSKCQGPVYGF...        Benign  \n",
       "62719  MNKGWLELESDPGLFTLLVEDFGVKGVQVEEIYDLQSKCQGPVYGF...        Benign  \n",
       "62725  MNKGWLELESDPGLFTLLVEDFGVKGVQVEEIYDLQSKCQSPVYGF...        Benign  \n",
       "\n",
       "[30727 rows x 6 columns]"
      ]
     },
     "execution_count": 3,
     "metadata": {},
     "output_type": "execute_result"
    }
   ],
   "source": [
    "import pandas as pd\n",
    "# Use a generator expression to read and concatenate CSVs\n",
    "df = pd.concat((pd.read_csv(file) for file in base_path.rglob(\"*.csv\")), ignore_index=True)\n",
    "# df = pd.read_csv('/cta/share/users/ProteinGym/Clinical_Variants(Substitutions)/NP_055790.1.csv')\n",
    "df[df[\"DMS_bin_score\"] == \"Benign\"]"
   ]
  },
  {
   "cell_type": "markdown",
   "id": "f6617469",
   "metadata": {},
   "source": [
    "# Apply segmentation"
   ]
  },
  {
   "cell_type": "code",
   "execution_count": 4,
   "id": "e0e5b692",
   "metadata": {},
   "outputs": [],
   "source": [
    "import numpy as np\n",
    "from tokenizers import Tokenizer\n",
    "from vocabulary_functions import calc_dice_from_encodings"
   ]
  },
  {
   "cell_type": "code",
   "execution_count": 27,
   "id": "551ebd09",
   "metadata": {},
   "outputs": [],
   "source": [
    "tkz_path = \"/cta/share/users/mutbpe/tokenizers/blosum62/hf_uniref50_bpe_51200.json\"\n",
    "tkz1 = Tokenizer.from_file(tkz_path)\n",
    "tkz_path = \"/cta/share/users/mutbpe/tokenizers/blosum62/hf_uniref50_mutbpe_0.7_3_12_0.05_51200.json\"\n",
    "tkz2 = Tokenizer.from_file(tkz_path)"
   ]
  },
  {
   "cell_type": "code",
   "execution_count": 6,
   "id": "01b41f7a",
   "metadata": {},
   "outputs": [],
   "source": [
    "import numpy as np\n",
    "from scipy.spatial.distance import pdist\n",
    "\n",
    "\n",
    "\n",
    "\n",
    "\n",
    "'''\n",
    "Given a Tokenizers encoding offsets offs\n",
    "Assign each symbol in the sequence its token id\n",
    "Return the numpy list containing assignments\n",
    "(Like cluster assignments)\n",
    "'''\n",
    "def _offsets_to_cluster(offs):\n",
    "    seq_len = offs[-1][-1]\n",
    "    cluster_assign = np.zeros((seq_len, 1))\n",
    "    for i, (b, e) in enumerate(offs):\n",
    "        cluster_assign[b:e] = i\n",
    "    return cluster_assign\n",
    "\n",
    "\n",
    "# Cluster based rand-index\n",
    "def calc_rand_index(offs1, offs2):\n",
    "    clusters1 = _offsets_to_cluster(offs1)\n",
    "    clusters2 = _offsets_to_cluster(offs2)\n",
    "    assign_eq = pdist(clusters1, metric='hamming')  # 0 if same, 1 if different\n",
    "    label_eq = pdist(clusters2, metric='hamming') # 0 if same, 1 if different\n",
    "    rand_index = np.mean(assign_eq == label_eq)\n",
    "    return rand_index\n",
    "\n",
    "# Cluster based dice index\n",
    "def calc_dice_index(offs1, offs2):\n",
    "    clusters1 = _offsets_to_cluster(offs1)\n",
    "    clusters2 = _offsets_to_cluster(offs2)\n",
    "    assign_eq = pdist(clusters1, metric='hamming')  # 0 if same, 1 if different\n",
    "    label_eq = pdist(clusters2, metric='hamming') # 0 if same, 1 if different\n",
    "    # Boolean masks\n",
    "    same_assign = assign_eq == 0\n",
    "    same_label = label_eq == 0\n",
    "    TP = np.sum(same_assign & same_label)\n",
    "    FP = np.sum(same_assign & ~same_label)\n",
    "    FN = np.sum(~same_assign & same_label)\n",
    "    # Jaccard index (ignores TN)\n",
    "    dice_index = 2*TP / (2*TP + FP + FN + 1e-10)\n",
    "    return dice_index\n",
    "\n",
    "# Cluster based jaccard index\n",
    "def calc_jaccard_index(offs1, offs2):\n",
    "    clusters1 = _offsets_to_cluster(offs1)\n",
    "    clusters2 = _offsets_to_cluster(offs2)\n",
    "    assign_eq = pdist(clusters1, metric='hamming')  # 0 if same, 1 if different\n",
    "    label_eq = pdist(clusters2, metric='hamming') # 0 if same, 1 if different\n",
    "    # Boolean masks\n",
    "    same_assign = assign_eq == 0\n",
    "    same_label = label_eq == 0\n",
    "    TP = np.sum(same_assign & same_label)\n",
    "    FP = np.sum(same_assign & ~same_label)\n",
    "    FN = np.sum(~same_assign & same_label)\n",
    "    # Jaccard index (ignores TN)\n",
    "    jaccard_index = TP / (TP + FP + FN + 1e-10)\n",
    "    return jaccard_index\n",
    "\n",
    "\n",
    "# Calc all indices at the same time to avoid redundancy\n",
    "# Returns rand, dice, jaccard\n",
    "def calc_all_indices(offs1, offs2):\n",
    "    clusters1 = _offsets_to_cluster(offs1)\n",
    "    clusters2 = _offsets_to_cluster(offs2)\n",
    "    assign_eq = pdist(clusters1, metric='hamming')  # 0 if same, 1 if different\n",
    "    label_eq = pdist(clusters2, metric='hamming') # 0 if same, 1 if different\n",
    "    same_assign = assign_eq == 0\n",
    "    same_label = label_eq == 0\n",
    "    TP = np.sum(same_assign & same_label)\n",
    "    FP = np.sum(same_assign & ~same_label)\n",
    "    FN = np.sum(~same_assign & same_label)\n",
    "    TN = np.sum(~same_assign & ~same_label)\n",
    "\n",
    "\n",
    "    jaccard_index = TP / (TP + FP + FN + 1e-10)\n",
    "    dice_index = 2*TP / (2*TP + FP + FN + 1e-10)\n",
    "    rand_index = (TP + TN) / (TP + FP + FN + TN)\n",
    "    \n",
    "    return rand_index, dice_index, jaccard_index\n",
    "\n",
    "\n"
   ]
  },
  {
   "cell_type": "code",
   "execution_count": 7,
   "id": "b104d2c8",
   "metadata": {},
   "outputs": [
    {
     "name": "stdout",
     "output_type": "stream",
     "text": [
      "BPE Path 14329\n"
     ]
    },
    {
     "ename": "KeyboardInterrupt",
     "evalue": "",
     "output_type": "error",
     "traceback": [
      "\u001b[0;31m---------------------------------------------------------------------------\u001b[0m",
      "\u001b[0;31mKeyboardInterrupt\u001b[0m                         Traceback (most recent call last)",
      "Cell \u001b[0;32mIn[7], line 28\u001b[0m\n\u001b[1;32m     26\u001b[0m df_patho \u001b[38;5;241m=\u001b[39m df[df[\u001b[38;5;124m\"\u001b[39m\u001b[38;5;124mDMS_bin_score\u001b[39m\u001b[38;5;124m\"\u001b[39m] \u001b[38;5;241m==\u001b[39m \u001b[38;5;124m\"\u001b[39m\u001b[38;5;124mPathogenic\u001b[39m\u001b[38;5;124m\"\u001b[39m]\n\u001b[1;32m     27\u001b[0m \u001b[38;5;28mprint\u001b[39m(\u001b[38;5;124m\"\u001b[39m\u001b[38;5;124mBPE Path\u001b[39m\u001b[38;5;124m\"\u001b[39m, batch_calc_eq(tkz1, df_patho[\u001b[38;5;124m\"\u001b[39m\u001b[38;5;124mprotein_sequence\u001b[39m\u001b[38;5;124m\"\u001b[39m]\u001b[38;5;241m.\u001b[39mto_list()[:\u001b[38;5;241m30000\u001b[39m], df_patho[\u001b[38;5;124m\"\u001b[39m\u001b[38;5;124mmutated_sequence\u001b[39m\u001b[38;5;124m\"\u001b[39m]\u001b[38;5;241m.\u001b[39mto_list()[:\u001b[38;5;241m30000\u001b[39m]))\n\u001b[0;32m---> 28\u001b[0m \u001b[38;5;28mprint\u001b[39m(\u001b[38;5;124m\"\u001b[39m\u001b[38;5;124mPUMA Path\u001b[39m\u001b[38;5;124m\"\u001b[39m, \u001b[43mbatch_calc_eq\u001b[49m\u001b[43m(\u001b[49m\u001b[43mtkz2\u001b[49m\u001b[43m,\u001b[49m\u001b[43m \u001b[49m\u001b[43mdf_patho\u001b[49m\u001b[43m[\u001b[49m\u001b[38;5;124;43m\"\u001b[39;49m\u001b[38;5;124;43mprotein_sequence\u001b[39;49m\u001b[38;5;124;43m\"\u001b[39;49m\u001b[43m]\u001b[49m\u001b[38;5;241;43m.\u001b[39;49m\u001b[43mto_list\u001b[49m\u001b[43m(\u001b[49m\u001b[43m)\u001b[49m\u001b[43m[\u001b[49m\u001b[43m:\u001b[49m\u001b[38;5;241;43m30000\u001b[39;49m\u001b[43m]\u001b[49m\u001b[43m,\u001b[49m\u001b[43m \u001b[49m\u001b[43mdf_patho\u001b[49m\u001b[43m[\u001b[49m\u001b[38;5;124;43m\"\u001b[39;49m\u001b[38;5;124;43mmutated_sequence\u001b[39;49m\u001b[38;5;124;43m\"\u001b[39;49m\u001b[43m]\u001b[49m\u001b[38;5;241;43m.\u001b[39;49m\u001b[43mto_list\u001b[49m\u001b[43m(\u001b[49m\u001b[43m)\u001b[49m\u001b[43m[\u001b[49m\u001b[43m:\u001b[49m\u001b[38;5;241;43m30000\u001b[39;49m\u001b[43m]\u001b[49m\u001b[43m)\u001b[49m)\n\u001b[1;32m     29\u001b[0m \u001b[38;5;28mprint\u001b[39m(\u001b[38;5;124m\"\u001b[39m\u001b[38;5;124mBPE Benign\u001b[39m\u001b[38;5;124m\"\u001b[39m, batch_calc_eq(tkz1, df_benign[\u001b[38;5;124m\"\u001b[39m\u001b[38;5;124mprotein_sequence\u001b[39m\u001b[38;5;124m\"\u001b[39m]\u001b[38;5;241m.\u001b[39mto_list()[:\u001b[38;5;241m30000\u001b[39m], df_benign[\u001b[38;5;124m\"\u001b[39m\u001b[38;5;124mmutated_sequence\u001b[39m\u001b[38;5;124m\"\u001b[39m]\u001b[38;5;241m.\u001b[39mto_list()[:\u001b[38;5;241m30000\u001b[39m]))\n\u001b[1;32m     30\u001b[0m \u001b[38;5;28mprint\u001b[39m(\u001b[38;5;124m\"\u001b[39m\u001b[38;5;124mPUMA Benign\u001b[39m\u001b[38;5;124m\"\u001b[39m, batch_calc_eq(tkz2, df_benign[\u001b[38;5;124m\"\u001b[39m\u001b[38;5;124mprotein_sequence\u001b[39m\u001b[38;5;124m\"\u001b[39m]\u001b[38;5;241m.\u001b[39mto_list()[:\u001b[38;5;241m30000\u001b[39m], df_benign[\u001b[38;5;124m\"\u001b[39m\u001b[38;5;124mmutated_sequence\u001b[39m\u001b[38;5;124m\"\u001b[39m]\u001b[38;5;241m.\u001b[39mto_list()[:\u001b[38;5;241m30000\u001b[39m]))\n",
      "Cell \u001b[0;32mIn[7], line 20\u001b[0m, in \u001b[0;36mbatch_calc_eq\u001b[0;34m(tkz, ref_list, target_list)\u001b[0m\n\u001b[1;32m     18\u001b[0m ref_seq \u001b[38;5;241m=\u001b[39m ref_list[i]\n\u001b[1;32m     19\u001b[0m ref_enc \u001b[38;5;241m=\u001b[39m tkz\u001b[38;5;241m.\u001b[39mencode(ref_seq)\n\u001b[0;32m---> 20\u001b[0m mutated_enc \u001b[38;5;241m=\u001b[39m \u001b[43mtkz\u001b[49m\u001b[38;5;241;43m.\u001b[39;49m\u001b[43mencode\u001b[49m\u001b[43m(\u001b[49m\u001b[43mseq\u001b[49m\u001b[43m)\u001b[49m\n\u001b[1;32m     21\u001b[0m \u001b[38;5;28;01mif\u001b[39;00m ref_enc\u001b[38;5;241m.\u001b[39moffsets \u001b[38;5;241m==\u001b[39m mutated_enc\u001b[38;5;241m.\u001b[39moffsets:\n\u001b[1;32m     22\u001b[0m     ct \u001b[38;5;241m+\u001b[39m\u001b[38;5;241m=\u001b[39m \u001b[38;5;241m1\u001b[39m\n",
      "\u001b[0;31mKeyboardInterrupt\u001b[0m: "
     ]
    }
   ],
   "source": [
    "def batch_calc(tkz, ref_list, target_list):\n",
    "    scores = np.zeros((len(target_list), 4))\n",
    "    for i, seq in enumerate(target_list):\n",
    "        ref_seq = ref_list[i]\n",
    "        ref_enc = tkz.encode(ref_seq)\n",
    "        mutated_enc = tkz.encode(seq)\n",
    "        scores[i, :] = np.array([\n",
    "                calc_rand_index(ref_enc, mutated_enc),\n",
    "                calc_dice_from_encodings((ref_enc, mutated_enc)),\n",
    "                calc_dice_index(ref_enc, mutated_enc),\n",
    "                calc_jaccard_index(ref_enc, mutated_enc)\n",
    "        ])\n",
    "    return scores.mean(axis = 0)\n",
    "\n",
    "def batch_calc_eq(tkz, ref_list, target_list):\n",
    "    ct = 0\n",
    "    for i, seq in enumerate(target_list):\n",
    "        ref_seq = ref_list[i]\n",
    "        ref_enc = tkz.encode(ref_seq)\n",
    "        mutated_enc = tkz.encode(seq)\n",
    "        if ref_enc.offsets == mutated_enc.offsets:\n",
    "            ct += 1\n",
    "    return ct\n",
    "        \n",
    "df_benign = df[df[\"DMS_bin_score\"] == \"Benign\"]\n",
    "df_patho = df[df[\"DMS_bin_score\"] == \"Pathogenic\"]\n",
    "print(\"BPE Path\", batch_calc_eq(tkz1, df_patho[\"protein_sequence\"].to_list()[:30000], df_patho[\"mutated_sequence\"].to_list()[:30000]))\n",
    "print(\"PUMA Path\", batch_calc_eq(tkz2, df_patho[\"protein_sequence\"].to_list()[:30000], df_patho[\"mutated_sequence\"].to_list()[:30000]))\n",
    "print(\"BPE Benign\", batch_calc_eq(tkz1, df_benign[\"protein_sequence\"].to_list()[:30000], df_benign[\"mutated_sequence\"].to_list()[:30000]))\n",
    "print(\"PUMA Benign\", batch_calc_eq(tkz2, df_benign[\"protein_sequence\"].to_list()[:30000], df_benign[\"mutated_sequence\"].to_list()[:30000]))\n"
   ]
  },
  {
   "cell_type": "markdown",
   "id": "a5458204",
   "metadata": {},
   "source": [
    "# Notlar\n",
    "- Ayni kalan proteinler ne kadar ayni iki algoritma arasinda.\n",
    "- DMS datasindaki, fonksiyonel olarak coherent butun parcalar ile bizim tokenlarimiz arasinda bir uyusma var mi diye incele"
   ]
  },
  {
   "cell_type": "code",
   "execution_count": 61,
   "id": "1373e5e9",
   "metadata": {},
   "outputs": [],
   "source": [
    "encs1 = tkz2.encode_batch(df_patho[\"protein_sequence\"])\n",
    "encs2 = tkz2.encode_batch(df_patho[\"mutated_sequence\"])"
   ]
  },
  {
   "cell_type": "code",
   "execution_count": 16,
   "id": "cf284cde",
   "metadata": {},
   "outputs": [],
   "source": [
    "import os\n",
    "import pickle\n",
    "\n",
    "# If a small window in the tokenization is being considered\n",
    "# return the offsets only belonging to that window, (first offset starting from 0)\n",
    "def take_offsets_subset(offs, lower_idx, upper_idx):\n",
    "    new_offsets = []\n",
    "    for s,e in offs:\n",
    "        start, end = 0, 0\n",
    "        if e <= lower_idx:\n",
    "            continue\n",
    "        if s > upper_idx:\n",
    "            continue\n",
    "        if s < lower_idx:\n",
    "            start = 0\n",
    "        else:\n",
    "            start = s - lower_idx\n",
    "        if e > upper_idx:\n",
    "            end = upper_idx - lower_idx + 1\n",
    "        else:\n",
    "            end = e - lower_idx\n",
    "        new_offsets.append((start, end))\n",
    "    return new_offsets\n",
    "\n",
    "# Calculate all clustering analysis indices around a mutation position centered on a small window\n",
    "# Window size should be odd\n",
    "def calc_all_indices_windowed(mutation_pos, window_size, offsets1, offsets2):\n",
    "    seq_len = offsets1[-1][-1]\n",
    "    if seq_len <= window_size - 1:\n",
    "        print(f\"less than window_size {window_size}\")\n",
    "        return calc_all_indices(offsets1, offsets2)\n",
    "    else:\n",
    "        upper_idx = mutation_pos + window_size//2\n",
    "        lower_idx = mutation_pos - window_size//2\n",
    "        if upper_idx >= seq_len:\n",
    "            lower_idx += -(upper_idx - seq_len + 1)\n",
    "            upper_idx = seq_len - 1\n",
    "        if lower_idx < 0:\n",
    "            upper_idx -= lower_idx\n",
    "            lower_idx = 0\n",
    "        new1 = take_offsets_subset(offsets1, lower_idx, upper_idx)\n",
    "        new2 = take_offsets_subset(offsets2, lower_idx, upper_idx)\n",
    "        return calc_all_indices(new1, new2)\n",
    "    \n",
    "# Calculate Jaccard index around a mutation position centered on a small window\n",
    "# Window size should be odd\n",
    "def calc_jaccard_windowed(mutation_pos, window_size, offsets1, offsets2):\n",
    "    seq_len = offsets1[-1][-1]\n",
    "    if seq_len <= window_size - 1:\n",
    "        print(f\"less than window_size {window_size}\")\n",
    "        return calc_jaccard_index(offsets1, offsets2)\n",
    "    else:\n",
    "        upper_idx = mutation_pos + window_size//2\n",
    "        lower_idx = mutation_pos - window_size//2\n",
    "        if upper_idx >= seq_len:\n",
    "            lower_idx += -(upper_idx - seq_len + 1)\n",
    "            upper_idx = seq_len - 1\n",
    "        if lower_idx < 0:\n",
    "            upper_idx -= lower_idx\n",
    "            lower_idx = 0\n",
    "        new1 = take_offsets_subset(offsets1, lower_idx, upper_idx)\n",
    "        new2 = take_offsets_subset(offsets2, lower_idx, upper_idx)\n",
    "        return calc_jaccard_index(new1, new2)\n",
    "from tqdm import tqdm\n",
    "\n",
    "# Calculate the metrics for whole dataframe\n",
    "def batch_process_encodings(tkz_path):\n",
    "    global df\n",
    "    tkz = Tokenizer.from_file(tkz_path)\n",
    "    mutants = df[\"mutant\"].to_list()\n",
    "    encs1 = tkz.encode_batch(df[\"protein_sequence\"])\n",
    "    encs2 = tkz.encode_batch(df[\"mutated_sequence\"])\n",
    "    mutants = [int(mut[1:-1]) for mut in mutants]\n",
    "    total_size = len(mutants)\n",
    "    out_dict = {\n",
    "        \"jaccard\": np.zeros((total_size, )),\n",
    "        \"windowed_jaccard\": np.zeros((total_size, )),\n",
    "        \"is_eq\": np.zeros((total_size, ), dtype=np.bool),\n",
    "    }\n",
    "    for i, (enc1, enc2) in tqdm(enumerate(zip(encs1, encs2))):\n",
    "        offsets1 = enc1.offsets\n",
    "        offsets2 = enc2.offsets\n",
    "        if offsets1 == offsets2:\n",
    "            out_dict[\"jaccard\"][i] = 1.0\n",
    "            out_dict[\"is_eq\"][i] = True\n",
    "        else:\n",
    "            out_dict[\"jaccard\"][i] = calc_jaccard_index(offsets1, offsets2)\n",
    "            mutation_pos = mutants[i]\n",
    "            out_dict[\"windowed_jaccard\"][i] = calc_jaccard_windowed(mutation_pos, 51, offsets1, offsets2)\n",
    "    out_dict[\"mean_jaccard\"] = np.mean(out_dict[\"jaccard\"])\n",
    "    out_dict[\"mean_windowed_jaccard\"] = np.mean(out_dict[\"windowed_jaccard\"])\n",
    "    out_dict[\"total_eq\"] = np.sum(out_dict[\"is_eq\"])\n",
    "\n",
    "    name = os.path.splitext(os.path.basename(tkz_path))[0]\n",
    "    out_path = os.path.join(\"./test_outs/\", f\"{name}.pkl\")\n",
    "    with open(out_path, \"wb\") as f:\n",
    "        pickle.dump(out_dict, f)\n",
    "    return out_dict\n",
    "    \n",
    "        \n",
    "\n",
    "            "
   ]
  },
  {
   "cell_type": "code",
   "execution_count": 16,
   "id": "6736c6ad",
   "metadata": {},
   "outputs": [],
   "source": [
    "import numpy as np\n",
    "from multiprocessing import Pool\n",
    "from tokenizers import Tokenizer\n",
    "\n",
    "# Global read-only DataFrame\n",
    "df = None\n",
    "\n",
    "def init_worker(df_shared):\n",
    "    global df\n",
    "    df = df_shared\n",
    "\n",
    "def run_all_tokenizers(df_input, tokenizer_paths, num_workers=4):\n",
    "    global df\n",
    "    df = df_input  # set globally once\n",
    "\n",
    "    with Pool(processes=num_workers, initializer=init_worker, initargs=(df,)) as pool:\n",
    "        result_paths = pool.map(batch_process_encodings, tokenizer_paths)\n",
    "\n",
    "    return result_paths"
   ]
  },
  {
   "cell_type": "code",
   "execution_count": 12,
   "id": "b514ae96",
   "metadata": {},
   "outputs": [
    {
     "data": {
      "text/plain": [
       "['/cta/share/users/mutbpe/tokenizers/blosum62/hf_uniref50_mutbpe_0.7_3_12_0_800.json',\n",
       " '/cta/share/users/mutbpe/tokenizers/blosum62/hf_uniref50_bpe_6400.json',\n",
       " '/cta/share/users/mutbpe/tokenizers/blosum62/hf_uniref90pre_mutbpe_0.8_3_12_0.05_51200.json',\n",
       " '/cta/share/users/mutbpe/tokenizers/blosum62/hf_uniref90pre_mutbpe_0.9_3_12_0.05_1600.json',\n",
       " '/cta/share/users/mutbpe/tokenizers/blosum62/hf_uniref90_mutbpe_0.8_3_12_0.005_1600.json']"
      ]
     },
     "execution_count": 12,
     "metadata": {},
     "output_type": "execute_result"
    }
   ],
   "source": [
    "import os\n",
    "base_path = \"/cta/share/users/mutbpe/tokenizers/blosum62/\"\n",
    "tkzs = os.listdir(base_path)\n",
    "tkzs = list(filter(lambda x: x.startswith(\"hf\"), tkzs))\n",
    "tkzs = [base_path + p for p in tkzs]\n",
    "tkzs[:5]"
   ]
  },
  {
   "cell_type": "code",
   "execution_count": 16,
   "id": "b9bcd53a",
   "metadata": {},
   "outputs": [],
   "source": [
    "already_calculated = os.listdir(\"./patho_outs/\")\n",
    "already_calculated = [s[:-4] for s in already_calculated]"
   ]
  },
  {
   "cell_type": "code",
   "execution_count": 17,
   "id": "7891793e",
   "metadata": {},
   "outputs": [
    {
     "ename": "NameError",
     "evalue": "name 'tkzs' is not defined",
     "output_type": "error",
     "traceback": [
      "\u001b[0;31m---------------------------------------------------------------------------\u001b[0m",
      "\u001b[0;31mNameError\u001b[0m                                 Traceback (most recent call last)",
      "Cell \u001b[0;32mIn[17], line 1\u001b[0m\n\u001b[0;32m----> 1\u001b[0m tkz_paths \u001b[38;5;241m=\u001b[39m [p \u001b[38;5;28;01mfor\u001b[39;00m p \u001b[38;5;129;01min\u001b[39;00m \u001b[43mtkzs\u001b[49m \u001b[38;5;28;01mif\u001b[39;00m p \u001b[38;5;129;01mnot\u001b[39;00m \u001b[38;5;129;01min\u001b[39;00m already_calculated]\n\u001b[1;32m      2\u001b[0m run_all_tokenizers(df_benign, tkz_paths, num_workers\u001b[38;5;241m=\u001b[39m\u001b[38;5;241m20\u001b[39m)\n",
      "\u001b[0;31mNameError\u001b[0m: name 'tkzs' is not defined"
     ]
    }
   ],
   "source": [
    "tkz_paths = [p for p in tkzs if p not in already_calculated]\n",
    "run_all_tokenizers(df_benign, tkz_paths, num_workers=20)"
   ]
  },
  {
   "cell_type": "code",
   "execution_count": 17,
   "id": "d64dd0f9",
   "metadata": {},
   "outputs": [],
   "source": [
    "import os\n",
    "import pickle\n",
    "base_path = \"./patho_outs/\"\n",
    "all_name_list = os.listdir(base_path)\n",
    "value_list = []\n",
    "name_list = []\n",
    "\n",
    "for name in all_name_list:\n",
    "    if name.startswith(\"hf_uniref50\") and \"25600\" in name:\n",
    "        with open(base_path + name, \"rb\") as f:\n",
    "            value_list.append(pickle.load(f))\n",
    "            name_list.append(name)\n"
   ]
  },
  {
   "cell_type": "code",
   "execution_count": 22,
   "id": "bcccc373",
   "metadata": {},
   "outputs": [
    {
     "name": "stdout",
     "output_type": "stream",
     "text": [
      "0.4059774213863139 hf_uniref50pre_mutbpe_0.9_3_12_0.005_25600.pkl 16985\n",
      "0.40641657242470697 hf_uniref50pre_mutbpe_0.9_3_12_0_25600.pkl 16970\n",
      "0.40682941684415447 hf_uniref50pre_mutbpe_0.9_3_12_0.05_25600.pkl 16954\n",
      "0.4100113602328763 hf_uniref50pre_bpe_25600.pkl 16828\n",
      "0.41482680203724476 hf_uniref50pre_mutbpe_0.8_3_12_0.005_25600.pkl 16740\n",
      "0.4149481804143139 hf_uniref50pre_mutbpe_0.8_3_12_0_25600.pkl 16733\n",
      "0.41723401470459026 hf_uniref50_mutbpe_0.8_3_12_0_25600.pkl 16657\n",
      "0.41691607768538413 hf_uniref50pre_mutbpe_0.8_3_12_0.05_25600.pkl 16655\n",
      "0.4172898620742026 hf_uniref50_mutbpe_0.8_3_12_0.005_25600.pkl 16654\n",
      "0.41971480841418746 hf_uniref50_mutbpe_0.7_3_12_0_25600.pkl 16611\n",
      "0.41715670259266546 hf_uniref50_mutbpe_0.9_3_12_0_25600.pkl 16609\n",
      "0.41983346329278787 hf_uniref50_mutbpe_0.7_3_12_0.005_25600.pkl 16607\n",
      "0.4172813607394224 hf_uniref50_mutbpe_0.9_3_12_0.005_25600.pkl 16605\n",
      "0.41945478477314385 hf_uniref50_mutbpe_0.8_3_12_0.05_25600.pkl 16571\n",
      "0.4184299844156744 hf_uniref50_mutbpe_0.9_3_12_0.05_25600.pkl 16559\n",
      "0.42255825593471164 hf_uniref50pre_mutbpe_0.7_3_12_0_25600.pkl 16522\n",
      "0.42301456097564083 hf_uniref50pre_mutbpe_0.7_3_12_0.005_25600.pkl 16503\n",
      "0.42357251467155255 hf_uniref50_mutbpe_0.7_3_12_0.05_25600.pkl 16449\n",
      "0.42476921851284793 hf_uniref50pre_mutbpe_0.7_3_12_0.05_25600.pkl 16413\n",
      "0.4244470882856257 hf_uniref50_bpe_25600.pkl 16330\n"
     ]
    }
   ],
   "source": [
    "all_pairs = list(zip(value_list, name_list))\n",
    "all_pairs.sort(key = lambda x: x[0][\"total_eq\"], reverse=True)\n",
    "for val, name in all_pairs:\n",
    "    print(val[\"mean_windowed_jaccard\"], name, val[\"total_eq\"])"
   ]
  },
  {
   "cell_type": "code",
   "execution_count": 11,
   "id": "6b60f225",
   "metadata": {},
   "outputs": [
    {
     "data": {
      "text/plain": [
       "20"
      ]
     },
     "execution_count": 11,
     "metadata": {},
     "output_type": "execute_result"
    }
   ],
   "source": [
    "value_list[2][\"jaccard\"].shape\n",
    "len(value_list)"
   ]
  },
  {
   "cell_type": "code",
   "execution_count": 16,
   "id": "010ea408",
   "metadata": {},
   "outputs": [
    {
     "data": {
      "image/png": "[encoded data removed]",
      "text/plain": [
       "<Figure size 640x480 with 1 Axes>"
      ]
     },
     "metadata": {},
     "output_type": "display_data"
    }
   ],
   "source": [
    "import matplotlib.pyplot as plt\n",
    "import numpy as np\n",
    "\n",
    "# Example setup\n",
    "# all_pairs = [(val_dict, name), ...]\n",
    "# val_dict is assumed to contain a key \"total_eq\"\n",
    "# Example: all_pairs = [({\"total_eq\": 0.25}, \"A\"), ({\"total_eq\": 0.35}, \"B\"), ...]\n",
    "\n",
    "target_name = \"hf_uniref50_bpe_25600.pkl\"  # Change this to the name you want to highlight\n",
    "\n",
    "# Extract values and find the target value\n",
    "values = [val[\"total_eq\"] for val, name in all_pairs]\n",
    "target_value = next(val[\"total_eq\"] for val, name in all_pairs if name == target_name)\n",
    "\n",
    "# Create histogram\n",
    "n, bins, patches = plt.hist(values, bins=20, edgecolor='black')\n",
    "\n",
    "# Highlight the bin containing the target value\n",
    "for bin_start, bin_end, patch in zip(bins[:-1], bins[1:], patches):\n",
    "    if bin_start <= target_value < bin_end:\n",
    "        patch.set_facecolor('red')\n",
    "        break  # assuming only one match\n",
    "\n",
    "# Labeling\n",
    "plt.xlabel(\"total_eq\")\n",
    "plt.ylabel(\"Frequency\")\n",
    "plt.title(f\"Histogram of total_eq values\\nHighlight: {target_name}\")\n",
    "plt.show()\n"
   ]
  },
  {
   "cell_type": "code",
   "execution_count": 24,
   "id": "aaeedbe9",
   "metadata": {},
   "outputs": [
    {
     "data": {
      "image/png": "[encoded data removed]",
      "text/plain": [
       "<Figure size 640x480 with 1 Axes>"
      ]
     },
     "metadata": {},
     "output_type": "display_data"
    }
   ],
   "source": [
    "import matplotlib.pyplot as plt\n",
    "\n",
    "# Prepare data\n",
    "x = list(range(len(all_pairs)))  # or use np.arange\n",
    "# y = [val[\"total_eq\"]/len(val[\"jaccard\"]) for val, name in all_pairs]\n",
    "y = [val[\"mean_windowed_jaccard\"] for val, name in all_pairs]\n",
    "\n",
    "# Extract the target\n",
    "target_name = \"hf_uniref50_bpe_25600.pkl\"  # change this to your target\n",
    "target_index = next(i for i, (val, name) in enumerate(all_pairs) if name == target_name)\n",
    "target_y = y[target_index]\n",
    "\n",
    "# Plot all points\n",
    "plt.scatter(x, y, label='PUMA vocabs', color='blue')\n",
    "\n",
    "# Highlight the target point\n",
    "plt.scatter([target_index], [target_y], color='red', label=\"Standard BPE\", zorder=5)\n",
    "\n",
    "# Optionally annotate\n",
    "plt.annotate(\"Standard BPE\", (target_index, target_y), textcoords=\"offset points\", xytext=(5,5), ha='left', color='red')\n",
    "\n",
    "# Labeling\n",
    "plt.xlabel(\"Vocabulary\")\n",
    "plt.ylabel(\"Mean Jaccard index\")\n",
    "plt.title(\"Scatter Plot of mean Jaccard index values on Pathogenic variants\")\n",
    "plt.legend()\n",
    "plt.grid(True)\n",
    "plt.show()\n"
   ]
  },
  {
   "cell_type": "code",
   "execution_count": null,
   "id": "08c98c95",
   "metadata": {},
   "outputs": [
    {
     "data": {
      "text/plain": [
       "[(0, 1),\n",
       " (1, 2),\n",
       " (2, 3),\n",
       " (3, 4),\n",
       " (4, 5),\n",
       " (5, 6),\n",
       " (6, 7),\n",
       " (7, 8),\n",
       " (8, 9),\n",
       " (9, 10),\n",
       " (10, 11),\n",
       " (11, 12),\n",
       " (12, 13),\n",
       " (13, 14),\n",
       " (14, 15),\n",
       " (15, 16),\n",
       " (16, 17),\n",
       " (17, 18),\n",
       " (18, 19),\n",
       " (19, 20),\n",
       " (20, 21),\n",
       " (21, 22),\n",
       " (22, 23),\n",
       " (23, 24),\n",
       " (24, 25),\n",
       " (25, 26),\n",
       " (26, 27),\n",
       " (27, 28),\n",
       " (28, 29),\n",
       " (29, 30),\n",
       " (30, 31),\n",
       " (31, 32),\n",
       " (32, 33),\n",
       " (33, 34),\n",
       " (34, 35),\n",
       " (35, 36),\n",
       " (36, 37),\n",
       " (37, 38),\n",
       " (38, 39),\n",
       " (39, 40),\n",
       " (40, 41),\n",
       " (41, 42),\n",
       " (42, 43),\n",
       " (43, 44),\n",
       " (44, 45),\n",
       " (45, 46),\n",
       " (46, 47),\n",
       " (47, 48),\n",
       " (48, 49),\n",
       " (49, 50)]"
      ]
     },
     "execution_count": 26,
     "metadata": {},
     "output_type": "execute_result"
    }
   ],
   "source": [
    "\n",
    "take_offsets_subset(list(zip(range(100), range(1,101))), 50, 100)"
   ]
  },
  {
   "cell_type": "code",
   "execution_count": 36,
   "id": "978b2407",
   "metadata": {},
   "outputs": [
    {
     "data": {
      "text/plain": [
       "[(0, 3),\n",
       " (3, 8),\n",
       " (8, 11),\n",
       " (11, 14),\n",
       " (14, 18),\n",
       " (18, 22),\n",
       " (22, 26),\n",
       " (26, 29),\n",
       " (29, 31)]"
      ]
     },
     "execution_count": 36,
     "metadata": {},
     "output_type": "execute_result"
    }
   ],
   "source": [
    "offs = tkz1.encode(df_benign[\"mutated_sequence\"].to_list()[0]).offsets\n",
    "take_offsets_subset(offs, 0, 30)"
   ]
  },
  {
   "cell_type": "code",
   "execution_count": null,
   "id": "9d64b8b9",
   "metadata": {},
   "outputs": [],
   "source": []
  }
 ],
 "metadata": {
  "kernelspec": {
   "display_name": ".venv",
   "language": "python",
   "name": "python3"
  },
  "language_info": {
   "codemirror_mode": {
    "name": "ipython",
    "version": 3
   },
   "file_extension": ".py",
   "mimetype": "text/x-python",
   "name": "python",
   "nbconvert_exporter": "python",
   "pygments_lexer": "ipython3",
   "version": "3.12.3"
  }
 },
 "nbformat": 4,
 "nbformat_minor": 5
}
