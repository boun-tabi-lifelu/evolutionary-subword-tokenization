{
 "cells": [
  {
   "cell_type": "markdown",
   "id": "78e24ab9",
   "metadata": {},
   "source": [
    "# Notebook corresponding to case studies taken from MaveDB"
   ]
  },
  {
   "cell_type": "code",
   "execution_count": 1,
   "id": "0b548369",
   "metadata": {},
   "outputs": [],
   "source": [
    "from pathlib import Path"
   ]
  },
  {
   "cell_type": "code",
   "execution_count": 2,
   "id": "ce6ae51d",
   "metadata": {},
   "outputs": [
    {
     "data": {
      "text/plain": [
       "[PosixPath('/cta/share/users/ProteinGym/Clinical_Variants(Substitutions)/NP_003110.1.csv'),\n",
       " PosixPath('/cta/share/users/ProteinGym/Clinical_Variants(Substitutions)/NP_005076.3.csv'),\n",
       " PosixPath('/cta/share/users/ProteinGym/Clinical_Variants(Substitutions)/NP_005493.2.csv'),\n",
       " PosixPath('/cta/share/users/ProteinGym/Clinical_Variants(Substitutions)/NP_057097.2.csv'),\n",
       " PosixPath('/cta/share/users/ProteinGym/Clinical_Variants(Substitutions)/NP_055790.1.csv')]"
      ]
     },
     "execution_count": 2,
     "metadata": {},
     "output_type": "execute_result"
    }
   ],
   "source": [
    "import os\n",
    "base_path = Path(\"/cta/share/users/ProteinGym/Clinical_Variants(Substitutions)\")\n",
    "list(base_path.glob(\"*.csv\"))[:5]"
   ]
  },
  {
   "cell_type": "code",
   "execution_count": 3,
   "id": "ee12e2f4",
   "metadata": {},
   "outputs": [
    {
     "data": {
      "text/html": [
       "<div>\n",
       "<style scoped>\n",
       "    .dataframe tbody tr th:only-of-type {\n",
       "        vertical-align: middle;\n",
       "    }\n",
       "\n",
       "    .dataframe tbody tr th {\n",
       "        vertical-align: top;\n",
       "    }\n",
       "\n",
       "    .dataframe thead th {\n",
       "        text-align: right;\n",
       "    }\n",
       "</style>\n",
       "<table border=\"1\" class=\"dataframe\">\n",
       "  <thead>\n",
       "    <tr style=\"text-align: right;\">\n",
       "      <th></th>\n",
       "      <th>Unnamed: 0</th>\n",
       "      <th>protein</th>\n",
       "      <th>protein_sequence</th>\n",
       "      <th>mutant</th>\n",
       "      <th>mutated_sequence</th>\n",
       "      <th>DMS_bin_score</th>\n",
       "    </tr>\n",
       "  </thead>\n",
       "  <tbody>\n",
       "    <tr>\n",
       "      <th>0</th>\n",
       "      <td>67567</td>\n",
       "      <td>NP_003110.1</td>\n",
       "      <td>MAVLLLLLRALRRGPGPGPRPLWGPGPAWSPGFPARPGRGRPYMAS...</td>\n",
       "      <td>R13G</td>\n",
       "      <td>MAVLLLLLRALRGGPGPGPRPLWGPGPAWSPGFPARPGRGRPYMAS...</td>\n",
       "      <td>Benign</td>\n",
       "    </tr>\n",
       "    <tr>\n",
       "      <th>1</th>\n",
       "      <td>67568</td>\n",
       "      <td>NP_003110.1</td>\n",
       "      <td>MAVLLLLLRALRRGPGPGPRPLWGPGPAWSPGFPARPGRGRPYMAS...</td>\n",
       "      <td>G32E</td>\n",
       "      <td>MAVLLLLLRALRRGPGPGPRPLWGPGPAWSPEFPARPGRGRPYMAS...</td>\n",
       "      <td>Benign</td>\n",
       "    </tr>\n",
       "    <tr>\n",
       "      <th>2</th>\n",
       "      <td>67569</td>\n",
       "      <td>NP_003110.1</td>\n",
       "      <td>MAVLLLLLRALRRGPGPGPRPLWGPGPAWSPGFPARPGRGRPYMAS...</td>\n",
       "      <td>K113R</td>\n",
       "      <td>MAVLLLLLRALRRGPGPGPRPLWGPGPAWSPGFPARPGRGRPYMAS...</td>\n",
       "      <td>Benign</td>\n",
       "    </tr>\n",
       "    <tr>\n",
       "      <th>5</th>\n",
       "      <td>67572</td>\n",
       "      <td>NP_003110.1</td>\n",
       "      <td>MAVLLLLLRALRRGPGPGPRPLWGPGPAWSPGFPARPGRGRPYMAS...</td>\n",
       "      <td>V183I</td>\n",
       "      <td>MAVLLLLLRALRRGPGPGPRPLWGPGPAWSPGFPARPGRGRPYMAS...</td>\n",
       "      <td>Benign</td>\n",
       "    </tr>\n",
       "    <tr>\n",
       "      <th>6</th>\n",
       "      <td>67573</td>\n",
       "      <td>NP_003110.1</td>\n",
       "      <td>MAVLLLLLRALRRGPGPGPRPLWGPGPAWSPGFPARPGRGRPYMAS...</td>\n",
       "      <td>R294H</td>\n",
       "      <td>MAVLLLLLRALRRGPGPGPRPLWGPGPAWSPGFPARPGRGRPYMAS...</td>\n",
       "      <td>Benign</td>\n",
       "    </tr>\n",
       "    <tr>\n",
       "      <th>...</th>\n",
       "      <td>...</td>\n",
       "      <td>...</td>\n",
       "      <td>...</td>\n",
       "      <td>...</td>\n",
       "      <td>...</td>\n",
       "      <td>...</td>\n",
       "    </tr>\n",
       "    <tr>\n",
       "      <th>62715</th>\n",
       "      <td>18955</td>\n",
       "      <td>NP_004647.1</td>\n",
       "      <td>MNKGWLELESDPGLFTLLVEDFGVKGVQVEEIYDLQSKCQGPVYGF...</td>\n",
       "      <td>S596G</td>\n",
       "      <td>MNKGWLELESDPGLFTLLVEDFGVKGVQVEEIYDLQSKCQGPVYGF...</td>\n",
       "      <td>Benign</td>\n",
       "    </tr>\n",
       "    <tr>\n",
       "      <th>62717</th>\n",
       "      <td>18957</td>\n",
       "      <td>NP_004647.1</td>\n",
       "      <td>MNKGWLELESDPGLFTLLVEDFGVKGVQVEEIYDLQSKCQGPVYGF...</td>\n",
       "      <td>V476A</td>\n",
       "      <td>MNKGWLELESDPGLFTLLVEDFGVKGVQVEEIYDLQSKCQGPVYGF...</td>\n",
       "      <td>Benign</td>\n",
       "    </tr>\n",
       "    <tr>\n",
       "      <th>62718</th>\n",
       "      <td>18958</td>\n",
       "      <td>NP_004647.1</td>\n",
       "      <td>MNKGWLELESDPGLFTLLVEDFGVKGVQVEEIYDLQSKCQGPVYGF...</td>\n",
       "      <td>T423K</td>\n",
       "      <td>MNKGWLELESDPGLFTLLVEDFGVKGVQVEEIYDLQSKCQGPVYGF...</td>\n",
       "      <td>Benign</td>\n",
       "    </tr>\n",
       "    <tr>\n",
       "      <th>62719</th>\n",
       "      <td>18959</td>\n",
       "      <td>NP_004647.1</td>\n",
       "      <td>MNKGWLELESDPGLFTLLVEDFGVKGVQVEEIYDLQSKCQGPVYGF...</td>\n",
       "      <td>N290S</td>\n",
       "      <td>MNKGWLELESDPGLFTLLVEDFGVKGVQVEEIYDLQSKCQGPVYGF...</td>\n",
       "      <td>Benign</td>\n",
       "    </tr>\n",
       "    <tr>\n",
       "      <th>62725</th>\n",
       "      <td>18965</td>\n",
       "      <td>NP_004647.1</td>\n",
       "      <td>MNKGWLELESDPGLFTLLVEDFGVKGVQVEEIYDLQSKCQGPVYGF...</td>\n",
       "      <td>G41S</td>\n",
       "      <td>MNKGWLELESDPGLFTLLVEDFGVKGVQVEEIYDLQSKCQSPVYGF...</td>\n",
       "      <td>Benign</td>\n",
       "    </tr>\n",
       "  </tbody>\n",
       "</table>\n",
       "<p>30727 rows × 6 columns</p>\n",
       "</div>"
      ],
      "text/plain": [
       "       Unnamed: 0      protein  \\\n",
       "0           67567  NP_003110.1   \n",
       "1           67568  NP_003110.1   \n",
       "2           67569  NP_003110.1   \n",
       "5           67572  NP_003110.1   \n",
       "6           67573  NP_003110.1   \n",
       "...           ...          ...   \n",
       "62715       18955  NP_004647.1   \n",
       "62717       18957  NP_004647.1   \n",
       "62718       18958  NP_004647.1   \n",
       "62719       18959  NP_004647.1   \n",
       "62725       18965  NP_004647.1   \n",
       "\n",
       "                                        protein_sequence mutant  \\\n",
       "0      MAVLLLLLRALRRGPGPGPRPLWGPGPAWSPGFPARPGRGRPYMAS...   R13G   \n",
       "1      MAVLLLLLRALRRGPGPGPRPLWGPGPAWSPGFPARPGRGRPYMAS...   G32E   \n",
       "2      MAVLLLLLRALRRGPGPGPRPLWGPGPAWSPGFPARPGRGRPYMAS...  K113R   \n",
       "5      MAVLLLLLRALRRGPGPGPRPLWGPGPAWSPGFPARPGRGRPYMAS...  V183I   \n",
       "6      MAVLLLLLRALRRGPGPGPRPLWGPGPAWSPGFPARPGRGRPYMAS...  R294H   \n",
       "...                                                  ...    ...   \n",
       "62715  MNKGWLELESDPGLFTLLVEDFGVKGVQVEEIYDLQSKCQGPVYGF...  S596G   \n",
       "62717  MNKGWLELESDPGLFTLLVEDFGVKGVQVEEIYDLQSKCQGPVYGF...  V476A   \n",
       "62718  MNKGWLELESDPGLFTLLVEDFGVKGVQVEEIYDLQSKCQGPVYGF...  T423K   \n",
       "62719  MNKGWLELESDPGLFTLLVEDFGVKGVQVEEIYDLQSKCQGPVYGF...  N290S   \n",
       "62725  MNKGWLELESDPGLFTLLVEDFGVKGVQVEEIYDLQSKCQGPVYGF...   G41S   \n",
       "\n",
       "                                        mutated_sequence DMS_bin_score  \n",
       "0      MAVLLLLLRALRGGPGPGPRPLWGPGPAWSPGFPARPGRGRPYMAS...        Benign  \n",
       "1      MAVLLLLLRALRRGPGPGPRPLWGPGPAWSPEFPARPGRGRPYMAS...        Benign  \n",
       "2      MAVLLLLLRALRRGPGPGPRPLWGPGPAWSPGFPARPGRGRPYMAS...        Benign  \n",
       "5      MAVLLLLLRALRRGPGPGPRPLWGPGPAWSPGFPARPGRGRPYMAS...        Benign  \n",
       "6      MAVLLLLLRALRRGPGPGPRPLWGPGPAWSPGFPARPGRGRPYMAS...        Benign  \n",
       "...                                                  ...           ...  \n",
       "62715  MNKGWLELESDPGLFTLLVEDFGVKGVQVEEIYDLQSKCQGPVYGF...        Benign  \n",
       "62717  MNKGWLELESDPGLFTLLVEDFGVKGVQVEEIYDLQSKCQGPVYGF...        Benign  \n",
       "62718  MNKGWLELESDPGLFTLLVEDFGVKGVQVEEIYDLQSKCQGPVYGF...        Benign  \n",
       "62719  MNKGWLELESDPGLFTLLVEDFGVKGVQVEEIYDLQSKCQGPVYGF...        Benign  \n",
       "62725  MNKGWLELESDPGLFTLLVEDFGVKGVQVEEIYDLQSKCQSPVYGF...        Benign  \n",
       "\n",
       "[30727 rows x 6 columns]"
      ]
     },
     "execution_count": 3,
     "metadata": {},
     "output_type": "execute_result"
    }
   ],
   "source": [
    "import pandas as pd\n",
    "# Use a generator expression to read and concatenate CSVs\n",
    "df = pd.concat((pd.read_csv(file) for file in base_path.rglob(\"*.csv\")), ignore_index=True)\n",
    "# df = pd.read_csv('/cta/share/users/ProteinGym/Clinical_Variants(Substitutions)/NP_055790.1.csv')\n",
    "df[df[\"DMS_bin_score\"] == \"Benign\"]"
   ]
  },
  {
   "cell_type": "markdown",
   "id": "f6617469",
   "metadata": {},
   "source": [
    "# Apply segmentation"
   ]
  },
  {
   "cell_type": "code",
   "execution_count": 4,
   "id": "e0e5b692",
   "metadata": {},
   "outputs": [],
   "source": [
    "import numpy as np\n",
    "from tokenizers import Tokenizer\n",
    "from vocabulary_functions import calc_dice_from_encodings"
   ]
  },
  {
   "cell_type": "code",
   "execution_count": 5,
   "id": "a66bb3b8",
   "metadata": {},
   "outputs": [
    {
     "ename": "KeyError",
     "evalue": "0",
     "output_type": "error",
     "traceback": [
      "\u001b[0;31m---------------------------------------------------------------------------\u001b[0m",
      "\u001b[0;31mKeyError\u001b[0m                                  Traceback (most recent call last)",
      "File \u001b[0;32m~/working_dir/evolutionary-subword-tokenization/Prog/.venv/lib/python3.12/site-packages/pandas/core/indexes/base.py:3805\u001b[0m, in \u001b[0;36mIndex.get_loc\u001b[0;34m(self, key)\u001b[0m\n\u001b[1;32m   3804\u001b[0m \u001b[38;5;28;01mtry\u001b[39;00m:\n\u001b[0;32m-> 3805\u001b[0m     \u001b[38;5;28;01mreturn\u001b[39;00m \u001b[38;5;28;43mself\u001b[39;49m\u001b[38;5;241;43m.\u001b[39;49m\u001b[43m_engine\u001b[49m\u001b[38;5;241;43m.\u001b[39;49m\u001b[43mget_loc\u001b[49m\u001b[43m(\u001b[49m\u001b[43mcasted_key\u001b[49m\u001b[43m)\u001b[49m\n\u001b[1;32m   3806\u001b[0m \u001b[38;5;28;01mexcept\u001b[39;00m \u001b[38;5;167;01mKeyError\u001b[39;00m \u001b[38;5;28;01mas\u001b[39;00m err:\n",
      "File \u001b[0;32mindex.pyx:167\u001b[0m, in \u001b[0;36mpandas._libs.index.IndexEngine.get_loc\u001b[0;34m()\u001b[0m\n",
      "File \u001b[0;32mindex.pyx:196\u001b[0m, in \u001b[0;36mpandas._libs.index.IndexEngine.get_loc\u001b[0;34m()\u001b[0m\n",
      "File \u001b[0;32mpandas/_libs/hashtable_class_helper.pxi:2606\u001b[0m, in \u001b[0;36mpandas._libs.hashtable.Int64HashTable.get_item\u001b[0;34m()\u001b[0m\n",
      "File \u001b[0;32mpandas/_libs/hashtable_class_helper.pxi:2630\u001b[0m, in \u001b[0;36mpandas._libs.hashtable.Int64HashTable.get_item\u001b[0;34m()\u001b[0m\n",
      "\u001b[0;31mKeyError\u001b[0m: 0",
      "\nThe above exception was the direct cause of the following exception:\n",
      "\u001b[0;31mKeyError\u001b[0m                                  Traceback (most recent call last)",
      "Cell \u001b[0;32mIn[5], line 1\u001b[0m\n\u001b[0;32m----> 1\u001b[0m target_seq \u001b[38;5;241m=\u001b[39m \u001b[43mdf\u001b[49m\u001b[43m[\u001b[49m\u001b[43mdf\u001b[49m\u001b[43m[\u001b[49m\u001b[38;5;124;43m'\u001b[39;49m\u001b[38;5;124;43mUnnamed: 0\u001b[39;49m\u001b[38;5;124;43m'\u001b[39;49m\u001b[43m]\u001b[49m\u001b[38;5;241;43m==\u001b[39;49m\u001b[38;5;241;43m77688\u001b[39;49m\u001b[43m]\u001b[49m\u001b[43m[\u001b[49m\u001b[38;5;124;43m\"\u001b[39;49m\u001b[38;5;124;43mprotein_sequence\u001b[39;49m\u001b[38;5;124;43m\"\u001b[39;49m\u001b[43m]\u001b[49m\u001b[43m[\u001b[49m\u001b[38;5;241;43m0\u001b[39;49m\u001b[43m]\u001b[49m\n",
      "File \u001b[0;32m~/working_dir/evolutionary-subword-tokenization/Prog/.venv/lib/python3.12/site-packages/pandas/core/series.py:1121\u001b[0m, in \u001b[0;36mSeries.__getitem__\u001b[0;34m(self, key)\u001b[0m\n\u001b[1;32m   1118\u001b[0m     \u001b[38;5;28;01mreturn\u001b[39;00m \u001b[38;5;28mself\u001b[39m\u001b[38;5;241m.\u001b[39m_values[key]\n\u001b[1;32m   1120\u001b[0m \u001b[38;5;28;01melif\u001b[39;00m key_is_scalar:\n\u001b[0;32m-> 1121\u001b[0m     \u001b[38;5;28;01mreturn\u001b[39;00m \u001b[38;5;28;43mself\u001b[39;49m\u001b[38;5;241;43m.\u001b[39;49m\u001b[43m_get_value\u001b[49m\u001b[43m(\u001b[49m\u001b[43mkey\u001b[49m\u001b[43m)\u001b[49m\n\u001b[1;32m   1123\u001b[0m \u001b[38;5;66;03m# Convert generator to list before going through hashable part\u001b[39;00m\n\u001b[1;32m   1124\u001b[0m \u001b[38;5;66;03m# (We will iterate through the generator there to check for slices)\u001b[39;00m\n\u001b[1;32m   1125\u001b[0m \u001b[38;5;28;01mif\u001b[39;00m is_iterator(key):\n",
      "File \u001b[0;32m~/working_dir/evolutionary-subword-tokenization/Prog/.venv/lib/python3.12/site-packages/pandas/core/series.py:1237\u001b[0m, in \u001b[0;36mSeries._get_value\u001b[0;34m(self, label, takeable)\u001b[0m\n\u001b[1;32m   1234\u001b[0m     \u001b[38;5;28;01mreturn\u001b[39;00m \u001b[38;5;28mself\u001b[39m\u001b[38;5;241m.\u001b[39m_values[label]\n\u001b[1;32m   1236\u001b[0m \u001b[38;5;66;03m# Similar to Index.get_value, but we do not fall back to positional\u001b[39;00m\n\u001b[0;32m-> 1237\u001b[0m loc \u001b[38;5;241m=\u001b[39m \u001b[38;5;28;43mself\u001b[39;49m\u001b[38;5;241;43m.\u001b[39;49m\u001b[43mindex\u001b[49m\u001b[38;5;241;43m.\u001b[39;49m\u001b[43mget_loc\u001b[49m\u001b[43m(\u001b[49m\u001b[43mlabel\u001b[49m\u001b[43m)\u001b[49m\n\u001b[1;32m   1239\u001b[0m \u001b[38;5;28;01mif\u001b[39;00m is_integer(loc):\n\u001b[1;32m   1240\u001b[0m     \u001b[38;5;28;01mreturn\u001b[39;00m \u001b[38;5;28mself\u001b[39m\u001b[38;5;241m.\u001b[39m_values[loc]\n",
      "File \u001b[0;32m~/working_dir/evolutionary-subword-tokenization/Prog/.venv/lib/python3.12/site-packages/pandas/core/indexes/base.py:3812\u001b[0m, in \u001b[0;36mIndex.get_loc\u001b[0;34m(self, key)\u001b[0m\n\u001b[1;32m   3807\u001b[0m     \u001b[38;5;28;01mif\u001b[39;00m \u001b[38;5;28misinstance\u001b[39m(casted_key, \u001b[38;5;28mslice\u001b[39m) \u001b[38;5;129;01mor\u001b[39;00m (\n\u001b[1;32m   3808\u001b[0m         \u001b[38;5;28misinstance\u001b[39m(casted_key, abc\u001b[38;5;241m.\u001b[39mIterable)\n\u001b[1;32m   3809\u001b[0m         \u001b[38;5;129;01mand\u001b[39;00m \u001b[38;5;28many\u001b[39m(\u001b[38;5;28misinstance\u001b[39m(x, \u001b[38;5;28mslice\u001b[39m) \u001b[38;5;28;01mfor\u001b[39;00m x \u001b[38;5;129;01min\u001b[39;00m casted_key)\n\u001b[1;32m   3810\u001b[0m     ):\n\u001b[1;32m   3811\u001b[0m         \u001b[38;5;28;01mraise\u001b[39;00m InvalidIndexError(key)\n\u001b[0;32m-> 3812\u001b[0m     \u001b[38;5;28;01mraise\u001b[39;00m \u001b[38;5;167;01mKeyError\u001b[39;00m(key) \u001b[38;5;28;01mfrom\u001b[39;00m\u001b[38;5;250m \u001b[39m\u001b[38;5;21;01merr\u001b[39;00m\n\u001b[1;32m   3813\u001b[0m \u001b[38;5;28;01mexcept\u001b[39;00m \u001b[38;5;167;01mTypeError\u001b[39;00m:\n\u001b[1;32m   3814\u001b[0m     \u001b[38;5;66;03m# If we have a listlike key, _check_indexing_error will raise\u001b[39;00m\n\u001b[1;32m   3815\u001b[0m     \u001b[38;5;66;03m#  InvalidIndexError. Otherwise we fall through and re-raise\u001b[39;00m\n\u001b[1;32m   3816\u001b[0m     \u001b[38;5;66;03m#  the TypeError.\u001b[39;00m\n\u001b[1;32m   3817\u001b[0m     \u001b[38;5;28mself\u001b[39m\u001b[38;5;241m.\u001b[39m_check_indexing_error(key)\n",
      "\u001b[0;31mKeyError\u001b[0m: 0"
     ]
    }
   ],
   "source": [
    "target_seq = df[df['Unnamed: 0']==77688][\"protein_sequence\"][0]"
   ]
  },
  {
   "cell_type": "code",
   "execution_count": 6,
   "id": "551ebd09",
   "metadata": {},
   "outputs": [],
   "source": [
    "tkz_path = \"/cta/share/users/mutbpe/tokenizers/blosum62/hf_uniref50_bpe_51200.json\"\n",
    "tkz1 = Tokenizer.from_file(tkz_path)\n",
    "tkz_path = \"/cta/share/users/mutbpe/tokenizers/blosum62/hf_uniref50_mutbpe_0.7_3_12_0.05_51200.json\"\n",
    "tkz2 = Tokenizer.from_file(tkz_path)"
   ]
  },
  {
   "cell_type": "code",
   "execution_count": 7,
   "id": "f274fc42",
   "metadata": {},
   "outputs": [
    {
     "ename": "NameError",
     "evalue": "name 'target_seq' is not defined",
     "output_type": "error",
     "traceback": [
      "\u001b[0;31m---------------------------------------------------------------------------\u001b[0m",
      "\u001b[0;31mNameError\u001b[0m                                 Traceback (most recent call last)",
      "Cell \u001b[0;32mIn[7], line 1\u001b[0m\n\u001b[0;32m----> 1\u001b[0m main_encoding1 \u001b[38;5;241m=\u001b[39m tkz1\u001b[38;5;241m.\u001b[39mencode(\u001b[38;5;28mstr\u001b[39m(\u001b[43mtarget_seq\u001b[49m))\n\u001b[1;32m      2\u001b[0m main_encoding2 \u001b[38;5;241m=\u001b[39m tkz2\u001b[38;5;241m.\u001b[39mencode(\u001b[38;5;28mstr\u001b[39m(target_seq))\n",
      "\u001b[0;31mNameError\u001b[0m: name 'target_seq' is not defined"
     ]
    }
   ],
   "source": [
    "main_encoding1 = tkz1.encode(str(target_seq))\n",
    "main_encoding2 = tkz2.encode(str(target_seq))"
   ]
  },
  {
   "cell_type": "code",
   "execution_count": null,
   "id": "01b41f7a",
   "metadata": {},
   "outputs": [
    {
     "name": "stdout",
     "output_type": "stream",
     "text": [
      "0.9991921504629911 0.6841085271317829 0.7205841055882977 0.5632133450394836\n"
     ]
    }
   ],
   "source": [
    "import numpy as np\n",
    "from scipy.spatial.distance import pdist\n",
    "\n",
    "# # Convert assignments and labels to 2D arrays for pdist\n",
    "# assign_eq = pdist(train_assignments[:, None], metric='hamming')  # 0 if same cluster, 1 if different\n",
    "# label_eq = pdist(train_y[:, None], metric='hamming')             # same for ground truth\n",
    "\n",
    "# # Now count how many pairs agree (i.e., both same or both different)\n",
    "# rand_index = np.mean((assign_eq == label_eq))\n",
    "\n",
    "'''\n",
    "Given a Tokenizers encoding tkz_encoding\n",
    "Assign each symbol in the sequence its token id\n",
    "Return the numpy list containing assignments\n",
    "(Like cluster assignments)\n",
    "'''\n",
    "def _enc_to_cluster(tkz_encoding):\n",
    "    seq_len = tkz_encoding.offsets[-1][-1]\n",
    "    cluster_assign = np.zeros((seq_len, 1))\n",
    "    for i, (b, e) in enumerate(tkz_encoding.offsets):\n",
    "        cluster_assign[b:e] = i\n",
    "    return cluster_assign\n",
    "\n",
    "'''\n",
    "Calculate Rand-Index between two segmentations\n",
    "'''\n",
    "def calc_rand_index(enc1, enc2):\n",
    "    clusters1 = _enc_to_cluster(enc1)\n",
    "    clusters2 = _enc_to_cluster(enc2)\n",
    "    assign_eq = pdist(clusters1, metric='hamming')  # 0 if same, 1 if different\n",
    "    label_eq = pdist(clusters2, metric='hamming') # 0 if same, 1 if different\n",
    "    rand_index = np.mean(assign_eq == label_eq)\n",
    "    return rand_index\n",
    "\n",
    "def calc_dice_index(enc1, enc2):\n",
    "    clusters1 = _enc_to_cluster(enc1)\n",
    "    clusters2 = _enc_to_cluster(enc2)\n",
    "    assign_eq = pdist(clusters1, metric='hamming')  # 0 if same, 1 if different\n",
    "    label_eq = pdist(clusters2, metric='hamming') # 0 if same, 1 if different\n",
    "    # Boolean masks\n",
    "    same_assign = assign_eq == 0\n",
    "    same_label = label_eq == 0\n",
    "    TP = np.sum(same_assign & same_label)\n",
    "    FP = np.sum(same_assign & ~same_label)\n",
    "    FN = np.sum(~same_assign & same_label)\n",
    "    # Jaccard index (ignores TN)\n",
    "    dice_index = 2*TP / (2*TP + FP + FN + 1e-10)\n",
    "    return dice_index\n",
    "\n",
    "def calc_jaccard_index(enc1, enc2):\n",
    "    clusters1 = _enc_to_cluster(enc1)\n",
    "    clusters2 = _enc_to_cluster(enc2)\n",
    "    assign_eq = pdist(clusters1, metric='hamming')  # 0 if same, 1 if different\n",
    "    label_eq = pdist(clusters2, metric='hamming') # 0 if same, 1 if different\n",
    "    # Boolean masks\n",
    "    same_assign = assign_eq == 0\n",
    "    same_label = label_eq == 0\n",
    "    TP = np.sum(same_assign & same_label)\n",
    "    FP = np.sum(same_assign & ~same_label)\n",
    "    FN = np.sum(~same_assign & same_label)\n",
    "    # Jaccard index (ignores TN)\n",
    "    jaccard_index = TP / (TP + FP + FN + 1e-10)\n",
    "    return jaccard_index\n",
    "\n",
    "ri = calc_rand_index(main_encoding1, main_encoding2)\n",
    "di_o = calc_dice_from_encodings((main_encoding1, main_encoding2))\n",
    "di_n = calc_dice_index(main_encoding1, main_encoding2)\n",
    "ji = calc_jaccard_index(main_encoding1, main_encoding2)\n",
    "print(ri, di_o, di_n, ji)"
   ]
  },
  {
   "cell_type": "code",
   "execution_count": 15,
   "id": "b104d2c8",
   "metadata": {},
   "outputs": [
    {
     "name": "stdout",
     "output_type": "stream",
     "text": [
      "BPE Path 14329\n",
      "PUMA Path 15045\n",
      "BPE Benign 16018\n",
      "PUMA Benign 16794\n"
     ]
    }
   ],
   "source": [
    "def batch_calc(tkz, ref_list, target_list):\n",
    "    scores = np.zeros((len(target_list), 4))\n",
    "    for i, seq in enumerate(target_list):\n",
    "        ref_seq = ref_list[i]\n",
    "        ref_enc = tkz.encode(ref_seq)\n",
    "        mutated_enc = tkz.encode(seq)\n",
    "        scores[i, :] = np.array([\n",
    "                calc_rand_index(ref_enc, mutated_enc),\n",
    "                calc_dice_from_encodings((ref_enc, mutated_enc)),\n",
    "                calc_dice_index(ref_enc, mutated_enc),\n",
    "                calc_jaccard_index(ref_enc, mutated_enc)\n",
    "        ])\n",
    "    return scores.mean(axis = 0)\n",
    "\n",
    "def batch_calc_eq(tkz, ref_list, target_list):\n",
    "    ct = 0\n",
    "    for i, seq in enumerate(target_list):\n",
    "        ref_seq = ref_list[i]\n",
    "        ref_enc = tkz.encode(ref_seq)\n",
    "        mutated_enc = tkz.encode(seq)\n",
    "        if ref_enc.offsets == mutated_enc.offsets:\n",
    "            ct += 1\n",
    "    return ct\n",
    "        \n",
    "df_benign = df[df[\"DMS_bin_score\"] == \"Benign\"]\n",
    "df_patho = df[df[\"DMS_bin_score\"] == \"Pathogenic\"]\n",
    "print(\"BPE Path\", batch_calc_eq(tkz1, df_patho[\"protein_sequence\"].to_list()[:30000], df_patho[\"mutated_sequence\"].to_list()[:30000]))\n",
    "print(\"PUMA Path\", batch_calc_eq(tkz2, df_patho[\"protein_sequence\"].to_list()[:30000], df_patho[\"mutated_sequence\"].to_list()[:30000]))\n",
    "print(\"BPE Benign\", batch_calc_eq(tkz1, df_benign[\"protein_sequence\"].to_list()[:30000], df_benign[\"mutated_sequence\"].to_list()[:30000]))\n",
    "print(\"PUMA Benign\", batch_calc_eq(tkz2, df_benign[\"protein_sequence\"].to_list()[:30000], df_benign[\"mutated_sequence\"].to_list()[:30000]))\n"
   ]
  },
  {
   "cell_type": "markdown",
   "id": "a5458204",
   "metadata": {},
   "source": [
    "# Notlar\n",
    "- Ayni kalan proteinler ne kadar ayni iki algoritma arasinda.\n",
    "- DMS datasindaki, fonksiyonel olarak coherent butun parcalar ile bizim tokenlarimiz arasinda bir uyusma var mi diye incele"
   ]
  },
  {
   "cell_type": "code",
   "execution_count": null,
   "id": "ffc2d622",
   "metadata": {},
   "outputs": [
    {
     "data": {
      "text/plain": [
       "62727"
      ]
     },
     "execution_count": 14,
     "metadata": {},
     "output_type": "execute_result"
    }
   ],
   "source": [
    "df[df[\"DMS_bin_score\"] == \"Pathogenic\"].__len__()\n",
    "#"
   ]
  },
  {
   "cell_type": "code",
   "execution_count": 83,
   "id": "104c9f76",
   "metadata": {},
   "outputs": [],
   "source": [
    "dice_scores1 = []\n",
    "dice_scores2 = []\n",
    "for pos, fst, snd in df[\"mutations\"].to_list():\n",
    "    sq = str(target_seq)\n",
    "    mutated_seq = sq[:pos] + snd + sq[pos+1:]\n",
    "    mutated_encoding = tkz1.encode(mutated_seq)\n",
    "    score = calc_dice_from_encodings([main_encoding1, mutated_encoding])\n",
    "    dice_scores1.append(score)\n",
    "for pos, fst, snd in df[\"mutations\"].to_list():\n",
    "    sq = str(target_seq)\n",
    "    mutated_seq = sq[:pos] + snd + sq[pos+1:]\n",
    "    mutated_encoding = tkz2.encode(mutated_seq)\n",
    "    score = calc_dice_from_encodings([main_encoding2, mutated_encoding])\n",
    "    dice_scores2.append(score)"
   ]
  },
  {
   "cell_type": "code",
   "execution_count": 84,
   "id": "08c9fbda",
   "metadata": {},
   "outputs": [
    {
     "data": {
      "image/png": "[encoded data removed]",
      "text/plain": [
       "<Figure size 640x480 with 1 Axes>"
      ]
     },
     "metadata": {},
     "output_type": "display_data"
    }
   ],
   "source": [
    "import matplotlib.pyplot as plt\n",
    "\n",
    "plt.scatter(dice_scores1, df[\"score\"].to_list())\n",
    "plt.scatter(dice_scores2, df[\"score\"].to_list())\n",
    "\n",
    "plt.xlabel('X values')\n",
    "plt.ylabel('Y values')\n",
    "plt.title('Scatter Plot Example')\n",
    "\n",
    "# Show the plot\n",
    "plt.show()\n"
   ]
  },
  {
   "cell_type": "code",
   "execution_count": 85,
   "id": "008f3ebb",
   "metadata": {},
   "outputs": [
    {
     "data": {
      "text/plain": [
       "356"
      ]
     },
     "execution_count": 85,
     "metadata": {},
     "output_type": "execute_result"
    }
   ],
   "source": [
    "fitness_scores = df[\"score\"].to_numpy()\n",
    "dice_scores1 = np.array(dice_scores1)\n",
    "dice_scores2 = np.array(dice_scores2)\n",
    "\n",
    "len(dice_scores1[(fitness_scores > 1) & (dice_scores1 > 0.95)])\n",
    "len(dice_scores2[(fitness_scores > 1) & (dice_scores2 > 0.95)])"
   ]
  },
  {
   "cell_type": "code",
   "execution_count": 86,
   "id": "edaac089",
   "metadata": {},
   "outputs": [],
   "source": [
    "from vocabulary_functions import get_family_dictionary, get_mutated, get_parents\n",
    "import json \n",
    "\n",
    "vocab_path = \"/cta/share/users/mutbpe/tokenizers/blosum62/uniref50_bpe_51200.json\"\n",
    "# vocab_path = \"/cta/share/users/mutbpe/tokenizers/blosum62/uniref50_mutbpe_0.7_3_12_0.05_51200.json\"\n",
    "\n",
    "with open(vocab_path) as f:\n",
    "    vocab = json.load(f)\n",
    "\n",
    "all_tokens = list(vocab.keys())\n",
    "mutated_seqs = []\n",
    "mut_list = df[\"mutations\"].to_list()\n",
    "sc_list = df[\"score\"].to_list()\n",
    "for pos, fst, snd in mut_list:\n",
    "    sq = str(target_seq)\n",
    "    mutated_seq = sq[:pos] + snd + sq[pos+1:]\n",
    "    mutated_seqs.append(mutated_seq)"
   ]
  },
  {
   "cell_type": "code",
   "execution_count": 90,
   "id": "b23200d9",
   "metadata": {},
   "outputs": [
    {
     "name": "stdout",
     "output_type": "stream",
     "text": [
      "Number of tokens before: 7, after: 28, score: -0.233353658027674, mutmer: LRH, ormer: LFH\n",
      "Number of tokens before: 25, after: 3, score: -0.218701879142312, mutmer: CHS, ormer: CLS\n",
      "Number of tokens before: 0, after: 32, score: -0.329218629048203, mutmer: YTS, ormer: YPS\n",
      "Number of tokens before: 45, after: 41, score: -0.387684489142223, mutmer: GVL, ormer: GGL\n",
      "Number of tokens before: 16, after: 13, score: -0.245814406601465, mutmer: FYP, ormer: FHP\n",
      "Number of tokens before: 18, after: 18, score: -0.205317974242311, mutmer: TKK, ormer: TIK\n",
      "Number of tokens before: 28, after: 23, score: -0.215532231830538, mutmer: GRP, ormer: GTP\n",
      "Number of tokens before: 9, after: 25, score: -0.235366338367498, mutmer: EKN, ormer: EPN\n",
      "Number of tokens before: 5, after: 50, score: -0.367961603384457, mutmer: PSE, ormer: PWE\n",
      "Number of tokens before: 14, after: 28, score: -0.291792884839761, mutmer: VFL, ormer: VCL\n",
      "Number of tokens before: 39, after: 21, score: -0.210782009168823, mutmer: LTI, ormer: LGI\n",
      "Number of tokens before: 39, after: 19, score: -0.284932205231951, mutmer: DPT, ormer: DGT\n",
      "Number of tokens before: 39, after: 22, score: -0.334245502311728, mutmer: LKI, ormer: LGI\n",
      "Number of tokens before: 12, after: 6, score: -0.200005071629479, mutmer: PNF, ormer: PLF\n",
      "Number of tokens before: 0, after: 9, score: -0.235289785988577, mutmer: DER, ormer: DWR\n",
      "Number of tokens before: 51200, after: 51200, score: -0.270830602040284, mutmer: , ormer: \n",
      "Number of tokens before: 9, after: 9, score: -0.221406549565313, mutmer: HFF, ormer: HPF\n",
      "Number of tokens before: 45, after: 39, score: -0.296477305673796, mutmer: GTL, ormer: GGL\n",
      "Number of tokens before: 27, after: 23, score: -0.224862618419266, mutmer: RFR, ormer: RVR\n",
      "Number of tokens before: 0, after: 18, score: -0.200410361747769, mutmer: DRR, ormer: DWR\n",
      "Number of tokens before: 1, after: 21, score: -0.272086896713389, mutmer: DAP, ormer: DHP\n",
      "Number of tokens before: 35, after: 38, score: -0.242508754980008, mutmer: VTV, ormer: VAV\n",
      "Number of tokens before: 39, after: 11, score: -0.323059194439972, mutmer: PNQ, ormer: PAQ\n",
      "Number of tokens before: 9, after: 4, score: -0.290901802387776, mutmer: HQF, ormer: HPF\n",
      "Number of tokens before: 1, after: 2, score: -0.325320517224166, mutmer: NCE, ormer: NWE\n",
      "Number of tokens before: 39, after: 39, score: -0.261549255802616, mutmer: LVI, ormer: LGI\n",
      "Number of tokens before: 32, after: 40, score: -0.204841002209791, mutmer: APA, ormer: AQA\n",
      "Number of tokens before: 18, after: 14, score: -0.253665435886762, mutmer: FQF, ormer: FGF\n",
      "Number of tokens before: 20, after: 20, score: -0.233532641920701, mutmer: GPV, ormer: GFV\n",
      "Number of tokens before: 18, after: 24, score: -0.217371198374873, mutmer: ETE, ormer: EYE\n",
      "Number of tokens before: 82, after: 17, score: -0.298711248253246, mutmer: SFP, ormer: SPP\n",
      "Number of tokens before: 5, after: 2, score: -0.304131579898461, mutmer: AHP, ormer: AIP\n",
      "Number of tokens before: 24, after: 23, score: -0.21969252461732, mutmer: PLI, ormer: PNI\n",
      "Number of tokens before: 22, after: 9, score: -0.228460184793451, mutmer: LHI, ormer: LSI\n"
     ]
    }
   ],
   "source": [
    "for i in range(len(mut_list)):\n",
    "    pos, _, _ = mut_list[i]\n",
    "    mutseq = mutated_seqs[i]\n",
    "\n",
    "    mutmer = mutseq[pos-1:pos+2]\n",
    "    ormer = sq[pos-1:pos+2]\n",
    "\n",
    "    l1 = len(list(filter(lambda t: mutmer in t, all_tokens)))\n",
    "    l2 = len(list(filter(lambda t: ormer in t, all_tokens)))\n",
    "    if sc_list[i] < -0.2:\n",
    "        print(f\"Number of tokens before: {l2}, after: {l1}, score: {sc_list[i]}, mutmer: {mutmer}, ormer: {ormer}\")"
   ]
  }
 ],
 "metadata": {
  "kernelspec": {
   "display_name": ".venv",
   "language": "python",
   "name": "python3"
  },
  "language_info": {
   "codemirror_mode": {
    "name": "ipython",
    "version": 3
   },
   "file_extension": ".py",
   "mimetype": "text/x-python",
   "name": "python",
   "nbconvert_exporter": "python",
   "pygments_lexer": "ipython3",
   "version": "3.12.3"
  }
 },
 "nbformat": 4,
 "nbformat_minor": 5
}
