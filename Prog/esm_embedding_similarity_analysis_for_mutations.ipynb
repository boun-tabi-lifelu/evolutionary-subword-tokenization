{
 "cells": [
  {
   "cell_type": "markdown",
   "metadata": {},
   "source": [
    "# ESM-2 Embedding Similarity Analysis for Mutations\n",
    "\n",
    "<img src=\"../figures/esm_mutation.svg\" alt=\"ESM-2 Embedding Similarity Analysis for Mutations\" width=\"350px\">\n",
    "\n",
    "ESM-2 is one of the most advanced protein language models out there. It’s trained on millions of protein sequences using self-supervised learning, meaning it learns patterns and relationships without needing labeled data. What makes it special is that its embeddings—basically, how it represents proteins—capture both their structure and evolutionary history. That’s why it performs so well in tasks like predicting protein structures and figuring out their functions.\n",
    "\n",
    "For our experiment, we used the 650-million parameter version of ESM-2 to test how well mutation-based token replacements in evoBPE preserve biological meaning. In simple terms, we wanted to see if swapping amino acids in a way that mimics real mutations keeps the original protein’s properties better than just making random substitutions. Even though mutation tokens are relatively rare in evoBPE’s training data, we wanted to check if they still lead to more biologically meaningful changes."
   ]
  },
  {
   "cell_type": "code",
   "execution_count": 1,
   "metadata": {},
   "outputs": [],
   "source": [
    "import os\n",
    "os.environ[\"CUDA_VISIBLE_DEVICES\"] = \"0\"\n",
    "os.environ[\"HF_HOME\"] = \"/cta/share/users/esm\""
   ]
  },
  {
   "cell_type": "code",
   "execution_count": 2,
   "metadata": {},
   "outputs": [],
   "source": [
    "from time import time\n",
    "import sqlite3\n",
    "import pandas as pd\n",
    "from tqdm import tqdm\n",
    "import numpy as np\n",
    "from transformers import EsmTokenizer, EsmModel, EsmForMaskedLM\n",
    "import torch\n",
    "import torch.nn.functional as F\n",
    "from tqdm import tqdm\n",
    "from pandarallel import pandarallel\n",
    "from Bio.Align import substitution_matrices\n",
    "import ast\n",
    "from sklearn.metrics.pairwise import cosine_similarity\n",
    "\n",
    "import matplotlib.pyplot as plt\n",
    "import seaborn as sns\n",
    "from collections import defaultdict\n",
    "import random\n",
    "from scipy import stats\n",
    "\n",
    "from vocabulary_functions import get_mutated, get_parents, set_difference, set_intersection, load_tokenizers, calc_agreement, calc_dice_idx_only"
   ]
  },
  {
   "cell_type": "code",
   "execution_count": 3,
   "metadata": {},
   "outputs": [
    {
     "name": "stdout",
     "output_type": "stream",
     "text": [
      "INFO: Pandarallel will run on 20 workers.\n",
      "INFO: Pandarallel will use Memory file system to transfer data between the main process and workers.\n"
     ]
    }
   ],
   "source": [
    "pandarallel.initialize(progress_bar=True, nb_workers=20)"
   ]
  },
  {
   "cell_type": "markdown",
   "metadata": {},
   "source": [
    "## Load Datasets"
   ]
  },
  {
   "cell_type": "code",
   "execution_count": 4,
   "metadata": {},
   "outputs": [],
   "source": [
    "# Connect to DB\n",
    "db_file = \"/cta/share/users/uniprot/human/human.db\"\n",
    "conn = sqlite3.connect(db_file)\n",
    "\n",
    "uniref_id = '50'\n",
    "df_protein = pd.read_sql(f\"\"\"SELECT Entry as uniprot_id, Sequence as sequence\n",
    "                          FROM proteins\n",
    "                          WHERE Entry IN (SELECT uniprot_accession FROM uniref{uniref_id}_distilled)\"\"\", conn)\n",
    "df_protein = df_protein[df_protein['sequence'].str.len() < 512].reset_index(drop=True)\n",
    "\n",
    "df_protein_sliced = pd.read_sql(f\"SELECT uniprot_id, sequence FROM uniref{uniref_id}_domain_sliced_plddt70\", conn)\n",
    "df_protein_sliced = df_protein_sliced[df_protein_sliced['uniprot_id'].isin(df_protein['uniprot_id'])].reset_index(drop=True)\n",
    "\n",
    "conn.close()"
   ]
  },
  {
   "cell_type": "markdown",
   "metadata": {},
   "source": [
    "## Load Tokenizers"
   ]
  },
  {
   "cell_type": "code",
   "execution_count": 10,
   "metadata": {},
   "outputs": [],
   "source": [
    "# 'dataset': {'uniref50', 'uniref90'}\n",
    "# 'is_pretokenizer': {True, False}\n",
    "# 'subs_matrix': {'blosum45', 'blosum62', 'pam70', 'pam250'}\n",
    "# 'mutation_cutoff': {0.7, 0.8, 0.9}\n",
    "# 'min_mutation_freq': {0, 0.05,. 0.005}\n",
    "# 'min_mutation_len': {3}\n",
    "# 'max_mutation_len': {12}\n",
    "# 'vocab_size': list=[800, 1600, 3200, 6400, 12800, 25600, 51200]\n",
    "\n",
    "vocab_sizes = [800, 1600, 3200, 6400, 12800, 25600]\n",
    "uniref_id = \"50\"\n",
    "\n",
    "tokenizer_opts_list = [\n",
    "    {\n",
    "        'is_mut': True,\n",
    "        'dataset': f'uniref{uniref_id}',\n",
    "        'is_pretokenizer': False,\n",
    "        'subs_matrix': 'blosum62',\n",
    "        'mutation_cutoff': 0.7,\n",
    "        'min_mutation_freq': 0.05,\n",
    "        'min_mutation_len': 3,\n",
    "        'max_mutation_len': 12,\n",
    "        'vocab_size': vocab_sizes\n",
    "    },\n",
    "    {\n",
    "        'is_mut': True,\n",
    "        'dataset': f'uniref{uniref_id}',\n",
    "        'is_pretokenizer': True,\n",
    "        'subs_matrix': 'blosum62',\n",
    "        'mutation_cutoff': 0.7,\n",
    "        'min_mutation_freq': 0.05,\n",
    "        'min_mutation_len': 3,\n",
    "        'max_mutation_len': 12,\n",
    "        'vocab_size': vocab_sizes\n",
    "    },\n",
    "    {\n",
    "        'is_mut': True,\n",
    "        'dataset': f'uniref{uniref_id}',\n",
    "        'is_pretokenizer': False,\n",
    "        'subs_matrix': 'blosum62',\n",
    "        'mutation_cutoff': 0.8,\n",
    "        'min_mutation_freq': 0.05,\n",
    "        'min_mutation_len': 3,\n",
    "        'max_mutation_len': 12,\n",
    "        'vocab_size': vocab_sizes\n",
    "    },\n",
    "    {\n",
    "        'is_mut': True,\n",
    "        'dataset': f'uniref{uniref_id}',\n",
    "        'is_pretokenizer': False,\n",
    "        'subs_matrix': 'blosum62',\n",
    "        'mutation_cutoff': 0.7,\n",
    "        'min_mutation_freq': 0.005,\n",
    "        'min_mutation_len': 3,\n",
    "        'max_mutation_len': 12,\n",
    "        'vocab_size': vocab_sizes\n",
    "    },\n",
    "    {\n",
    "        'is_mut': True,\n",
    "        'dataset': f'uniref{uniref_id}',\n",
    "        'is_pretokenizer': False,\n",
    "        'subs_matrix': 'blosum45',\n",
    "        'mutation_cutoff': 0.7,\n",
    "        'min_mutation_freq': 0.05,\n",
    "        'min_mutation_len': 3,\n",
    "        'max_mutation_len': 12,\n",
    "        'vocab_size': vocab_sizes\n",
    "    },\n",
    "    {\n",
    "        'is_mut': True,\n",
    "        'dataset': f'uniref{uniref_id}',\n",
    "        'is_pretokenizer': False,\n",
    "        'subs_matrix': 'pam70',\n",
    "        'mutation_cutoff': 0.7,\n",
    "        'min_mutation_freq': 0.05,\n",
    "        'min_mutation_len': 3,\n",
    "        'max_mutation_len': 12,\n",
    "        'vocab_size': vocab_sizes\n",
    "    },\n",
    "    {\n",
    "        'is_mut': True,\n",
    "        'dataset': f'uniref{uniref_id}',\n",
    "        'is_pretokenizer': False,\n",
    "        'subs_matrix': 'pam250',\n",
    "        'mutation_cutoff': 0.8,\n",
    "        'min_mutation_freq': 0.05,\n",
    "        'min_mutation_len': 3,\n",
    "        'max_mutation_len': 12,\n",
    "        'vocab_size': vocab_sizes\n",
    "    },\n",
    "    {\n",
    "        'is_mut': True,\n",
    "        'dataset': f'uniref{uniref_id}',\n",
    "        'is_pretokenizer': False,\n",
    "        'subs_matrix': 'blosum62',\n",
    "        'mutation_cutoff': 0.9,\n",
    "        'min_mutation_freq': 0.005,\n",
    "        'min_mutation_len': 3,\n",
    "        'max_mutation_len': 12,\n",
    "        'vocab_size': vocab_sizes\n",
    "    }\n",
    "]"
   ]
  },
  {
   "cell_type": "code",
   "execution_count": 11,
   "metadata": {},
   "outputs": [],
   "source": [
    "import json\n",
    "from tokenizers import Tokenizer\n",
    "\n",
    "tokenizer_list = load_tokenizers(tokenizer_opts_list, 'hf')\n",
    "inner_vocab_list = load_tokenizers(tokenizer_opts_list, 'vocab')\n",
    "\n",
    "for vs in vocab_sizes:\n",
    "    tokenizer_list[f'PUMA blosum62 0.9 0.005 {vs}'] = Tokenizer.from_file(f\"/cta/share/users/mutbpe/tokenizers/blosum62_alldataset/1000000/hf_uniref50_mutbpe_0.7_3_12_0.05_{vs}.json\")\n",
    "    with open(f\"/cta/share/users/mutbpe/tokenizers/blosum62_alldataset/1000000/uniref50_mutbpe_0.7_3_12_0.05_{vs}.json\") as json_file:\n",
    "        inner_vocab_list[f'PUMA blosum62 0.9 0.005 {vs}'] = json.load(json_file)\n",
    "\n",
    "vocab_list = {name: list(set(tok.get_vocab().keys())) for name, tok in tokenizer_list.items()}\n",
    "methods = [name[:-len(str(vocab_sizes[0]))-1] for name in list(tokenizer_list.keys())[::len(vocab_sizes)]]\n",
    "methods2names = {mn: mn.replace('mut', 'evo').replace('std', '').replace('blosum', 'BLOSUM').replace('pam', 'PAM').replace('pre', 'Pre') for mn in methods}\n",
    "methods2names = {k: ' '.join(v.split()[:-2]) if 'evoBPE' in v else v for k, v in methods2names.items()}\n",
    "\n",
    "inner_vocab_parents_list = {}\n",
    "inner_vocab_mutated_list = {}\n",
    "for k, v in inner_vocab_list.items():\n",
    "    inner_vocab_parents_list[k] = get_parents(v)\n",
    "    inner_vocab_mutated_list[k] = get_mutated(v)\n",
    "\n",
    "for tokenizer_name in tokenizer_list.keys():\n",
    "    for mutated_token, mutated_token_attr in inner_vocab_mutated_list[tokenizer_name].items():\n",
    "        parent_token = mutated_token_attr['parent']\n",
    "        inner_vocab_parents_list[tokenizer_name][parent_token]['mutations'] = inner_vocab_parents_list[tokenizer_name][parent_token].get('mutations', []) + [mutated_token]"
   ]
  },
  {
   "cell_type": "code",
   "execution_count": 12,
   "metadata": {},
   "outputs": [
    {
     "name": "stderr",
     "output_type": "stream",
     "text": [
      "Building Vocabulary Lineage: 100%|██████████| 48/48 [00:00<00:00, 90.60it/s] \n"
     ]
    }
   ],
   "source": [
    "# --- Vocabulary Lineage Construction ---\n",
    "vocab_lineage_list = {}\n",
    "for k, v in inner_vocab_list.items():\n",
    "    vocab_lineage_list[k] = {token: {\n",
    "        'frequency': -1, 'order': -1, 'parent_pair': [], 'parent_mutation': \"\",\n",
    "        'parent_mutation_similarity': -1, 'partner_pair_self': False,\n",
    "        'partner_pair_left': [], 'partner_pair_right': [], 'child_pair': [], 'child_mutation': []\n",
    "    } for token in v.keys()}\n",
    "\n",
    "for method_name, vocab in tqdm(inner_vocab_list.items(), desc=\"Building Vocabulary Lineage\"):\n",
    "    for token, inner_elements in vocab.items():\n",
    "        lineage = vocab_lineage_list[method_name][token]\n",
    "        lineage['frequency'] = inner_elements.get('frequency', -1)\n",
    "        lineage['order'] = inner_elements.get('order', -1)\n",
    "        lineage['parent_pair'] = inner_elements.get('pair', [])\n",
    "        lineage['parent_mutation'] = inner_elements.get('parent', \"\")\n",
    "        lineage['parent_mutation_similarity'] = inner_elements.get('similarity', -1)\n",
    "\n",
    "        if 'pair' in inner_elements:\n",
    "            p1, p2 = inner_elements['pair']\n",
    "            if p1 == p2:\n",
    "                vocab_lineage_list[method_name][p1]['partner_pair_self'] = True\n",
    "                vocab_lineage_list[method_name][p1]['child_pair'].append(token)\n",
    "            else:\n",
    "                vocab_lineage_list[method_name][p1]['partner_pair_right'].append(p2)\n",
    "                vocab_lineage_list[method_name][p2]['partner_pair_left'].append(p1)\n",
    "                vocab_lineage_list[method_name][p1]['child_pair'].append(token)\n",
    "                vocab_lineage_list[method_name][p2]['child_pair'].append(token)\n",
    "        if 'parent' in inner_elements:\n",
    "            parent = inner_elements['parent']\n",
    "            vocab_lineage_list[method_name][parent]['child_mutation'].append(token)"
   ]
  },
  {
   "cell_type": "code",
   "execution_count": 13,
   "metadata": {},
   "outputs": [
    {
     "name": "stderr",
     "output_type": "stream",
     "text": [
      "  0%|          | 0/48 [00:00<?, ?it/s]"
     ]
    },
    {
     "name": "stderr",
     "output_type": "stream",
     "text": [
      "100%|██████████| 48/48 [01:01<00:00,  1.28s/it]\n"
     ]
    }
   ],
   "source": [
    "for name, tokenizer in tqdm(list(tokenizer_list.items())):\n",
    "    if 'pre' in name:\n",
    "        df_protein_sliced[name] = [enc.tokens for enc in tokenizer.encode_batch(df_protein_sliced['sequence'])]\n",
    "    else:\n",
    "        df_protein[name] = [enc.tokens for enc in tokenizer.encode_batch(df_protein['sequence'])]"
   ]
  },
  {
   "cell_type": "code",
   "execution_count": 14,
   "metadata": {},
   "outputs": [
    {
     "data": {
      "text/html": [
       "<div>\n",
       "<style scoped>\n",
       "    .dataframe tbody tr th:only-of-type {\n",
       "        vertical-align: middle;\n",
       "    }\n",
       "\n",
       "    .dataframe tbody tr th {\n",
       "        vertical-align: top;\n",
       "    }\n",
       "\n",
       "    .dataframe thead th {\n",
       "        text-align: right;\n",
       "    }\n",
       "</style>\n",
       "<table border=\"1\" class=\"dataframe\">\n",
       "  <thead>\n",
       "    <tr style=\"text-align: right;\">\n",
       "      <th></th>\n",
       "      <th>uniprot_id</th>\n",
       "      <th>sequence</th>\n",
       "      <th>PUMA blosum62 0.7 0.05 800</th>\n",
       "      <th>PUMA blosum62 0.7 0.05 1600</th>\n",
       "      <th>PUMA blosum62 0.7 0.05 3200</th>\n",
       "      <th>PUMA blosum62 0.7 0.05 6400</th>\n",
       "      <th>PUMA blosum62 0.7 0.05 12800</th>\n",
       "      <th>PUMA blosum62 0.7 0.05 25600</th>\n",
       "      <th>PUMA blosum62 0.8 0.05 800</th>\n",
       "      <th>PUMA blosum62 0.8 0.05 1600</th>\n",
       "      <th>...</th>\n",
       "      <th>PUMA blosum62 0.9 0.005 3200</th>\n",
       "      <th>PUMA blosum62 0.9 0.005 6400</th>\n",
       "      <th>PUMA blosum62 0.9 0.005 12800</th>\n",
       "      <th>PUMA blosum62 0.9 0.005 25600</th>\n",
       "      <th>PUMA pre blosum62 0.7 0.05 800</th>\n",
       "      <th>PUMA pre blosum62 0.7 0.05 1600</th>\n",
       "      <th>PUMA pre blosum62 0.7 0.05 3200</th>\n",
       "      <th>PUMA pre blosum62 0.7 0.05 6400</th>\n",
       "      <th>PUMA pre blosum62 0.7 0.05 12800</th>\n",
       "      <th>PUMA pre blosum62 0.7 0.05 25600</th>\n",
       "    </tr>\n",
       "  </thead>\n",
       "  <tbody>\n",
       "    <tr>\n",
       "      <th>0</th>\n",
       "      <td>A0A087WZT3</td>\n",
       "      <td>MELSAEYLREKLQRDLEAEHVLPSPGGVGQVRGETAASETQLGS</td>\n",
       "      <td>[M, EL, SA, E, YL, R, EKL, QR, DL, EA, EH, VL,...</td>\n",
       "      <td>[M, EL, SA, EYL, R, EKL, QR, DL, EA, EH, VL, P...</td>\n",
       "      <td>[MEL, SA, EYL, R, EKL, QR, DL, EA, EH, VL, PSP...</td>\n",
       "      <td>[MEL, SA, EYL, R, EKL, QR, DL, EA, EH, VL, PSP...</td>\n",
       "      <td>[MEL, SA, EYL, REKL, QRDL, EAEH, VL, PSP, GG, ...</td>\n",
       "      <td>[MEL, SA, EYL, REKL, QRDL, EAEH, VL, PSP, GGVG...</td>\n",
       "      <td>[M, EL, SA, E, YL, R, EKL, QR, DL, EA, EH, VL,...</td>\n",
       "      <td>[M, EL, SA, EYL, R, EKL, QR, DL, EA, EH, VL, P...</td>\n",
       "      <td>...</td>\n",
       "      <td>[ME, LS, AE, YLR, EK, LQ, RD, LE, AE, HV, LP, ...</td>\n",
       "      <td>[ME, LS, AE, YLR, EK, LQ, RD, LE, AE, HV, LP, ...</td>\n",
       "      <td>[ME, LSAE, YLR, EK, LQ, RD, LE, AE, HV, LPSP, ...</td>\n",
       "      <td>[ME, LSAE, YLR, EK, LQ, RDLE, AEHV, LPSP, GGVG...</td>\n",
       "      <td>[M, EL, SA, E, YL, R, EKL, QR, DL, EA, EH, VL,...</td>\n",
       "      <td>[M, EL, SA, EYL, R, EKL, QR, DL, EA, EH, VL, P...</td>\n",
       "      <td>[MEL, SA, EYL, R, EKL, QR, DL, EA, EH, VL, PSP...</td>\n",
       "      <td>[MEL, SA, EYL, R, EKL, QR, DL, EA, EH, VL, PSP...</td>\n",
       "      <td>[MEL, SA, EYL, REKL, QRDL, EA, EHVL, PSP, GG, ...</td>\n",
       "      <td>[MEL, SA, EYL, REKL, QRDL, EA, EHVL, PSP, GGVG...</td>\n",
       "    </tr>\n",
       "    <tr>\n",
       "      <th>1</th>\n",
       "      <td>A0A0B4J2F0</td>\n",
       "      <td>MFRRLTFAQLLFATVLGIAGGVYIFQPVFEQYAKDQKELKEKMQLV...</td>\n",
       "      <td>[M, FR, RL, T, FA, QLL, FA, T, VLG, IA, GG, V,...</td>\n",
       "      <td>[M, FR, RL, T, FA, QLL, FA, T, VLG, IA, GGV, Y...</td>\n",
       "      <td>[M, FR, RL, T, FA, QLL, FA, T, VLG, IA, GGV, Y...</td>\n",
       "      <td>[M, FR, RL, TFA, QLL, FA, T, VLG, IA, GGV, YI,...</td>\n",
       "      <td>[M, FR, RL, TFA, QLL, FA, T, VLG, IA, GGV, YI,...</td>\n",
       "      <td>[M, FRRL, TFA, QLL, FAT, VLG, IA, GGV, YI, FQ,...</td>\n",
       "      <td>[M, FR, RL, T, FA, QLL, FA, T, VLG, IA, GG, V,...</td>\n",
       "      <td>[M, FR, RL, T, FA, QLL, FA, T, VLG, IA, GGV, Y...</td>\n",
       "      <td>...</td>\n",
       "      <td>[MF, RR, LTF, AQ, LLF, AT, VLG, I, AGG, V, YI,...</td>\n",
       "      <td>[MF, RR, LTF, AQ, LLF, AT, VLGI, AGGV, YI, FQ,...</td>\n",
       "      <td>[MF, RR, LTF, AQ, LLF, AT, VLGI, AGGV, YI, FQ,...</td>\n",
       "      <td>[MFRR, LTF, AQ, LLF, AT, VLGI, AGGV, YI, FQ, P...</td>\n",
       "      <td>[M, FR, RL, T, FA, QLL, FA, T, VLG, IA, GG, V,...</td>\n",
       "      <td>[M, FR, RL, T, FA, QLL, FA, T, VLG, IA, GGV, Y...</td>\n",
       "      <td>[M, FR, RL, T, FA, QLL, FAT, VLG, IA, GGV, YI,...</td>\n",
       "      <td>[M, FR, RL, TFA, QLL, FAT, VLG, IA, GGV, YI, F...</td>\n",
       "      <td>[M, FR, RL, TFA, QLL, FAT, VLG, IA, GGV, YI, F...</td>\n",
       "      <td>[M, FRRL, TFA, QLL, FAT, VLG, IA, GGV, YI, FQ,...</td>\n",
       "    </tr>\n",
       "    <tr>\n",
       "      <th>2</th>\n",
       "      <td>A0A0C5B5G6</td>\n",
       "      <td>MRWQEMGYIFYPRKLR</td>\n",
       "      <td>[M, RW, Q, E, MG, YI, FY, PR, KL, R]</td>\n",
       "      <td>[M, RW, QE, MG, YI, FY, PR, KL, R]</td>\n",
       "      <td>[M, RW, QE, MG, YI, FY, PR, KL, R]</td>\n",
       "      <td>[M, RW, QE, MG, YI, FY, PR, KL, R]</td>\n",
       "      <td>[M, RW, QEMG, YI, FY, PRKL, R]</td>\n",
       "      <td>[MRW, QEMG, YI, FY, PRKL, R]</td>\n",
       "      <td>[M, RW, QE, MG, YI, FY, PR, KL, R]</td>\n",
       "      <td>[M, RW, QE, MG, YI, FY, PR, KL, R]</td>\n",
       "      <td>...</td>\n",
       "      <td>[M, RW, QE, MG, YI, FYP, RK, LR]</td>\n",
       "      <td>[MRW, QE, MG, YI, FYP, RKLR]</td>\n",
       "      <td>[MRW, QE, MG, YI, FYP, RKLR]</td>\n",
       "      <td>[MRW, QE, MG, YI, FYP, RKLR]</td>\n",
       "      <td>[M, RW, QE, MG, YI, FY, PR, KL, R]</td>\n",
       "      <td>[M, RW, QE, MG, YI, FY, PR, KL, R]</td>\n",
       "      <td>[M, RW, QE, MG, YI, FY, PR, KL, R]</td>\n",
       "      <td>[M, RW, QEMG, YI, FY, PR, KL, R]</td>\n",
       "      <td>[M, RW, QEMG, YI, FY, PRKL, R]</td>\n",
       "      <td>[M, RW, QEMG, YI, FY, PRKL, R]</td>\n",
       "    </tr>\n",
       "    <tr>\n",
       "      <th>3</th>\n",
       "      <td>A0A0K2S4Q6</td>\n",
       "      <td>MTQRAGAAMLPSALLLLCVPGCLTVSGPSTVMGAVGESLSVQCRYE...</td>\n",
       "      <td>[M, TQ, R, AG, AA, ML, PSA, LL, LL, CV, PG, CL...</td>\n",
       "      <td>[M, TQ, R, AGAA, ML, PSA, LLLL, CV, PG, CL, TV...</td>\n",
       "      <td>[M, TQR, AGAA, ML, PSA, LLLL, CV, PG, CL, TV, ...</td>\n",
       "      <td>[M, TQR, AGAA, ML, PSA, LLLL, CV, PG, CL, TV, ...</td>\n",
       "      <td>[M, TQR, AGAA, ML, PSA, LLLL, CV, PG, CL, TVSG...</td>\n",
       "      <td>[M, TQR, AGAA, ML, PSA, LLLL, CV, PGCL, TVSG, ...</td>\n",
       "      <td>[M, TQ, R, AG, AA, ML, PSA, LL, LL, CV, PG, CL...</td>\n",
       "      <td>[M, TQ, RAG, AA, ML, PSA, LLLL, CV, PG, CL, TV...</td>\n",
       "      <td>...</td>\n",
       "      <td>[M, TQ, RAG, AAM, LP, SALL, LL, CV, PG, C, LTV...</td>\n",
       "      <td>[MTQ, RAG, AAM, LP, SALL, LL, CV, PG, C, LTV, ...</td>\n",
       "      <td>[MTQ, RAG, AAM, LP, SALL, LL, CV, PG, C, LTV, ...</td>\n",
       "      <td>[MTQ, RAG, AAM, LP, SALL, LL, CV, PG, C, LTV, ...</td>\n",
       "      <td>[M, TQ, R, AG, AA, ML, PSA, LL, LL, CV, PG, CL...</td>\n",
       "      <td>[M, TQ, R, AGAA, ML, PSA, LLLL, CV, PG, CL, TV...</td>\n",
       "      <td>[M, TQR, AGAA, ML, PSA, LLLL, CV, PG, CL, TV, ...</td>\n",
       "      <td>[M, TQR, AGAA, ML, PSA, LLLL, CV, PG, CL, TV, ...</td>\n",
       "      <td>[M, TQR, AGAA, ML, PSA, LLLL, CVPG, CL, TVSG, ...</td>\n",
       "      <td>[M, TQR, AGAA, ML, PSA, LLLL, CVPG, CL, TVSG, ...</td>\n",
       "    </tr>\n",
       "    <tr>\n",
       "      <th>4</th>\n",
       "      <td>A0A0S2Z4G9</td>\n",
       "      <td>MNQSRSRSDGGSEETLPQDHNHHENERRWQQERLHREEAYYQFINE...</td>\n",
       "      <td>[M, NQ, SR, SR, SD, GG, SEE, TL, PQ, DH, N, HH...</td>\n",
       "      <td>[M, NQ, SR, SR, SD, GG, SEE, TL, PQ, DH, N, HH...</td>\n",
       "      <td>[M, NQ, SRSR, SD, GG, SEE, TL, PQ, DH, N, HH, ...</td>\n",
       "      <td>[M, NQ, SRSR, SD, GG, SEE, TL, PQ, DH, N, HH, ...</td>\n",
       "      <td>[M, NQ, SRSR, SDGG, SEE, TL, PQ, DH, N, HH, EN...</td>\n",
       "      <td>[M, NQ, SRSR, SDGG, SEE, TL, PQ, DH, NHH, EN, ...</td>\n",
       "      <td>[M, NQ, SR, SR, SD, GG, SEE, TL, PQ, DH, N, HH...</td>\n",
       "      <td>[M, NQ, SR, SR, SD, GG, SEE, TL, PQ, DH, N, HH...</td>\n",
       "      <td>...</td>\n",
       "      <td>[M, NQ, SR, SR, SD, GG, SEE, TLP, QD, HN, H, H...</td>\n",
       "      <td>[MNQ, SRSR, SD, GG, SEE, TLP, QD, HN, H, HE, N...</td>\n",
       "      <td>[MNQ, SRSR, SDGG, SEE, TLP, QD, HN, HHE, NE, R...</td>\n",
       "      <td>[MNQ, SRSR, SDGG, SEE, TLP, QD, HN, HHE, NE, R...</td>\n",
       "      <td>[MN, Q, SR, SR, SD, GG, SEE, TL, PQ, DH, N, HH...</td>\n",
       "      <td>[MN, QSR, SR, SD, GG, SEE, TL, PQ, DH, N, HH, ...</td>\n",
       "      <td>[MN, QSR, SR, SD, GG, SEE, TL, PQ, DH, N, HH, ...</td>\n",
       "      <td>[MN, QSR, SRSD, GG, SEE, TL, PQ, DH, N, HH, EN...</td>\n",
       "      <td>[MN, QSR, SRSD, GG, SEE, TL, PQ, DH, N, HH, EN...</td>\n",
       "      <td>[MN, QSR, SRSD, GG, SEE, TL, PQ, DH, N, HH, EN...</td>\n",
       "    </tr>\n",
       "  </tbody>\n",
       "</table>\n",
       "<p>5 rows × 50 columns</p>\n",
       "</div>"
      ],
      "text/plain": [
       "   uniprot_id                                           sequence  \\\n",
       "0  A0A087WZT3       MELSAEYLREKLQRDLEAEHVLPSPGGVGQVRGETAASETQLGS   \n",
       "1  A0A0B4J2F0  MFRRLTFAQLLFATVLGIAGGVYIFQPVFEQYAKDQKELKEKMQLV...   \n",
       "2  A0A0C5B5G6                                   MRWQEMGYIFYPRKLR   \n",
       "3  A0A0K2S4Q6  MTQRAGAAMLPSALLLLCVPGCLTVSGPSTVMGAVGESLSVQCRYE...   \n",
       "4  A0A0S2Z4G9  MNQSRSRSDGGSEETLPQDHNHHENERRWQQERLHREEAYYQFINE...   \n",
       "\n",
       "                          PUMA blosum62 0.7 0.05 800  \\\n",
       "0  [M, EL, SA, E, YL, R, EKL, QR, DL, EA, EH, VL,...   \n",
       "1  [M, FR, RL, T, FA, QLL, FA, T, VLG, IA, GG, V,...   \n",
       "2               [M, RW, Q, E, MG, YI, FY, PR, KL, R]   \n",
       "3  [M, TQ, R, AG, AA, ML, PSA, LL, LL, CV, PG, CL...   \n",
       "4  [M, NQ, SR, SR, SD, GG, SEE, TL, PQ, DH, N, HH...   \n",
       "\n",
       "                         PUMA blosum62 0.7 0.05 1600  \\\n",
       "0  [M, EL, SA, EYL, R, EKL, QR, DL, EA, EH, VL, P...   \n",
       "1  [M, FR, RL, T, FA, QLL, FA, T, VLG, IA, GGV, Y...   \n",
       "2                 [M, RW, QE, MG, YI, FY, PR, KL, R]   \n",
       "3  [M, TQ, R, AGAA, ML, PSA, LLLL, CV, PG, CL, TV...   \n",
       "4  [M, NQ, SR, SR, SD, GG, SEE, TL, PQ, DH, N, HH...   \n",
       "\n",
       "                         PUMA blosum62 0.7 0.05 3200  \\\n",
       "0  [MEL, SA, EYL, R, EKL, QR, DL, EA, EH, VL, PSP...   \n",
       "1  [M, FR, RL, T, FA, QLL, FA, T, VLG, IA, GGV, Y...   \n",
       "2                 [M, RW, QE, MG, YI, FY, PR, KL, R]   \n",
       "3  [M, TQR, AGAA, ML, PSA, LLLL, CV, PG, CL, TV, ...   \n",
       "4  [M, NQ, SRSR, SD, GG, SEE, TL, PQ, DH, N, HH, ...   \n",
       "\n",
       "                         PUMA blosum62 0.7 0.05 6400  \\\n",
       "0  [MEL, SA, EYL, R, EKL, QR, DL, EA, EH, VL, PSP...   \n",
       "1  [M, FR, RL, TFA, QLL, FA, T, VLG, IA, GGV, YI,...   \n",
       "2                 [M, RW, QE, MG, YI, FY, PR, KL, R]   \n",
       "3  [M, TQR, AGAA, ML, PSA, LLLL, CV, PG, CL, TV, ...   \n",
       "4  [M, NQ, SRSR, SD, GG, SEE, TL, PQ, DH, N, HH, ...   \n",
       "\n",
       "                        PUMA blosum62 0.7 0.05 12800  \\\n",
       "0  [MEL, SA, EYL, REKL, QRDL, EAEH, VL, PSP, GG, ...   \n",
       "1  [M, FR, RL, TFA, QLL, FA, T, VLG, IA, GGV, YI,...   \n",
       "2                     [M, RW, QEMG, YI, FY, PRKL, R]   \n",
       "3  [M, TQR, AGAA, ML, PSA, LLLL, CV, PG, CL, TVSG...   \n",
       "4  [M, NQ, SRSR, SDGG, SEE, TL, PQ, DH, N, HH, EN...   \n",
       "\n",
       "                        PUMA blosum62 0.7 0.05 25600  \\\n",
       "0  [MEL, SA, EYL, REKL, QRDL, EAEH, VL, PSP, GGVG...   \n",
       "1  [M, FRRL, TFA, QLL, FAT, VLG, IA, GGV, YI, FQ,...   \n",
       "2                       [MRW, QEMG, YI, FY, PRKL, R]   \n",
       "3  [M, TQR, AGAA, ML, PSA, LLLL, CV, PGCL, TVSG, ...   \n",
       "4  [M, NQ, SRSR, SDGG, SEE, TL, PQ, DH, NHH, EN, ...   \n",
       "\n",
       "                          PUMA blosum62 0.8 0.05 800  \\\n",
       "0  [M, EL, SA, E, YL, R, EKL, QR, DL, EA, EH, VL,...   \n",
       "1  [M, FR, RL, T, FA, QLL, FA, T, VLG, IA, GG, V,...   \n",
       "2                 [M, RW, QE, MG, YI, FY, PR, KL, R]   \n",
       "3  [M, TQ, R, AG, AA, ML, PSA, LL, LL, CV, PG, CL...   \n",
       "4  [M, NQ, SR, SR, SD, GG, SEE, TL, PQ, DH, N, HH...   \n",
       "\n",
       "                         PUMA blosum62 0.8 0.05 1600  ...  \\\n",
       "0  [M, EL, SA, EYL, R, EKL, QR, DL, EA, EH, VL, P...  ...   \n",
       "1  [M, FR, RL, T, FA, QLL, FA, T, VLG, IA, GGV, Y...  ...   \n",
       "2                 [M, RW, QE, MG, YI, FY, PR, KL, R]  ...   \n",
       "3  [M, TQ, RAG, AA, ML, PSA, LLLL, CV, PG, CL, TV...  ...   \n",
       "4  [M, NQ, SR, SR, SD, GG, SEE, TL, PQ, DH, N, HH...  ...   \n",
       "\n",
       "                        PUMA blosum62 0.9 0.005 3200  \\\n",
       "0  [ME, LS, AE, YLR, EK, LQ, RD, LE, AE, HV, LP, ...   \n",
       "1  [MF, RR, LTF, AQ, LLF, AT, VLG, I, AGG, V, YI,...   \n",
       "2                   [M, RW, QE, MG, YI, FYP, RK, LR]   \n",
       "3  [M, TQ, RAG, AAM, LP, SALL, LL, CV, PG, C, LTV...   \n",
       "4  [M, NQ, SR, SR, SD, GG, SEE, TLP, QD, HN, H, H...   \n",
       "\n",
       "                        PUMA blosum62 0.9 0.005 6400  \\\n",
       "0  [ME, LS, AE, YLR, EK, LQ, RD, LE, AE, HV, LP, ...   \n",
       "1  [MF, RR, LTF, AQ, LLF, AT, VLGI, AGGV, YI, FQ,...   \n",
       "2                       [MRW, QE, MG, YI, FYP, RKLR]   \n",
       "3  [MTQ, RAG, AAM, LP, SALL, LL, CV, PG, C, LTV, ...   \n",
       "4  [MNQ, SRSR, SD, GG, SEE, TLP, QD, HN, H, HE, N...   \n",
       "\n",
       "                       PUMA blosum62 0.9 0.005 12800  \\\n",
       "0  [ME, LSAE, YLR, EK, LQ, RD, LE, AE, HV, LPSP, ...   \n",
       "1  [MF, RR, LTF, AQ, LLF, AT, VLGI, AGGV, YI, FQ,...   \n",
       "2                       [MRW, QE, MG, YI, FYP, RKLR]   \n",
       "3  [MTQ, RAG, AAM, LP, SALL, LL, CV, PG, C, LTV, ...   \n",
       "4  [MNQ, SRSR, SDGG, SEE, TLP, QD, HN, HHE, NE, R...   \n",
       "\n",
       "                       PUMA blosum62 0.9 0.005 25600  \\\n",
       "0  [ME, LSAE, YLR, EK, LQ, RDLE, AEHV, LPSP, GGVG...   \n",
       "1  [MFRR, LTF, AQ, LLF, AT, VLGI, AGGV, YI, FQ, P...   \n",
       "2                       [MRW, QE, MG, YI, FYP, RKLR]   \n",
       "3  [MTQ, RAG, AAM, LP, SALL, LL, CV, PG, C, LTV, ...   \n",
       "4  [MNQ, SRSR, SDGG, SEE, TLP, QD, HN, HHE, NE, R...   \n",
       "\n",
       "                      PUMA pre blosum62 0.7 0.05 800  \\\n",
       "0  [M, EL, SA, E, YL, R, EKL, QR, DL, EA, EH, VL,...   \n",
       "1  [M, FR, RL, T, FA, QLL, FA, T, VLG, IA, GG, V,...   \n",
       "2                 [M, RW, QE, MG, YI, FY, PR, KL, R]   \n",
       "3  [M, TQ, R, AG, AA, ML, PSA, LL, LL, CV, PG, CL...   \n",
       "4  [MN, Q, SR, SR, SD, GG, SEE, TL, PQ, DH, N, HH...   \n",
       "\n",
       "                     PUMA pre blosum62 0.7 0.05 1600  \\\n",
       "0  [M, EL, SA, EYL, R, EKL, QR, DL, EA, EH, VL, P...   \n",
       "1  [M, FR, RL, T, FA, QLL, FA, T, VLG, IA, GGV, Y...   \n",
       "2                 [M, RW, QE, MG, YI, FY, PR, KL, R]   \n",
       "3  [M, TQ, R, AGAA, ML, PSA, LLLL, CV, PG, CL, TV...   \n",
       "4  [MN, QSR, SR, SD, GG, SEE, TL, PQ, DH, N, HH, ...   \n",
       "\n",
       "                     PUMA pre blosum62 0.7 0.05 3200  \\\n",
       "0  [MEL, SA, EYL, R, EKL, QR, DL, EA, EH, VL, PSP...   \n",
       "1  [M, FR, RL, T, FA, QLL, FAT, VLG, IA, GGV, YI,...   \n",
       "2                 [M, RW, QE, MG, YI, FY, PR, KL, R]   \n",
       "3  [M, TQR, AGAA, ML, PSA, LLLL, CV, PG, CL, TV, ...   \n",
       "4  [MN, QSR, SR, SD, GG, SEE, TL, PQ, DH, N, HH, ...   \n",
       "\n",
       "                     PUMA pre blosum62 0.7 0.05 6400  \\\n",
       "0  [MEL, SA, EYL, R, EKL, QR, DL, EA, EH, VL, PSP...   \n",
       "1  [M, FR, RL, TFA, QLL, FAT, VLG, IA, GGV, YI, F...   \n",
       "2                   [M, RW, QEMG, YI, FY, PR, KL, R]   \n",
       "3  [M, TQR, AGAA, ML, PSA, LLLL, CV, PG, CL, TV, ...   \n",
       "4  [MN, QSR, SRSD, GG, SEE, TL, PQ, DH, N, HH, EN...   \n",
       "\n",
       "                    PUMA pre blosum62 0.7 0.05 12800  \\\n",
       "0  [MEL, SA, EYL, REKL, QRDL, EA, EHVL, PSP, GG, ...   \n",
       "1  [M, FR, RL, TFA, QLL, FAT, VLG, IA, GGV, YI, F...   \n",
       "2                     [M, RW, QEMG, YI, FY, PRKL, R]   \n",
       "3  [M, TQR, AGAA, ML, PSA, LLLL, CVPG, CL, TVSG, ...   \n",
       "4  [MN, QSR, SRSD, GG, SEE, TL, PQ, DH, N, HH, EN...   \n",
       "\n",
       "                    PUMA pre blosum62 0.7 0.05 25600  \n",
       "0  [MEL, SA, EYL, REKL, QRDL, EA, EHVL, PSP, GGVG...  \n",
       "1  [M, FRRL, TFA, QLL, FAT, VLG, IA, GGV, YI, FQ,...  \n",
       "2                     [M, RW, QEMG, YI, FY, PRKL, R]  \n",
       "3  [M, TQR, AGAA, ML, PSA, LLLL, CVPG, CL, TVSG, ...  \n",
       "4  [MN, QSR, SRSD, GG, SEE, TL, PQ, DH, N, HH, EN...  \n",
       "\n",
       "[5 rows x 50 columns]"
      ]
     },
     "execution_count": 14,
     "metadata": {},
     "output_type": "execute_result"
    }
   ],
   "source": [
    "df_protein_sliced = df_protein_sliced.groupby('uniprot_id').sum().reset_index()\n",
    "df_protein = df_protein.set_index(['uniprot_id', 'sequence']).join(df_protein_sliced.set_index(['uniprot_id', 'sequence'])).reset_index()\n",
    "df_protein.head()"
   ]
  },
  {
   "cell_type": "code",
   "execution_count": 15,
   "metadata": {},
   "outputs": [],
   "source": [
    "# --- Pre-computation Function ---\n",
    "\n",
    "def precompute_alternatives(sub_matrix):\n",
    "    \"\"\"\n",
    "    Pre-computes a lookup table for amino acid substitutions with better scores.\n",
    "    \"\"\"\n",
    "    print(\"Pre-computing alternative amino acid scores...\")\n",
    "    AMINO_ACIDS = 'ABCDEFGHIKLMNPQRSTVWYZ'\n",
    "    precomputed_alternatives = {orig_aa: {} for orig_aa in AMINO_ACIDS}\n",
    "\n",
    "    for orig_aa in tqdm(AMINO_ACIDS):\n",
    "        for mut_aa in AMINO_ACIDS:\n",
    "            if orig_aa == mut_aa:\n",
    "                continue\n",
    "            \n",
    "            try:\n",
    "                score_mutation = sub_matrix[(orig_aa, mut_aa)]\n",
    "            except KeyError:\n",
    "                continue\n",
    "\n",
    "            possible_alternatives = []\n",
    "            for alt_aa in AMINO_ACIDS:\n",
    "                if alt_aa in (orig_aa, mut_aa):\n",
    "                    continue\n",
    "                try:\n",
    "                    score_alternative = sub_matrix[(orig_aa, alt_aa)]\n",
    "                    if score_alternative >= score_mutation:\n",
    "                        possible_alternatives.append((alt_aa, score_alternative-score_mutation))\n",
    "                except KeyError:\n",
    "                    continue\n",
    "            \n",
    "            # Sort by score (descending) and store only the amino acid\n",
    "            possible_alternatives.sort(key=lambda x: x[1], reverse=True)\n",
    "            # precomputed_alternatives[orig_aa][mut_aa] = [alt[0] for alt in possible_alternatives]\n",
    "            precomputed_alternatives[orig_aa][mut_aa] = possible_alternatives.copy()\n",
    "            \n",
    "    return precomputed_alternatives\n",
    "\n",
    "\n",
    "# --- Enhanced Helper Functions ---\n",
    "\n",
    "def find_alternative_replacement_optimized(\n",
    "    original_token, \n",
    "    mutation_replacement, \n",
    "    replacement_pool_set, \n",
    "    precomputed_alts,\n",
    "    vocab_lineage\n",
    "):\n",
    "    \"\"\"\n",
    "    Finds an alternative token using the pre-computed lookup table with score-based selection.\n",
    "\n",
    "    Args:\n",
    "        original_token (str): The original token from the sequence.\n",
    "        mutation_replacement (str): The token chosen from siblings/children.\n",
    "        replacement_pool_set (set): A set of sibling/child mutations for fast lookups.\n",
    "        precomputed_alts (dict): The pre-computed table of better amino acids with scores.\n",
    "        vocab_lineage (dict): Dictionary describing token mutation relationships.\n",
    "\n",
    "    Returns:\n",
    "        str: A valid alternative token with highest score, or the original mutation_replacement if none is found.\n",
    "    \"\"\"\n",
    "    if len(original_token) != len(mutation_replacement):\n",
    "        return mutation_replacement, 0\n",
    "\n",
    "    diff_positions = [\n",
    "        i for i, (orig_aa, mut_aa) in enumerate(zip(original_token, mutation_replacement)) \n",
    "        if orig_aa != mut_aa\n",
    "    ]\n",
    "\n",
    "    if not diff_positions:\n",
    "        return mutation_replacement, 0\n",
    "\n",
    "    # Get mutation replacement order for comparison\n",
    "    mutation_order = vocab_lineage.get(mutation_replacement, {}).get('order', 0)\n",
    "    \n",
    "    # Generate all possible alternative tokens\n",
    "    alternative_candidates = []\n",
    "    \n",
    "    def generate_alternatives(token_list, pos_index, current_score):\n",
    "        if pos_index >= len(diff_positions):\n",
    "            # Complete alternative generated\n",
    "            new_token = \"\".join(token_list)\n",
    "            alternative_candidates.append((new_token, current_score))\n",
    "            return\n",
    "        \n",
    "        pos = diff_positions[pos_index]\n",
    "        original_aa = original_token[pos]\n",
    "        mutated_aa = mutation_replacement[pos]\n",
    "        \n",
    "        # Get alternatives for this position from precomputed table\n",
    "        alternatives_with_scores = precomputed_alts.get(original_aa, {}).get(mutated_aa, [])\n",
    "        \n",
    "        for alt_aa, score in alternatives_with_scores:\n",
    "            new_token_list = token_list.copy()\n",
    "            new_token_list[pos] = alt_aa\n",
    "            generate_alternatives(new_token_list, pos_index + 1, current_score + score)\n",
    "    \n",
    "    # Start generation with mutation_replacement as base\n",
    "    start_token_list = list(mutation_replacement)\n",
    "    generate_alternatives(start_token_list, 0, 0)\n",
    "    \n",
    "    # Sort by score in descending order\n",
    "    alternative_candidates.sort(key=lambda x: x[1], reverse=True)\n",
    "    \n",
    "    # Find the highest scoring alternative that meets constraints\n",
    "    for new_token, score in alternative_candidates:\n",
    "        if (new_token not in replacement_pool_set) and (new_token in vocab_lineage) and (vocab_lineage[new_token].get('order', 0) > mutation_order):\n",
    "            return new_token, score\n",
    "    \n",
    "    # If no valid alternative found, return original mutation\n",
    "    return mutation_replacement, 0\n",
    "\n",
    "\n",
    "def create_random_alternative_baseline(original_token, mutation_replacement, alternative_replacement, sub_matrix):\n",
    "    \"\"\"\n",
    "    Create random alternative replacements matched for BLOSUM scores.\n",
    "    \"\"\"\n",
    "    if len(original_token) != len(mutation_replacement):\n",
    "        return mutation_replacement\n",
    "    \n",
    "    AMINO_ACIDS = list('ABCDEFGHIKLMNPQRSTVWYZ')\n",
    "    alternative_token = list(mutation_replacement)\n",
    "    \n",
    "    for i, (orig_aa, mut_aa, alt_aa) in enumerate(zip(original_token, mutation_replacement, alternative_replacement)):\n",
    "        if orig_aa != mut_aa and mut_aa != alt_aa:\n",
    "            alternative_token[i] = random.choice([aa for aa in AMINO_ACIDS if aa != orig_aa])\n",
    "            # try:\n",
    "            #     target_score = sub_matrix[(orig_aa, mut_aa)]\n",
    "            #     # Find amino acids with similar BLOSUM scores\n",
    "            #     candidates = []\n",
    "            #     for aa in AMINO_ACIDS:\n",
    "            #         if aa != orig_aa and aa != mut_aa:\n",
    "            #             try:\n",
    "            #                 score = sub_matrix[(orig_aa, aa)]\n",
    "            #                 if abs(score - target_score) <= 1:  # Allow ±1 score difference\n",
    "            #                     candidates.append(aa)\n",
    "            #             except KeyError:\n",
    "            #                 continue\n",
    "                \n",
    "            #     if candidates:\n",
    "            #         alternative_token[i] = random.choice(candidates)\n",
    "            # except KeyError:\n",
    "            #     continue\n",
    "    \n",
    "    return ''.join(alternative_token)\n",
    "\n",
    "\n",
    "# --- Enhanced Main Function ---\n",
    "\n",
    "def run_mutation_experiment_optimized(df_protein, vocab_lineage_list, sub_matrix_precomputed_alternatives, create_baseline=True):\n",
    "    \"\"\"\n",
    "    Generates mutated, alternative, and baseline sequences efficiently.\n",
    "    \"\"\"\n",
    "    df_results = df_protein.copy()\n",
    "    token_cols = list(tokenizer_list.keys())\n",
    "    change_counters = {}\n",
    "    change_scores = {}\n",
    "\n",
    "    for col_name in token_cols:\n",
    "        print(f\"\\nProcessing column: {col_name}\")\n",
    "        change_counters[col_name] = 0\n",
    "        change_scores[col_name] = 0\n",
    "\n",
    "        sub_matrix_name = col_name.split()[2] if col_name.split()[1] == 'pre' else col_name.split()[1]\n",
    "        precomputed_alternatives = sub_matrix_precomputed_alternatives[sub_matrix_name]\n",
    "        sub_matrix = substitution_matrices.load(sub_matrix_name.upper())\n",
    "        \n",
    "        all_mutated_sequences = []\n",
    "        all_alternative_sequences = []\n",
    "        all_baseline_sequences = [] if create_baseline else None\n",
    "        \n",
    "        vocab_lineage = vocab_lineage_list.get(col_name, {})\n",
    "\n",
    "        for tokenized_sequence in tqdm(df_results[col_name]):\n",
    "            new_mutated_sequence = []\n",
    "            new_alternative_sequence = []\n",
    "            new_baseline_sequence = [] if create_baseline else None\n",
    "            \n",
    "            for token in tokenized_sequence:\n",
    "                token_info = vocab_lineage.get(token)\n",
    "                \n",
    "                if not token_info:\n",
    "                    new_mutated_sequence.append(token)\n",
    "                    new_alternative_sequence.append(token)\n",
    "                    if create_baseline:\n",
    "                        new_baseline_sequence.append(token)\n",
    "                    continue\n",
    "                \n",
    "                # if 'child_mutation' in token_info and token_info['child_mutation']:\n",
    "                #     replacement_pool = token_info.get('child_mutation', [])\n",
    "                #     replacement_pool_set = set(replacement_pool + [token])\n",
    "                if 'parent_mutation' in token_info and token_info['parent_mutation']:\n",
    "                    parent_mutation_token = token_info['parent_mutation']\n",
    "                    replacement_pool = vocab_lineage[parent_mutation_token].get('child_mutation', [])\n",
    "                    replacement_pool_set = set(replacement_pool + [token, parent_mutation_token])\n",
    "                else:\n",
    "                    new_mutated_sequence.append(token)\n",
    "                    new_alternative_sequence.append(token)\n",
    "                    if create_baseline:\n",
    "                        new_baseline_sequence.append(token)\n",
    "                    continue\n",
    "\n",
    "                \n",
    "\n",
    "                for mutation_replacement in replacement_pool:\n",
    "                    alternative_replacement, alt_score = find_alternative_replacement_optimized(\n",
    "                        token, \n",
    "                        mutation_replacement, \n",
    "                        replacement_pool_set, \n",
    "                        precomputed_alternatives,\n",
    "                        vocab_lineage\n",
    "                    )\n",
    "                    \n",
    "                    if alternative_replacement != mutation_replacement:\n",
    "                        new_mutated_sequence.append(mutation_replacement)\n",
    "                        new_alternative_sequence.append(alternative_replacement)\n",
    "                        if create_baseline:\n",
    "                            baseline_replacement = create_random_alternative_baseline(\n",
    "                                token, mutation_replacement, alternative_replacement, sub_matrix\n",
    "                            )\n",
    "                            new_baseline_sequence.append(baseline_replacement)\n",
    "                        change_counters[col_name] += 1\n",
    "                        change_scores[col_name] += alt_score\n",
    "                        break\n",
    "                else:\n",
    "                    new_mutated_sequence.append(token)\n",
    "                    new_alternative_sequence.append(token)\n",
    "                    if create_baseline:\n",
    "                        new_baseline_sequence.append(token)\n",
    "\n",
    "            all_mutated_sequences.append(new_mutated_sequence)\n",
    "            all_alternative_sequences.append(new_alternative_sequence)\n",
    "            if create_baseline:\n",
    "                all_baseline_sequences.append(new_baseline_sequence)\n",
    "\n",
    "        df_results[f'{col_name} mutated'] = all_mutated_sequences\n",
    "        df_results[f'{col_name} alternative'] = all_alternative_sequences\n",
    "        if create_baseline:\n",
    "            df_results[f'{col_name} baseline'] = all_baseline_sequences\n",
    "        print(f\"Changes: {change_counters[col_name]}, Scores: {change_scores[col_name]}, Score perc: {change_scores[col_name] / change_counters[col_name] if change_counters[col_name] > 0 else 0}\")\n",
    "        \n",
    "    return df_results, change_counters, change_scores"
   ]
  },
  {
   "cell_type": "code",
   "execution_count": null,
   "metadata": {},
   "outputs": [],
   "source": [
    "# --- Enhanced ESM-2 Functions ---\n",
    "\n",
    "# facebook/model_name\n",
    "# Checkpoint name\t    Num layers  Num parameters  Dim count\n",
    "# esm2_t48_15B_UR50D\t48\t        15B             5120       \n",
    "# esm2_t36_3B_UR50D\t    36          3B              2560        \n",
    "# esm2_t33_650M_UR50D\t33          650M            1280     \n",
    "# esm2_t30_150M_UR50D\t30          150M            640      \n",
    "# esm2_t12_35M_UR50D\t12          35M             480      \n",
    "# esm2_t6_8M_UR50D\t    6           8M              320      \n",
    "\n",
    "def get_esm2_model_and_tokenizer(model_name=\"facebook/esm2_t33_650M_UR50D\"):\n",
    "    \"\"\"Initialize ESM-2 model and tokenizer.\"\"\"\n",
    "    device = torch.device('cuda' if torch.cuda.is_available() else 'cpu')\n",
    "    print(f\"Using device: {device}\")\n",
    "    \n",
    "    tokenizer = EsmTokenizer.from_pretrained(model_name)\n",
    "    model = EsmForMaskedLM.from_pretrained(model_name).to(device)\n",
    "    model.eval()\n",
    "    \n",
    "    print(f\"Loaded ESM-2 model: {model_name}\")\n",
    "    return model, tokenizer, device\n",
    "\n",
    "\n",
    "def get_esm2_embeddings_and_logits_batch(sequences, model, tokenizer, device, batch_size=32, max_length=1024, extract_layers=None):\n",
    "    \"\"\"\n",
    "    Get ESM-2 embeddings and logits for multiple protein sequences in batches.\n",
    "    \n",
    "    Args:\n",
    "        extract_layers: List of layer indices to extract embeddings from (default: last layer only)\n",
    "    \"\"\"\n",
    "    if extract_layers is None:\n",
    "        extract_layers = [-1]  # Last layer only\n",
    "    \n",
    "    sequence_data = {}\n",
    "    \n",
    "    for i in tqdm(range(0, len(sequences), batch_size), desc=\"Processing embedding batches\"):\n",
    "        batch_sequences = sequences[i:i + batch_size]\n",
    "        \n",
    "        inputs = tokenizer(\n",
    "            batch_sequences, \n",
    "            return_tensors=\"pt\", \n",
    "            padding='longest', \n",
    "            truncation=True, \n",
    "            max_length=max_length\n",
    "        ).to(device)\n",
    "        \n",
    "        with torch.no_grad():\n",
    "            outputs = model(**inputs, output_hidden_states=True)\n",
    "            batch_logits = outputs.logits\n",
    "            hidden_states = outputs.hidden_states\n",
    "        \n",
    "        for j, seq in enumerate(batch_sequences):\n",
    "            seq_len = len(seq)\n",
    "            \n",
    "            # Store logits (for probability analysis)\n",
    "            logits = batch_logits[j, 1:seq_len+1].cpu()  # Remove <cls>, keep actual sequence\n",
    "            \n",
    "            # Store embeddings from specified layers\n",
    "            embeddings = {}\n",
    "            for layer_idx in extract_layers:\n",
    "                layer_embeddings = hidden_states[layer_idx][j, 1:seq_len+1].cpu()\n",
    "                embeddings[layer_idx] = layer_embeddings\n",
    "            \n",
    "            sequence_data[seq] = {\n",
    "                'logits': logits,\n",
    "                'embeddings': embeddings\n",
    "            }\n",
    "    \n",
    "    return sequence_data\n",
    "\n",
    "def get_masked_logits_batch(sequence_position_pairs, model, tokenizer, device, batch_size=32, max_length=1024):\n",
    "    \"\"\"\n",
    "    Get masked logits for multiple (sequence, position) pairs in batches.\n",
    "    \n",
    "    Args:\n",
    "        sequence_position_pairs: List of (sequence, position) tuples\n",
    "        model: ESM-2 model\n",
    "        tokenizer: ESM tokenizer\n",
    "        device: torch device\n",
    "        batch_size: Number of sequences to process in each batch\n",
    "        max_length: Maximum sequence length\n",
    "    \n",
    "    Returns:\n",
    "        Dict mapping (sequence, position) to masked position logits\n",
    "    \"\"\"\n",
    "    masked_logits = {}\n",
    "    \n",
    "    # Create all masked sequences\n",
    "    masked_sequences = []\n",
    "    sequence_position_map = {}\n",
    "    \n",
    "    for seq, pos in sequence_position_pairs:\n",
    "        if pos >= len(seq):\n",
    "            continue\n",
    "        \n",
    "        seq_list = list(seq)\n",
    "        seq_list[pos] = tokenizer.mask_token\n",
    "        masked_seq = ''.join(seq_list)\n",
    "        \n",
    "        masked_sequences.append(masked_seq)\n",
    "        sequence_position_map[len(masked_sequences) - 1] = (seq, pos)\n",
    "    \n",
    "    # Process masked sequences in batches\n",
    "    for i in tqdm(range(0, len(masked_sequences), batch_size), desc=\"Processing masked sequences\"):\n",
    "        batch_sequences = masked_sequences[i:i + batch_size]\n",
    "        \n",
    "        # Tokenize batch\n",
    "        inputs = tokenizer(\n",
    "            batch_sequences, \n",
    "            return_tensors=\"pt\", \n",
    "            padding='longest', \n",
    "            truncation=True, \n",
    "            max_length=max_length\n",
    "        ).to(device)\n",
    "        \n",
    "        with torch.no_grad():\n",
    "            outputs = model(**inputs)\n",
    "            batch_logits = outputs.logits\n",
    "        \n",
    "        # Extract logits at masked positions\n",
    "        for j, masked_seq in enumerate(batch_sequences):\n",
    "            batch_idx = i + j\n",
    "            if batch_idx not in sequence_position_map:\n",
    "                continue\n",
    "                \n",
    "            original_seq, position = sequence_position_map[batch_idx]\n",
    "            \n",
    "            # Find mask token position in tokenized sequence\n",
    "            mask_token_indices = (inputs.input_ids[j] == tokenizer.mask_token_id).nonzero(as_tuple=True)[0]\n",
    "            \n",
    "            if len(mask_token_indices) > 0:\n",
    "                mask_pos = mask_token_indices[0]\n",
    "                position_logits = batch_logits[j, mask_pos, :].cpu()\n",
    "                masked_logits[(original_seq, position)] = position_logits\n",
    "    \n",
    "    return masked_logits"
   ]
  },
  {
   "cell_type": "code",
   "execution_count": null,
   "metadata": {},
   "outputs": [],
   "source": [
    "# --- Analysis Functions ---\n",
    "\n",
    "def reconstruct_sequence_from_tokens(tokens):\n",
    "    \"\"\"Reconstruct amino acid sequence from tokens.\"\"\"\n",
    "    if isinstance(tokens, str):\n",
    "        tokens = ast.literal_eval(tokens)\n",
    "    return ''.join(tokens)\n",
    "\n",
    "\n",
    "def find_differing_amino_acid_positions(original_seq, mutated_seq, alternative_seq, baseline_seq=None):\n",
    "    \"\"\"Find positions where amino acids differ between sequences.\"\"\"\n",
    "    differing_positions = []\n",
    "    sequences = [mutated_seq, alternative_seq]\n",
    "    if baseline_seq:\n",
    "        sequences.append(baseline_seq)\n",
    "    \n",
    "    min_len = min(len(original_seq), *[len(seq) for seq in sequences])\n",
    "    \n",
    "    for i in range(min_len):\n",
    "        original_aa = original_seq[i]\n",
    "        # differs = any(seq[i] != original_aa for seq in sequences)\n",
    "        differs = all(seq[i] != original_aa for seq in sequences)\n",
    "        if differs:\n",
    "            differing_positions.append(i)\n",
    "    \n",
    "    return differing_positions\n",
    "\n",
    "\n",
    "def normalize_embeddings(embeddings, method='l2'):\n",
    "    \"\"\"Normalize embeddings using different methods.\"\"\"\n",
    "    if method == 'l2':\n",
    "        return F.normalize(embeddings, p=2, dim=-1)\n",
    "    elif method == 'center_l2':\n",
    "        centered = embeddings - embeddings.mean(dim=0, keepdim=True)\n",
    "        return F.normalize(centered, p=2, dim=-1)\n",
    "    else:\n",
    "        return embeddings\n",
    "\n",
    "\n",
    "def compute_similarities_multiple_methods(original_emb, comparison_emb, positions, method='concat'):\n",
    "    \"\"\"Compute similarities using different aggregation methods.\"\"\"\n",
    "    if not positions or original_emb is None or comparison_emb is None:\n",
    "        return None\n",
    "    \n",
    "    # Ensure positions are within bounds\n",
    "    max_pos = min(original_emb.shape[0] - 1, comparison_emb.shape[0] - 1)\n",
    "    valid_positions = [pos for pos in positions if pos <= max_pos]\n",
    "    \n",
    "    if not valid_positions:\n",
    "        return None\n",
    "    \n",
    "    if method == 'concat':\n",
    "        # Concatenate embeddings at differing positions\n",
    "        orig_concat = original_emb[valid_positions].flatten().unsqueeze(0).numpy()\n",
    "        comp_concat = comparison_emb[valid_positions].flatten().unsqueeze(0).numpy()\n",
    "        return cosine_similarity(orig_concat, comp_concat)[0, 0]\n",
    "    \n",
    "    elif method == 'position_wise':\n",
    "        # Compute position-wise similarities and average\n",
    "        similarities = []\n",
    "        for pos in valid_positions:\n",
    "            orig_vec = original_emb[pos].unsqueeze(0).numpy()\n",
    "            comp_vec = comparison_emb[pos].unsqueeze(0).numpy()\n",
    "            sim = cosine_similarity(orig_vec, comp_vec)[0, 0]\n",
    "            similarities.append(sim)\n",
    "        return np.mean(similarities)\n",
    "    \n",
    "    elif method == 'global_mean':\n",
    "        # Global mean pooling over entire sequence\n",
    "        orig_mean = original_emb.mean(dim=0).unsqueeze(0).numpy()\n",
    "        comp_mean = comparison_emb.mean(dim=0).unsqueeze(0).numpy()\n",
    "        return cosine_similarity(orig_mean, comp_mean)[0, 0]\n",
    "    \n",
    "    elif method == 'local_window':\n",
    "        # Local window around each changed position\n",
    "        window_size = 8\n",
    "        similarities = []\n",
    "        for pos in valid_positions:\n",
    "            start = max(0, pos - window_size)\n",
    "            end = min(original_emb.shape[0], pos + window_size + 1)\n",
    "            \n",
    "            orig_window = original_emb[start:end].mean(dim=0).unsqueeze(0).numpy()\n",
    "            comp_window = comparison_emb[start:end].mean(dim=0).unsqueeze(0).numpy()\n",
    "            sim = cosine_similarity(orig_window, comp_window)[0, 0]\n",
    "            similarities.append(sim)\n",
    "        return np.mean(similarities)\n",
    "\n",
    "\n",
    "def compute_rank_based_metrics_optimized(original_seq, mutated_seq, alternative_seq, baseline_seq, differing_positions, masked_logits_dict, tokenizer):\n",
    "    \"\"\"Compute rank-based metrics using precomputed masked logits.\"\"\"\n",
    "    rank_metrics = {'orig_wins_vs_mut': 0, 'orig_wins_vs_alt': 0, 'orig_wins_vs_base': 0, 'mut_wins_vs_alt': 0, 'mut_wins_vs_base': 0, 'alt_wins_vs_base': 0, 'total_positions': 0}\n",
    "    \n",
    "    if not differing_positions:\n",
    "        return rank_metrics\n",
    "    \n",
    "    for pos in differing_positions:\n",
    "        if pos >= len(original_seq):\n",
    "            continue\n",
    "            \n",
    "        # Get precomputed masked logits\n",
    "        masked_logits = masked_logits_dict.get((original_seq, pos))\n",
    "        if masked_logits is None:\n",
    "            continue\n",
    "        \n",
    "        # Convert to probabilities\n",
    "        position_probs = F.softmax(masked_logits, dim=-1)\n",
    "        \n",
    "        # Get amino acids at this position\n",
    "        orig_aa = original_seq[pos]\n",
    "        mut_aa = mutated_seq[pos] if pos < len(mutated_seq) else orig_aa\n",
    "        alt_aa = alternative_seq[pos] if pos < len(alternative_seq) else orig_aa\n",
    "        base_aa = baseline_seq[pos] if baseline_seq and pos < len(baseline_seq) else orig_aa\n",
    "        \n",
    "        # Get token IDs for amino acids\n",
    "        orig_token_id = tokenizer.convert_tokens_to_ids(orig_aa)\n",
    "        mut_token_id = tokenizer.convert_tokens_to_ids(mut_aa)\n",
    "        alt_token_id = tokenizer.convert_tokens_to_ids(alt_aa)\n",
    "        base_token_id = tokenizer.convert_tokens_to_ids(base_aa) if baseline_seq else None\n",
    "        \n",
    "        # Get probabilities\n",
    "        if all(tid is not None for tid in [orig_token_id, mut_token_id, alt_token_id]):\n",
    "            orig_prob = position_probs[orig_token_id].item()\n",
    "            mut_prob = position_probs[mut_token_id].item()\n",
    "            alt_prob = position_probs[alt_token_id].item()\n",
    "            \n",
    "            # Compare original vs others\n",
    "            if orig_prob > mut_prob:\n",
    "                rank_metrics['orig_wins_vs_mut'] += 1\n",
    "            if orig_prob > alt_prob:\n",
    "                rank_metrics['orig_wins_vs_alt'] += 1\n",
    "            \n",
    "            # Compare mutation vs alternative\n",
    "            if mut_prob > alt_prob:\n",
    "                rank_metrics['mut_wins_vs_alt'] += 1\n",
    "            \n",
    "            # Compare with baseline if available\n",
    "            if base_token_id is not None:\n",
    "                base_prob = position_probs[base_token_id].item()\n",
    "                if orig_prob > base_prob:\n",
    "                    rank_metrics['orig_wins_vs_base'] += 1\n",
    "                if mut_prob > base_prob:\n",
    "                    rank_metrics['mut_wins_vs_base'] += 1\n",
    "                if alt_prob > base_prob:\n",
    "                    rank_metrics['alt_wins_vs_base'] += 1\n",
    "            \n",
    "            rank_metrics['total_positions'] += 1\n",
    "    \n",
    "    return rank_metrics\n",
    "\n",
    "def compute_probability_metrics_optimized(original_seq, comparison_seq, differing_positions, sequence_data, masked_logits_dict, tokenizer):\n",
    "    \"\"\"Compute probability-based metrics using precomputed data.\"\"\"\n",
    "    metrics = {}\n",
    "    \n",
    "    # Get logits for both sequences\n",
    "    orig_logits = sequence_data.get(original_seq, {}).get('logits')\n",
    "    comp_logits = sequence_data.get(comparison_seq, {}).get('logits')\n",
    "    \n",
    "    if orig_logits is None or comp_logits is None:\n",
    "        return metrics\n",
    "    \n",
    "    # Use masked probabilities for more accurate analysis\n",
    "    orig_masked_probs = []\n",
    "    comp_masked_probs = []\n",
    "    \n",
    "    for pos in differing_positions:\n",
    "        if pos >= len(original_seq) or pos >= len(comparison_seq):\n",
    "            continue\n",
    "            \n",
    "        # Get masked probability for original sequence at this position\n",
    "        masked_logits = masked_logits_dict.get((original_seq, pos))\n",
    "        if masked_logits is not None:\n",
    "            position_probs = F.softmax(masked_logits, dim=-1)\n",
    "            \n",
    "            orig_aa = original_seq[pos]\n",
    "            comp_aa = comparison_seq[pos]\n",
    "            \n",
    "            orig_token_id = tokenizer.convert_tokens_to_ids(orig_aa)\n",
    "            comp_token_id = tokenizer.convert_tokens_to_ids(comp_aa)\n",
    "            \n",
    "            if orig_token_id is not None and comp_token_id is not None:\n",
    "                orig_prob = position_probs[orig_token_id].item()\n",
    "                comp_prob = position_probs[comp_token_id].item()\n",
    "                \n",
    "                orig_masked_probs.append(np.log(orig_prob + 1e-10))  # Add small epsilon to avoid log(0)\n",
    "                comp_masked_probs.append(np.log(comp_prob + 1e-10))\n",
    "    \n",
    "    if orig_masked_probs and comp_masked_probs:\n",
    "        metrics['avg_log_prob_orig_masked'] = np.mean(orig_masked_probs)\n",
    "        metrics['avg_log_prob_comp_masked'] = np.mean(comp_masked_probs)\n",
    "        metrics['log_prob_diff_masked'] = np.mean(orig_masked_probs) - np.mean(comp_masked_probs)\n",
    "    \n",
    "    return metrics\n",
    "\n",
    "def get_blosum_scores(original_seq, comparison_seq, differing_positions, sub_matrix):\n",
    "    \"\"\"Get BLOSUM scores for differing positions.\"\"\"\n",
    "    scores = []\n",
    "    for pos in differing_positions:\n",
    "        if pos < len(original_seq) and pos < len(comparison_seq):\n",
    "            orig_aa = original_seq[pos]\n",
    "            comp_aa = comparison_seq[pos]\n",
    "            try:\n",
    "                score = sub_matrix[(orig_aa, comp_aa)]\n",
    "                scores.append(score)\n",
    "            except KeyError:\n",
    "                continue\n",
    "    return scores"
   ]
  },
  {
   "cell_type": "code",
   "execution_count": 18,
   "metadata": {},
   "outputs": [],
   "source": [
    "def run_enhanced_protein_similarity_experiment(\n",
    "    df_protein_oma, \n",
    "    sub_matrix_precomputed_alternatives,\n",
    "    batch_size=32, \n",
    "    max_length=514, \n",
    "    extract_layers=[-1],\n",
    "    normalization_method='l2',\n",
    "    similarity_methods=['concat', 'position_wise', 'global_mean'],\n",
    "    include_probability_analysis=True,\n",
    "    include_rank_analysis=True,\n",
    "    include_baseline=True\n",
    "):\n",
    "    \"\"\"\n",
    "    Enhanced main function with optimized masked probability computation.\n",
    "    \"\"\"\n",
    "    \n",
    "    # Initialize ESM-2 model\n",
    "    model, tokenizer, device = get_esm2_model_and_tokenizer()\n",
    "    \n",
    "    # Identify tokenizer columns\n",
    "    tokenizer_columns = list(tokenizer_list.keys())\n",
    "    print(f\"Found {len(tokenizer_columns)} tokenizer columns to process\")\n",
    "    \n",
    "    # Collect all unique sequences and positions that need masking\n",
    "    print(\"Collecting unique sequences and masking positions...\")\n",
    "    unique_sequences = set()\n",
    "    sequence_position_pairs = set()\n",
    "    \n",
    "    for tokenizer_col in tokenizer_columns:\n",
    "        mutated_col = tokenizer_col + ' mutated'\n",
    "        alternative_col = tokenizer_col + ' alternative'\n",
    "        baseline_col = tokenizer_col + ' baseline' if include_baseline else None\n",
    "        \n",
    "        for idx, row in df_protein_oma.iterrows():\n",
    "            try:\n",
    "                original_tokens = row[tokenizer_col]\n",
    "                mutated_tokens = row[mutated_col]\n",
    "                alternative_tokens = row[alternative_col]\n",
    "                \n",
    "                original_seq = reconstruct_sequence_from_tokens(original_tokens)\n",
    "                mutated_seq = reconstruct_sequence_from_tokens(mutated_tokens)\n",
    "                alternative_seq = reconstruct_sequence_from_tokens(alternative_tokens)\n",
    "                \n",
    "                unique_sequences.update([original_seq, mutated_seq, alternative_seq])\n",
    "                \n",
    "                if include_baseline and baseline_col in row:\n",
    "                    baseline_tokens = row[baseline_col]\n",
    "                    baseline_seq = reconstruct_sequence_from_tokens(baseline_tokens)\n",
    "                    unique_sequences.add(baseline_seq)\n",
    "                \n",
    "                # Collect positions that need masking for rank/probability analysis\n",
    "                if include_rank_analysis or include_probability_analysis:\n",
    "                    baseline_seq_for_diff = reconstruct_sequence_from_tokens(row[baseline_col]) if include_baseline and baseline_col in row else None\n",
    "                    differing_positions = find_differing_amino_acid_positions(\n",
    "                        original_seq, mutated_seq, alternative_seq, baseline_seq_for_diff\n",
    "                    )\n",
    "                    \n",
    "                    # Add all differing positions for this sequence to masking list\n",
    "                    for pos in differing_positions:\n",
    "                        sequence_position_pairs.add((original_seq, pos))\n",
    "                        \n",
    "            except Exception as e:\n",
    "                continue\n",
    "    \n",
    "    unique_sequences = list(unique_sequences)\n",
    "    sequence_position_pairs = list(sequence_position_pairs)\n",
    "    print(f\"Found {len(unique_sequences)} unique sequences\")\n",
    "    print(f\"Found {len(sequence_position_pairs)} positions to mask\")\n",
    "    \n",
    "    # Get embeddings and logits for all sequences\n",
    "    # print(\"Computing ESM-2 embeddings and logits...\")\n",
    "    # sequence_data = get_esm2_embeddings_and_logits_batch(\n",
    "    #     unique_sequences, model, tokenizer, device, batch_size, max_length, extract_layers\n",
    "    # )\n",
    "\n",
    "    sequence_data = {}\n",
    "    \n",
    "    # Precompute masked logits for all positions\n",
    "    masked_logits_dict = {}\n",
    "    if include_rank_analysis or include_probability_analysis:\n",
    "        print(\"Precomputing masked logits for all positions...\")\n",
    "        masked_logits_dict = get_masked_logits_batch(\n",
    "            sequence_position_pairs, model, tokenizer, device, batch_size, max_length\n",
    "        )\n",
    "    \n",
    "    # Clear GPU memory\n",
    "    torch.cuda.empty_cache() if torch.cuda.is_available() else None\n",
    "    \n",
    "    # Process each tokenizer\n",
    "    all_results = []\n",
    "    \n",
    "    for tokenizer_col in tokenizer_columns:\n",
    "        print(f\"\\nProcessing tokenizer: {tokenizer_col}\")\n",
    "        \n",
    "        # Get substitution matrix for BLOSUM analysis\n",
    "        sub_matrix_name = tokenizer_col.split()[2] if tokenizer_col.split()[1] == 'pre' else tokenizer_col.split()[1]\n",
    "        sub_matrix = substitution_matrices.load(sub_matrix_name.upper())\n",
    "        \n",
    "        mutated_col = tokenizer_col + ' mutated'\n",
    "        alternative_col = tokenizer_col + ' alternative'\n",
    "        baseline_col = tokenizer_col + ' baseline' if include_baseline else None\n",
    "        \n",
    "        # Initialize result containers\n",
    "        results = {\n",
    "            'similarities': {method: {'mut': [], 'alt': [], 'base': []} for method in similarity_methods},\n",
    "            'probability_metrics': {'mut': [], 'alt': [], 'base': []},\n",
    "            'rank_metrics': [],\n",
    "            'blosum_scores': {'mut': [], 'alt': [], 'base': []},\n",
    "            'position_counts': []\n",
    "        }\n",
    "        \n",
    "        processed_proteins = 0\n",
    "        \n",
    "        for idx, row in tqdm(df_protein_oma.iterrows(), total=len(df_protein_oma), desc=\"Processing proteins\"):\n",
    "            try:\n",
    "                # Reconstruct sequences\n",
    "                original_seq = reconstruct_sequence_from_tokens(row[tokenizer_col])\n",
    "                mutated_seq = reconstruct_sequence_from_tokens(row[mutated_col])\n",
    "                alternative_seq = reconstruct_sequence_from_tokens(row[alternative_col])\n",
    "                baseline_seq = None\n",
    "                \n",
    "                if include_baseline and baseline_col in row:\n",
    "                    baseline_seq = reconstruct_sequence_from_tokens(row[baseline_col])\n",
    "                \n",
    "                # Skip if no changes\n",
    "                if (original_seq == mutated_seq and original_seq == alternative_seq and \n",
    "                    (not include_baseline or original_seq == baseline_seq)):\n",
    "                    continue\n",
    "                \n",
    "                # Find differing positions\n",
    "                differing_positions = find_differing_amino_acid_positions(\n",
    "                    original_seq, mutated_seq, alternative_seq, baseline_seq\n",
    "                )\n",
    "                \n",
    "                if not differing_positions:\n",
    "                    continue\n",
    "                \n",
    "                results['position_counts'].append(len(differing_positions))\n",
    "                \n",
    "                # Get sequence data\n",
    "                orig_data = sequence_data.get(original_seq, {})\n",
    "                mut_data = sequence_data.get(mutated_seq, {})\n",
    "                alt_data = sequence_data.get(alternative_seq, {})\n",
    "                base_data = sequence_data.get(baseline_seq, {}) if baseline_seq else {}\n",
    "                \n",
    "                # Process embeddings (same as before)\n",
    "                for layer_idx in extract_layers:\n",
    "                    orig_emb = orig_data.get('embeddings', {}).get(layer_idx)\n",
    "                    mut_emb = mut_data.get('embeddings', {}).get(layer_idx)\n",
    "                    alt_emb = alt_data.get('embeddings', {}).get(layer_idx)\n",
    "                    base_emb = base_data.get('embeddings', {}).get(layer_idx) if baseline_seq else None\n",
    "                    \n",
    "                    if orig_emb is None:\n",
    "                        continue\n",
    "                    \n",
    "                    # Normalize embeddings\n",
    "                    orig_emb_norm = normalize_embeddings(orig_emb, normalization_method)\n",
    "                    mut_emb_norm = normalize_embeddings(mut_emb, normalization_method) if mut_emb is not None else None\n",
    "                    alt_emb_norm = normalize_embeddings(alt_emb, normalization_method) if alt_emb is not None else None\n",
    "                    base_emb_norm = normalize_embeddings(base_emb, normalization_method) if base_emb is not None else None\n",
    "                    \n",
    "                    # Compute similarities using different methods\n",
    "                    for method in similarity_methods:\n",
    "                        if mut_emb_norm is not None:\n",
    "                            sim_mut = compute_similarities_multiple_methods(\n",
    "                                orig_emb_norm, mut_emb_norm, differing_positions, method\n",
    "                            )\n",
    "                            if sim_mut is not None:\n",
    "                                results['similarities'][method]['mut'].append(sim_mut)\n",
    "                        \n",
    "                        if alt_emb_norm is not None:\n",
    "                            sim_alt = compute_similarities_multiple_methods(\n",
    "                                orig_emb_norm, alt_emb_norm, differing_positions, method\n",
    "                            )\n",
    "                            if sim_alt is not None:\n",
    "                                results['similarities'][method]['alt'].append(sim_alt)\n",
    "                        \n",
    "                        if base_emb_norm is not None:\n",
    "                            sim_base = compute_similarities_multiple_methods(\n",
    "                                orig_emb_norm, base_emb_norm, differing_positions, method\n",
    "                            )\n",
    "                            if sim_base is not None:\n",
    "                                results['similarities'][method]['base'].append(sim_base)\n",
    "                \n",
    "                # Optimized probability analysis\n",
    "                if include_probability_analysis:\n",
    "                    prob_metrics_mut = compute_probability_metrics_optimized(\n",
    "                        original_seq, mutated_seq, differing_positions, sequence_data, masked_logits_dict, tokenizer\n",
    "                    )\n",
    "                    prob_metrics_alt = compute_probability_metrics_optimized(\n",
    "                        original_seq, alternative_seq, differing_positions, sequence_data, masked_logits_dict, tokenizer\n",
    "                    )\n",
    "                    \n",
    "                    results['probability_metrics']['mut'].append(prob_metrics_mut)\n",
    "                    results['probability_metrics']['alt'].append(prob_metrics_alt)\n",
    "                    \n",
    "                    if baseline_seq:\n",
    "                        prob_metrics_base = compute_probability_metrics_optimized(\n",
    "                            original_seq, baseline_seq, differing_positions, sequence_data, masked_logits_dict, tokenizer\n",
    "                        )\n",
    "                        results['probability_metrics']['base'].append(prob_metrics_base)\n",
    "                \n",
    "                # Optimized rank analysis\n",
    "                if include_rank_analysis:\n",
    "                    rank_metrics = compute_rank_based_metrics_optimized(\n",
    "                        original_seq, mutated_seq, alternative_seq, baseline_seq, differing_positions, \n",
    "                        masked_logits_dict, tokenizer\n",
    "                    )\n",
    "                    results['rank_metrics'].append(rank_metrics)\n",
    "                \n",
    "                # BLOSUM score analysis (same as before)\n",
    "                blosum_mut = get_blosum_scores(original_seq, mutated_seq, differing_positions, sub_matrix)\n",
    "                blosum_alt = get_blosum_scores(original_seq, alternative_seq, differing_positions, sub_matrix)\n",
    "                \n",
    "                results['blosum_scores']['mut'].extend(blosum_mut)\n",
    "                results['blosum_scores']['alt'].extend(blosum_alt)\n",
    "                \n",
    "                if baseline_seq:\n",
    "                    blosum_base = get_blosum_scores(original_seq, baseline_seq, differing_positions, sub_matrix)\n",
    "                    results['blosum_scores']['base'].extend(blosum_base)\n",
    "                \n",
    "                processed_proteins += 1\n",
    "                \n",
    "            except Exception as e:\n",
    "                print(f\"Error processing row {idx}: {e}\")\n",
    "                continue\n",
    "        \n",
    "        # Compile results for this tokenizer (same as before)\n",
    "        tokenizer_results = {\n",
    "            'tokenizer': tokenizer_col,\n",
    "            'processed_proteins': processed_proteins,\n",
    "            'total_differing_positions': sum(results['position_counts']),\n",
    "            'avg_differing_positions': np.mean(results['position_counts']) if results['position_counts'] else 0\n",
    "        }\n",
    "        \n",
    "        # Add similarity results\n",
    "        for method in similarity_methods:\n",
    "            for comparison in ['mut', 'alt', 'base']:\n",
    "                if results['similarities'][method][comparison]:\n",
    "                    tokenizer_results[f'{method}_similarity_{comparison}'] = np.mean(results['similarities'][method][comparison])\n",
    "        \n",
    "        # Add rank results with new metrics\n",
    "        if results['rank_metrics']:\n",
    "            total_wins_mut = sum(r['orig_wins_vs_mut'] for r in results['rank_metrics'])\n",
    "            total_wins_alt = sum(r['orig_wins_vs_alt'] for r in results['rank_metrics'])\n",
    "            total_wins_base = sum(r['orig_wins_vs_base'] for r in results['rank_metrics'])\n",
    "            total_wins_mutalt = sum(r['mut_wins_vs_alt'] for r in results['rank_metrics'])\n",
    "            total_wins_mutbase = sum(r['mut_wins_vs_base'] for r in results['rank_metrics'])\n",
    "            total_wins_altbase = sum(r['alt_wins_vs_base'] for r in results['rank_metrics'])\n",
    "            total_positions = sum(r['total_positions'] for r in results['rank_metrics'])\n",
    "            \n",
    "            if total_positions > 0:\n",
    "                tokenizer_results['rank_win_rate_vs_mut'] = total_wins_mut / total_positions\n",
    "                tokenizer_results['rank_win_rate_vs_alt'] = total_wins_alt / total_positions\n",
    "                tokenizer_results['rank_win_rate_vs_base'] = total_wins_base / total_positions\n",
    "                tokenizer_results['rank_win_rate_mut_vs_alt'] = total_wins_mutalt / total_positions\n",
    "                tokenizer_results['rank_win_rate_mut_vs_base'] = total_wins_mutbase / total_positions\n",
    "                tokenizer_results['rank_win_rate_alt_vs_base'] = total_wins_altbase / total_positions\n",
    "        \n",
    "        # Add BLOSUM correlation analysis (same as before)\n",
    "        # for comparison in ['mut', 'alt', 'base']:\n",
    "        #     blosum_scores = results['blosum_scores'][comparison]\n",
    "        #     similarities = results['similarities']['concat'][comparison]\n",
    "            \n",
    "        #     if len(blosum_scores) > 0 and len(similarities) > 0 and len(blosum_scores) == len(similarities):\n",
    "        #         correlation, p_value = stats.pearsonr(blosum_scores, similarities)\n",
    "        #         tokenizer_results[f'blosum_similarity_correlation_{comparison}'] = correlation\n",
    "        #         tokenizer_results[f'blosum_similarity_p_value_{comparison}'] = p_value\n",
    "        \n",
    "        all_results.append(tokenizer_results)\n",
    "    \n",
    "    return pd.DataFrame(all_results)"
   ]
  },
  {
   "cell_type": "code",
   "execution_count": 20,
   "metadata": {},
   "outputs": [
    {
     "name": "stdout",
     "output_type": "stream",
     "text": [
      "Starting enhanced protein mutation analysis...\n",
      "Pre-computing alternative amino acid scores...\n"
     ]
    },
    {
     "name": "stderr",
     "output_type": "stream",
     "text": [
      "100%|██████████| 22/22 [00:00<00:00, 1162.50it/s]\n"
     ]
    },
    {
     "name": "stdout",
     "output_type": "stream",
     "text": [
      "Pre-computing alternative amino acid scores...\n"
     ]
    },
    {
     "name": "stderr",
     "output_type": "stream",
     "text": [
      "100%|██████████| 22/22 [00:00<00:00, 1183.83it/s]\n"
     ]
    },
    {
     "name": "stdout",
     "output_type": "stream",
     "text": [
      "Pre-computing alternative amino acid scores...\n"
     ]
    },
    {
     "name": "stderr",
     "output_type": "stream",
     "text": [
      "100%|██████████| 22/22 [00:00<00:00, 1213.52it/s]\n"
     ]
    },
    {
     "name": "stdout",
     "output_type": "stream",
     "text": [
      "Pre-computing alternative amino acid scores...\n"
     ]
    },
    {
     "name": "stderr",
     "output_type": "stream",
     "text": [
      "100%|██████████| 22/22 [00:00<00:00, 1221.28it/s]\n"
     ]
    },
    {
     "name": "stdout",
     "output_type": "stream",
     "text": [
      "Running mutation experiment with baseline...\n",
      "\n",
      "Processing column: PUMA blosum62 0.7 0.05 800\n"
     ]
    },
    {
     "name": "stderr",
     "output_type": "stream",
     "text": [
      "100%|██████████| 100/100 [00:00<00:00, 4247.78it/s]\n"
     ]
    },
    {
     "name": "stdout",
     "output_type": "stream",
     "text": [
      "Changes: 323, Scores: 224.0, Score perc: 0.6934984520123839\n",
      "\n",
      "Processing column: PUMA blosum62 0.7 0.05 1600\n"
     ]
    },
    {
     "name": "stderr",
     "output_type": "stream",
     "text": [
      "100%|██████████| 100/100 [00:00<00:00, 3194.42it/s]\n"
     ]
    },
    {
     "name": "stdout",
     "output_type": "stream",
     "text": [
      "Changes: 722, Scores: 705.0, Score perc: 0.9764542936288089\n",
      "\n",
      "Processing column: PUMA blosum62 0.7 0.05 3200\n"
     ]
    },
    {
     "name": "stderr",
     "output_type": "stream",
     "text": [
      "100%|██████████| 100/100 [00:00<00:00, 2930.97it/s]\n"
     ]
    },
    {
     "name": "stdout",
     "output_type": "stream",
     "text": [
      "Changes: 1177, Scores: 1321.0, Score perc: 1.1223449447748512\n",
      "\n",
      "Processing column: PUMA blosum62 0.7 0.05 6400\n"
     ]
    },
    {
     "name": "stderr",
     "output_type": "stream",
     "text": [
      "100%|██████████| 100/100 [00:00<00:00, 2020.54it/s]\n"
     ]
    },
    {
     "name": "stdout",
     "output_type": "stream",
     "text": [
      "Changes: 1499, Scores: 1712.0, Score perc: 1.14209472981988\n",
      "\n",
      "Processing column: PUMA blosum62 0.7 0.05 12800\n"
     ]
    },
    {
     "name": "stderr",
     "output_type": "stream",
     "text": [
      "100%|██████████| 100/100 [00:00<00:00, 1549.26it/s]\n"
     ]
    },
    {
     "name": "stdout",
     "output_type": "stream",
     "text": [
      "Changes: 1844, Scores: 2191.0, Score perc: 1.188177874186551\n",
      "\n",
      "Processing column: PUMA blosum62 0.7 0.05 25600\n"
     ]
    },
    {
     "name": "stderr",
     "output_type": "stream",
     "text": [
      "100%|██████████| 100/100 [00:00<00:00, 1321.02it/s]\n"
     ]
    },
    {
     "name": "stdout",
     "output_type": "stream",
     "text": [
      "Changes: 2168, Scores: 2595.0, Score perc: 1.1969557195571956\n",
      "\n",
      "Processing column: PUMA pre blosum62 0.7 0.05 800\n"
     ]
    },
    {
     "name": "stderr",
     "output_type": "stream",
     "text": [
      "100%|██████████| 100/100 [00:00<00:00, 4212.04it/s]\n"
     ]
    },
    {
     "name": "stdout",
     "output_type": "stream",
     "text": [
      "Changes: 277, Scores: 176.0, Score perc: 0.6353790613718412\n",
      "\n",
      "Processing column: PUMA pre blosum62 0.7 0.05 1600\n"
     ]
    },
    {
     "name": "stderr",
     "output_type": "stream",
     "text": [
      "100%|██████████| 100/100 [00:00<00:00, 3596.86it/s]\n"
     ]
    },
    {
     "name": "stdout",
     "output_type": "stream",
     "text": [
      "Changes: 728, Scores: 685.0, Score perc: 0.9409340659340659\n",
      "\n",
      "Processing column: PUMA pre blosum62 0.7 0.05 3200\n"
     ]
    },
    {
     "name": "stderr",
     "output_type": "stream",
     "text": [
      "100%|██████████| 100/100 [00:00<00:00, 2875.11it/s]\n"
     ]
    },
    {
     "name": "stdout",
     "output_type": "stream",
     "text": [
      "Changes: 1173, Scores: 1238.0, Score perc: 1.0554134697357205\n",
      "\n",
      "Processing column: PUMA pre blosum62 0.7 0.05 6400\n"
     ]
    },
    {
     "name": "stderr",
     "output_type": "stream",
     "text": [
      "100%|██████████| 100/100 [00:00<00:00, 1913.92it/s]\n"
     ]
    },
    {
     "name": "stdout",
     "output_type": "stream",
     "text": [
      "Changes: 1500, Scores: 1669.0, Score perc: 1.1126666666666667\n",
      "\n",
      "Processing column: PUMA pre blosum62 0.7 0.05 12800\n"
     ]
    },
    {
     "name": "stderr",
     "output_type": "stream",
     "text": [
      "100%|██████████| 100/100 [00:00<00:00, 1618.07it/s]\n"
     ]
    },
    {
     "name": "stdout",
     "output_type": "stream",
     "text": [
      "Changes: 1839, Scores: 2100.0, Score perc: 1.1419249592169658\n",
      "\n",
      "Processing column: PUMA pre blosum62 0.7 0.05 25600\n"
     ]
    },
    {
     "name": "stderr",
     "output_type": "stream",
     "text": [
      "100%|██████████| 100/100 [00:00<00:00, 1424.31it/s]\n"
     ]
    },
    {
     "name": "stdout",
     "output_type": "stream",
     "text": [
      "Changes: 2176, Scores: 2491.0, Score perc: 1.1447610294117647\n",
      "\n",
      "Processing column: PUMA blosum62 0.8 0.05 800\n"
     ]
    },
    {
     "name": "stderr",
     "output_type": "stream",
     "text": [
      "100%|██████████| 100/100 [00:00<00:00, 22937.24it/s]\n"
     ]
    },
    {
     "name": "stdout",
     "output_type": "stream",
     "text": [
      "Changes: 105, Scores: 140.0, Score perc: 1.3333333333333333\n",
      "\n",
      "Processing column: PUMA blosum62 0.8 0.05 1600\n"
     ]
    },
    {
     "name": "stderr",
     "output_type": "stream",
     "text": [
      "100%|██████████| 100/100 [00:00<00:00, 15716.66it/s]\n"
     ]
    },
    {
     "name": "stdout",
     "output_type": "stream",
     "text": [
      "Changes: 280, Scores: 370.0, Score perc: 1.3214285714285714\n",
      "\n",
      "Processing column: PUMA blosum62 0.8 0.05 3200\n"
     ]
    },
    {
     "name": "stderr",
     "output_type": "stream",
     "text": [
      "100%|██████████| 100/100 [00:00<00:00, 10812.85it/s]\n"
     ]
    },
    {
     "name": "stdout",
     "output_type": "stream",
     "text": [
      "Changes: 407, Scores: 554.0, Score perc: 1.3611793611793612\n",
      "\n",
      "Processing column: PUMA blosum62 0.8 0.05 6400\n"
     ]
    },
    {
     "name": "stderr",
     "output_type": "stream",
     "text": [
      "100%|██████████| 100/100 [00:00<00:00, 6627.64it/s]\n"
     ]
    },
    {
     "name": "stdout",
     "output_type": "stream",
     "text": [
      "Changes: 531, Scores: 706.0, Score perc: 1.329566854990584\n",
      "\n",
      "Processing column: PUMA blosum62 0.8 0.05 12800\n"
     ]
    },
    {
     "name": "stderr",
     "output_type": "stream",
     "text": [
      "100%|██████████| 100/100 [00:00<00:00, 4209.42it/s]\n"
     ]
    },
    {
     "name": "stdout",
     "output_type": "stream",
     "text": [
      "Changes: 668, Scores: 853.0, Score perc: 1.276946107784431\n",
      "\n",
      "Processing column: PUMA blosum62 0.8 0.05 25600\n"
     ]
    },
    {
     "name": "stderr",
     "output_type": "stream",
     "text": [
      "100%|██████████| 100/100 [00:00<00:00, 3668.47it/s]\n"
     ]
    },
    {
     "name": "stdout",
     "output_type": "stream",
     "text": [
      "Changes: 878, Scores: 1076.0, Score perc: 1.2255125284738042\n",
      "\n",
      "Processing column: PUMA blosum62 0.7 0.005 800\n"
     ]
    },
    {
     "name": "stderr",
     "output_type": "stream",
     "text": [
      "100%|██████████| 100/100 [00:00<00:00, 3572.33it/s]\n"
     ]
    },
    {
     "name": "stdout",
     "output_type": "stream",
     "text": [
      "Changes: 303, Scores: 195.0, Score perc: 0.6435643564356436\n",
      "\n",
      "Processing column: PUMA blosum62 0.7 0.005 1600\n"
     ]
    },
    {
     "name": "stderr",
     "output_type": "stream",
     "text": [
      "100%|██████████| 100/100 [00:00<00:00, 2864.67it/s]\n"
     ]
    },
    {
     "name": "stdout",
     "output_type": "stream",
     "text": [
      "Changes: 642, Scores: 634.0, Score perc: 0.9875389408099688\n",
      "\n",
      "Processing column: PUMA blosum62 0.7 0.005 3200\n"
     ]
    },
    {
     "name": "stderr",
     "output_type": "stream",
     "text": [
      "100%|██████████| 100/100 [00:00<00:00, 2458.45it/s]\n"
     ]
    },
    {
     "name": "stdout",
     "output_type": "stream",
     "text": [
      "Changes: 1132, Scores: 1292.0, Score perc: 1.1413427561837455\n",
      "\n",
      "Processing column: PUMA blosum62 0.7 0.005 6400\n"
     ]
    },
    {
     "name": "stderr",
     "output_type": "stream",
     "text": [
      "100%|██████████| 100/100 [00:00<00:00, 1729.98it/s]\n"
     ]
    },
    {
     "name": "stdout",
     "output_type": "stream",
     "text": [
      "Changes: 1451, Scores: 1676.0, Score perc: 1.155065472088215\n",
      "\n",
      "Processing column: PUMA blosum62 0.7 0.005 12800\n"
     ]
    },
    {
     "name": "stderr",
     "output_type": "stream",
     "text": [
      "100%|██████████| 100/100 [00:00<00:00, 1434.63it/s]\n"
     ]
    },
    {
     "name": "stdout",
     "output_type": "stream",
     "text": [
      "Changes: 1791, Scores: 2080.0, Score perc: 1.1613623673925182\n",
      "\n",
      "Processing column: PUMA blosum62 0.7 0.005 25600\n"
     ]
    },
    {
     "name": "stderr",
     "output_type": "stream",
     "text": [
      "100%|██████████| 100/100 [00:00<00:00, 845.09it/s]\n"
     ]
    },
    {
     "name": "stdout",
     "output_type": "stream",
     "text": [
      "Changes: 2064, Scores: 2470.0, Score perc: 1.196705426356589\n",
      "\n",
      "Processing column: PUMA blosum45 0.7 0.05 800\n"
     ]
    },
    {
     "name": "stderr",
     "output_type": "stream",
     "text": [
      "100%|██████████| 100/100 [00:00<00:00, 3687.66it/s]\n"
     ]
    },
    {
     "name": "stdout",
     "output_type": "stream",
     "text": [
      "Changes: 396, Scores: 219.0, Score perc: 0.553030303030303\n",
      "\n",
      "Processing column: PUMA blosum45 0.7 0.05 1600\n"
     ]
    },
    {
     "name": "stderr",
     "output_type": "stream",
     "text": [
      "100%|██████████| 100/100 [00:00<00:00, 2750.63it/s]\n"
     ]
    },
    {
     "name": "stdout",
     "output_type": "stream",
     "text": [
      "Changes: 808, Scores: 664.0, Score perc: 0.8217821782178217\n",
      "\n",
      "Processing column: PUMA blosum45 0.7 0.05 3200\n"
     ]
    },
    {
     "name": "stderr",
     "output_type": "stream",
     "text": [
      "100%|██████████| 100/100 [00:00<00:00, 1934.62it/s]\n"
     ]
    },
    {
     "name": "stdout",
     "output_type": "stream",
     "text": [
      "Changes: 1291, Scores: 1263.0, Score perc: 0.9783113865220759\n",
      "\n",
      "Processing column: PUMA blosum45 0.7 0.05 6400\n"
     ]
    },
    {
     "name": "stderr",
     "output_type": "stream",
     "text": [
      "100%|██████████| 100/100 [00:00<00:00, 1450.83it/s]\n"
     ]
    },
    {
     "name": "stdout",
     "output_type": "stream",
     "text": [
      "Changes: 1617, Scores: 1605.0, Score perc: 0.9925788497217068\n",
      "\n",
      "Processing column: PUMA blosum45 0.7 0.05 12800\n"
     ]
    },
    {
     "name": "stderr",
     "output_type": "stream",
     "text": [
      "100%|██████████| 100/100 [00:00<00:00, 1015.50it/s]\n"
     ]
    },
    {
     "name": "stdout",
     "output_type": "stream",
     "text": [
      "Changes: 1965, Scores: 1976.0, Score perc: 1.0055979643765904\n",
      "\n",
      "Processing column: PUMA blosum45 0.7 0.05 25600\n"
     ]
    },
    {
     "name": "stderr",
     "output_type": "stream",
     "text": [
      "100%|██████████| 100/100 [00:00<00:00, 985.42it/s]\n"
     ]
    },
    {
     "name": "stdout",
     "output_type": "stream",
     "text": [
      "Changes: 2300, Scores: 2457.0, Score perc: 1.0682608695652174\n",
      "\n",
      "Processing column: PUMA pam70 0.7 0.05 800\n"
     ]
    },
    {
     "name": "stderr",
     "output_type": "stream",
     "text": [
      "100%|██████████| 100/100 [00:00<00:00, 7488.76it/s]\n"
     ]
    },
    {
     "name": "stdout",
     "output_type": "stream",
     "text": [
      "Changes: 326, Scores: 402.0, Score perc: 1.2331288343558282\n",
      "\n",
      "Processing column: PUMA pam70 0.7 0.05 1600\n"
     ]
    },
    {
     "name": "stderr",
     "output_type": "stream",
     "text": [
      "100%|██████████| 100/100 [00:00<00:00, 5099.46it/s]\n"
     ]
    },
    {
     "name": "stdout",
     "output_type": "stream",
     "text": [
      "Changes: 682, Scores: 1028.0, Score perc: 1.5073313782991202\n",
      "\n",
      "Processing column: PUMA pam70 0.7 0.05 3200\n"
     ]
    },
    {
     "name": "stderr",
     "output_type": "stream",
     "text": [
      "100%|██████████| 100/100 [00:00<00:00, 4074.55it/s]\n"
     ]
    },
    {
     "name": "stdout",
     "output_type": "stream",
     "text": [
      "Changes: 974, Scores: 1613.0, Score perc: 1.6560574948665299\n",
      "\n",
      "Processing column: PUMA pam70 0.7 0.05 6400\n"
     ]
    },
    {
     "name": "stderr",
     "output_type": "stream",
     "text": [
      "100%|██████████| 100/100 [00:00<00:00, 3364.14it/s]\n",
      "/tmp/ipykernel_2783/2705302036.py:236: PerformanceWarning: DataFrame is highly fragmented.  This is usually the result of calling `frame.insert` many times, which has poor performance.  Consider joining all columns at once using pd.concat(axis=1) instead. To get a de-fragmented frame, use `newframe = frame.copy()`\n",
      "  df_results[f'{col_name} mutated'] = all_mutated_sequences\n",
      "/tmp/ipykernel_2783/2705302036.py:237: PerformanceWarning: DataFrame is highly fragmented.  This is usually the result of calling `frame.insert` many times, which has poor performance.  Consider joining all columns at once using pd.concat(axis=1) instead. To get a de-fragmented frame, use `newframe = frame.copy()`\n",
      "  df_results[f'{col_name} alternative'] = all_alternative_sequences\n",
      "/tmp/ipykernel_2783/2705302036.py:239: PerformanceWarning: DataFrame is highly fragmented.  This is usually the result of calling `frame.insert` many times, which has poor performance.  Consider joining all columns at once using pd.concat(axis=1) instead. To get a de-fragmented frame, use `newframe = frame.copy()`\n",
      "  df_results[f'{col_name} baseline'] = all_baseline_sequences\n"
     ]
    },
    {
     "name": "stdout",
     "output_type": "stream",
     "text": [
      "Changes: 1200, Scores: 1962.0, Score perc: 1.635\n",
      "\n",
      "Processing column: PUMA pam70 0.7 0.05 12800\n"
     ]
    },
    {
     "name": "stderr",
     "output_type": "stream",
     "text": [
      "100%|██████████| 100/100 [00:00<00:00, 2813.84it/s]\n",
      "/tmp/ipykernel_2783/2705302036.py:236: PerformanceWarning: DataFrame is highly fragmented.  This is usually the result of calling `frame.insert` many times, which has poor performance.  Consider joining all columns at once using pd.concat(axis=1) instead. To get a de-fragmented frame, use `newframe = frame.copy()`\n",
      "  df_results[f'{col_name} mutated'] = all_mutated_sequences\n",
      "/tmp/ipykernel_2783/2705302036.py:237: PerformanceWarning: DataFrame is highly fragmented.  This is usually the result of calling `frame.insert` many times, which has poor performance.  Consider joining all columns at once using pd.concat(axis=1) instead. To get a de-fragmented frame, use `newframe = frame.copy()`\n",
      "  df_results[f'{col_name} alternative'] = all_alternative_sequences\n",
      "/tmp/ipykernel_2783/2705302036.py:239: PerformanceWarning: DataFrame is highly fragmented.  This is usually the result of calling `frame.insert` many times, which has poor performance.  Consider joining all columns at once using pd.concat(axis=1) instead. To get a de-fragmented frame, use `newframe = frame.copy()`\n",
      "  df_results[f'{col_name} baseline'] = all_baseline_sequences\n"
     ]
    },
    {
     "name": "stdout",
     "output_type": "stream",
     "text": [
      "Changes: 1448, Scores: 2380.0, Score perc: 1.643646408839779\n",
      "\n",
      "Processing column: PUMA pam70 0.7 0.05 25600\n"
     ]
    },
    {
     "name": "stderr",
     "output_type": "stream",
     "text": [
      "100%|██████████| 100/100 [00:00<00:00, 2342.32it/s]\n",
      "/tmp/ipykernel_2783/2705302036.py:236: PerformanceWarning: DataFrame is highly fragmented.  This is usually the result of calling `frame.insert` many times, which has poor performance.  Consider joining all columns at once using pd.concat(axis=1) instead. To get a de-fragmented frame, use `newframe = frame.copy()`\n",
      "  df_results[f'{col_name} mutated'] = all_mutated_sequences\n",
      "/tmp/ipykernel_2783/2705302036.py:237: PerformanceWarning: DataFrame is highly fragmented.  This is usually the result of calling `frame.insert` many times, which has poor performance.  Consider joining all columns at once using pd.concat(axis=1) instead. To get a de-fragmented frame, use `newframe = frame.copy()`\n",
      "  df_results[f'{col_name} alternative'] = all_alternative_sequences\n",
      "/tmp/ipykernel_2783/2705302036.py:239: PerformanceWarning: DataFrame is highly fragmented.  This is usually the result of calling `frame.insert` many times, which has poor performance.  Consider joining all columns at once using pd.concat(axis=1) instead. To get a de-fragmented frame, use `newframe = frame.copy()`\n",
      "  df_results[f'{col_name} baseline'] = all_baseline_sequences\n"
     ]
    },
    {
     "name": "stdout",
     "output_type": "stream",
     "text": [
      "Changes: 1721, Scores: 3030.0, Score perc: 1.7606042998256828\n",
      "\n",
      "Processing column: PUMA pam250 0.8 0.05 800\n"
     ]
    },
    {
     "name": "stderr",
     "output_type": "stream",
     "text": [
      "100%|██████████| 100/100 [00:00<00:00, 2633.80it/s]\n",
      "/tmp/ipykernel_2783/2705302036.py:236: PerformanceWarning: DataFrame is highly fragmented.  This is usually the result of calling `frame.insert` many times, which has poor performance.  Consider joining all columns at once using pd.concat(axis=1) instead. To get a de-fragmented frame, use `newframe = frame.copy()`\n",
      "  df_results[f'{col_name} mutated'] = all_mutated_sequences\n",
      "/tmp/ipykernel_2783/2705302036.py:237: PerformanceWarning: DataFrame is highly fragmented.  This is usually the result of calling `frame.insert` many times, which has poor performance.  Consider joining all columns at once using pd.concat(axis=1) instead. To get a de-fragmented frame, use `newframe = frame.copy()`\n",
      "  df_results[f'{col_name} alternative'] = all_alternative_sequences\n",
      "/tmp/ipykernel_2783/2705302036.py:239: PerformanceWarning: DataFrame is highly fragmented.  This is usually the result of calling `frame.insert` many times, which has poor performance.  Consider joining all columns at once using pd.concat(axis=1) instead. To get a de-fragmented frame, use `newframe = frame.copy()`\n",
      "  df_results[f'{col_name} baseline'] = all_baseline_sequences\n"
     ]
    },
    {
     "name": "stdout",
     "output_type": "stream",
     "text": [
      "Changes: 432, Scores: 193.0, Score perc: 0.44675925925925924\n",
      "\n",
      "Processing column: PUMA pam250 0.8 0.05 1600\n"
     ]
    },
    {
     "name": "stderr",
     "output_type": "stream",
     "text": [
      "100%|██████████| 100/100 [00:00<00:00, 1733.54it/s]\n",
      "/tmp/ipykernel_2783/2705302036.py:236: PerformanceWarning: DataFrame is highly fragmented.  This is usually the result of calling `frame.insert` many times, which has poor performance.  Consider joining all columns at once using pd.concat(axis=1) instead. To get a de-fragmented frame, use `newframe = frame.copy()`\n",
      "  df_results[f'{col_name} mutated'] = all_mutated_sequences\n",
      "/tmp/ipykernel_2783/2705302036.py:237: PerformanceWarning: DataFrame is highly fragmented.  This is usually the result of calling `frame.insert` many times, which has poor performance.  Consider joining all columns at once using pd.concat(axis=1) instead. To get a de-fragmented frame, use `newframe = frame.copy()`\n",
      "  df_results[f'{col_name} alternative'] = all_alternative_sequences\n",
      "/tmp/ipykernel_2783/2705302036.py:239: PerformanceWarning: DataFrame is highly fragmented.  This is usually the result of calling `frame.insert` many times, which has poor performance.  Consider joining all columns at once using pd.concat(axis=1) instead. To get a de-fragmented frame, use `newframe = frame.copy()`\n",
      "  df_results[f'{col_name} baseline'] = all_baseline_sequences\n"
     ]
    },
    {
     "name": "stdout",
     "output_type": "stream",
     "text": [
      "Changes: 815, Scores: 491.0, Score perc: 0.6024539877300613\n",
      "\n",
      "Processing column: PUMA pam250 0.8 0.05 3200\n"
     ]
    },
    {
     "name": "stderr",
     "output_type": "stream",
     "text": [
      "100%|██████████| 100/100 [00:00<00:00, 694.95it/s]\n",
      "/tmp/ipykernel_2783/2705302036.py:236: PerformanceWarning: DataFrame is highly fragmented.  This is usually the result of calling `frame.insert` many times, which has poor performance.  Consider joining all columns at once using pd.concat(axis=1) instead. To get a de-fragmented frame, use `newframe = frame.copy()`\n",
      "  df_results[f'{col_name} mutated'] = all_mutated_sequences\n",
      "/tmp/ipykernel_2783/2705302036.py:237: PerformanceWarning: DataFrame is highly fragmented.  This is usually the result of calling `frame.insert` many times, which has poor performance.  Consider joining all columns at once using pd.concat(axis=1) instead. To get a de-fragmented frame, use `newframe = frame.copy()`\n",
      "  df_results[f'{col_name} alternative'] = all_alternative_sequences\n",
      "/tmp/ipykernel_2783/2705302036.py:239: PerformanceWarning: DataFrame is highly fragmented.  This is usually the result of calling `frame.insert` many times, which has poor performance.  Consider joining all columns at once using pd.concat(axis=1) instead. To get a de-fragmented frame, use `newframe = frame.copy()`\n",
      "  df_results[f'{col_name} baseline'] = all_baseline_sequences\n"
     ]
    },
    {
     "name": "stdout",
     "output_type": "stream",
     "text": [
      "Changes: 1277, Scores: 959.0, Score perc: 0.7509788566953798\n",
      "\n",
      "Processing column: PUMA pam250 0.8 0.05 6400\n"
     ]
    },
    {
     "name": "stderr",
     "output_type": "stream",
     "text": [
      "100%|██████████| 100/100 [00:00<00:00, 504.32it/s]\n",
      "/tmp/ipykernel_2783/2705302036.py:236: PerformanceWarning: DataFrame is highly fragmented.  This is usually the result of calling `frame.insert` many times, which has poor performance.  Consider joining all columns at once using pd.concat(axis=1) instead. To get a de-fragmented frame, use `newframe = frame.copy()`\n",
      "  df_results[f'{col_name} mutated'] = all_mutated_sequences\n",
      "/tmp/ipykernel_2783/2705302036.py:237: PerformanceWarning: DataFrame is highly fragmented.  This is usually the result of calling `frame.insert` many times, which has poor performance.  Consider joining all columns at once using pd.concat(axis=1) instead. To get a de-fragmented frame, use `newframe = frame.copy()`\n",
      "  df_results[f'{col_name} alternative'] = all_alternative_sequences\n",
      "/tmp/ipykernel_2783/2705302036.py:239: PerformanceWarning: DataFrame is highly fragmented.  This is usually the result of calling `frame.insert` many times, which has poor performance.  Consider joining all columns at once using pd.concat(axis=1) instead. To get a de-fragmented frame, use `newframe = frame.copy()`\n",
      "  df_results[f'{col_name} baseline'] = all_baseline_sequences\n"
     ]
    },
    {
     "name": "stdout",
     "output_type": "stream",
     "text": [
      "Changes: 1639, Scores: 1422.0, Score perc: 0.8676021964612569\n",
      "\n",
      "Processing column: PUMA pam250 0.8 0.05 12800\n"
     ]
    },
    {
     "name": "stderr",
     "output_type": "stream",
     "text": [
      "100%|██████████| 100/100 [00:00<00:00, 466.27it/s]\n",
      "/tmp/ipykernel_2783/2705302036.py:236: PerformanceWarning: DataFrame is highly fragmented.  This is usually the result of calling `frame.insert` many times, which has poor performance.  Consider joining all columns at once using pd.concat(axis=1) instead. To get a de-fragmented frame, use `newframe = frame.copy()`\n",
      "  df_results[f'{col_name} mutated'] = all_mutated_sequences\n",
      "/tmp/ipykernel_2783/2705302036.py:237: PerformanceWarning: DataFrame is highly fragmented.  This is usually the result of calling `frame.insert` many times, which has poor performance.  Consider joining all columns at once using pd.concat(axis=1) instead. To get a de-fragmented frame, use `newframe = frame.copy()`\n",
      "  df_results[f'{col_name} alternative'] = all_alternative_sequences\n",
      "/tmp/ipykernel_2783/2705302036.py:239: PerformanceWarning: DataFrame is highly fragmented.  This is usually the result of calling `frame.insert` many times, which has poor performance.  Consider joining all columns at once using pd.concat(axis=1) instead. To get a de-fragmented frame, use `newframe = frame.copy()`\n",
      "  df_results[f'{col_name} baseline'] = all_baseline_sequences\n"
     ]
    },
    {
     "name": "stdout",
     "output_type": "stream",
     "text": [
      "Changes: 2008, Scores: 1844.0, Score perc: 0.9183266932270916\n",
      "\n",
      "Processing column: PUMA pam250 0.8 0.05 25600\n"
     ]
    },
    {
     "name": "stderr",
     "output_type": "stream",
     "text": [
      "100%|██████████| 100/100 [00:00<00:00, 298.70it/s]\n",
      "/tmp/ipykernel_2783/2705302036.py:236: PerformanceWarning: DataFrame is highly fragmented.  This is usually the result of calling `frame.insert` many times, which has poor performance.  Consider joining all columns at once using pd.concat(axis=1) instead. To get a de-fragmented frame, use `newframe = frame.copy()`\n",
      "  df_results[f'{col_name} mutated'] = all_mutated_sequences\n",
      "/tmp/ipykernel_2783/2705302036.py:237: PerformanceWarning: DataFrame is highly fragmented.  This is usually the result of calling `frame.insert` many times, which has poor performance.  Consider joining all columns at once using pd.concat(axis=1) instead. To get a de-fragmented frame, use `newframe = frame.copy()`\n",
      "  df_results[f'{col_name} alternative'] = all_alternative_sequences\n",
      "/tmp/ipykernel_2783/2705302036.py:239: PerformanceWarning: DataFrame is highly fragmented.  This is usually the result of calling `frame.insert` many times, which has poor performance.  Consider joining all columns at once using pd.concat(axis=1) instead. To get a de-fragmented frame, use `newframe = frame.copy()`\n",
      "  df_results[f'{col_name} baseline'] = all_baseline_sequences\n"
     ]
    },
    {
     "name": "stdout",
     "output_type": "stream",
     "text": [
      "Changes: 2281, Scores: 2252.0, Score perc: 0.9872862779482683\n",
      "\n",
      "Processing column: PUMA blosum62 0.9 0.005 800\n"
     ]
    },
    {
     "name": "stderr",
     "output_type": "stream",
     "text": [
      "100%|██████████| 100/100 [00:00<00:00, 5466.74it/s]\n",
      "/tmp/ipykernel_2783/2705302036.py:236: PerformanceWarning: DataFrame is highly fragmented.  This is usually the result of calling `frame.insert` many times, which has poor performance.  Consider joining all columns at once using pd.concat(axis=1) instead. To get a de-fragmented frame, use `newframe = frame.copy()`\n",
      "  df_results[f'{col_name} mutated'] = all_mutated_sequences\n",
      "/tmp/ipykernel_2783/2705302036.py:237: PerformanceWarning: DataFrame is highly fragmented.  This is usually the result of calling `frame.insert` many times, which has poor performance.  Consider joining all columns at once using pd.concat(axis=1) instead. To get a de-fragmented frame, use `newframe = frame.copy()`\n",
      "  df_results[f'{col_name} alternative'] = all_alternative_sequences\n",
      "/tmp/ipykernel_2783/2705302036.py:239: PerformanceWarning: DataFrame is highly fragmented.  This is usually the result of calling `frame.insert` many times, which has poor performance.  Consider joining all columns at once using pd.concat(axis=1) instead. To get a de-fragmented frame, use `newframe = frame.copy()`\n",
      "  df_results[f'{col_name} baseline'] = all_baseline_sequences\n"
     ]
    },
    {
     "name": "stdout",
     "output_type": "stream",
     "text": [
      "Changes: 203, Scores: 129.0, Score perc: 0.6354679802955665\n",
      "\n",
      "Processing column: PUMA blosum62 0.9 0.005 1600\n"
     ]
    },
    {
     "name": "stderr",
     "output_type": "stream",
     "text": [
      "100%|██████████| 100/100 [00:00<00:00, 3841.75it/s]\n",
      "/tmp/ipykernel_2783/2705302036.py:236: PerformanceWarning: DataFrame is highly fragmented.  This is usually the result of calling `frame.insert` many times, which has poor performance.  Consider joining all columns at once using pd.concat(axis=1) instead. To get a de-fragmented frame, use `newframe = frame.copy()`\n",
      "  df_results[f'{col_name} mutated'] = all_mutated_sequences\n",
      "/tmp/ipykernel_2783/2705302036.py:237: PerformanceWarning: DataFrame is highly fragmented.  This is usually the result of calling `frame.insert` many times, which has poor performance.  Consider joining all columns at once using pd.concat(axis=1) instead. To get a de-fragmented frame, use `newframe = frame.copy()`\n",
      "  df_results[f'{col_name} alternative'] = all_alternative_sequences\n",
      "/tmp/ipykernel_2783/2705302036.py:239: PerformanceWarning: DataFrame is highly fragmented.  This is usually the result of calling `frame.insert` many times, which has poor performance.  Consider joining all columns at once using pd.concat(axis=1) instead. To get a de-fragmented frame, use `newframe = frame.copy()`\n",
      "  df_results[f'{col_name} baseline'] = all_baseline_sequences\n"
     ]
    },
    {
     "name": "stdout",
     "output_type": "stream",
     "text": [
      "Changes: 563, Scores: 414.0, Score perc: 0.7353463587921847\n",
      "\n",
      "Processing column: PUMA blosum62 0.9 0.005 3200\n"
     ]
    },
    {
     "name": "stderr",
     "output_type": "stream",
     "text": [
      "100%|██████████| 100/100 [00:00<00:00, 3068.68it/s]\n",
      "/tmp/ipykernel_2783/2705302036.py:236: PerformanceWarning: DataFrame is highly fragmented.  This is usually the result of calling `frame.insert` many times, which has poor performance.  Consider joining all columns at once using pd.concat(axis=1) instead. To get a de-fragmented frame, use `newframe = frame.copy()`\n",
      "  df_results[f'{col_name} mutated'] = all_mutated_sequences\n",
      "/tmp/ipykernel_2783/2705302036.py:237: PerformanceWarning: DataFrame is highly fragmented.  This is usually the result of calling `frame.insert` many times, which has poor performance.  Consider joining all columns at once using pd.concat(axis=1) instead. To get a de-fragmented frame, use `newframe = frame.copy()`\n",
      "  df_results[f'{col_name} alternative'] = all_alternative_sequences\n",
      "/tmp/ipykernel_2783/2705302036.py:239: PerformanceWarning: DataFrame is highly fragmented.  This is usually the result of calling `frame.insert` many times, which has poor performance.  Consider joining all columns at once using pd.concat(axis=1) instead. To get a de-fragmented frame, use `newframe = frame.copy()`\n",
      "  df_results[f'{col_name} baseline'] = all_baseline_sequences\n"
     ]
    },
    {
     "name": "stdout",
     "output_type": "stream",
     "text": [
      "Changes: 978, Scores: 828.0, Score perc: 0.8466257668711656\n",
      "\n",
      "Processing column: PUMA blosum62 0.9 0.005 6400\n"
     ]
    },
    {
     "name": "stderr",
     "output_type": "stream",
     "text": [
      "100%|██████████| 100/100 [00:00<00:00, 2315.66it/s]\n",
      "/tmp/ipykernel_2783/2705302036.py:236: PerformanceWarning: DataFrame is highly fragmented.  This is usually the result of calling `frame.insert` many times, which has poor performance.  Consider joining all columns at once using pd.concat(axis=1) instead. To get a de-fragmented frame, use `newframe = frame.copy()`\n",
      "  df_results[f'{col_name} mutated'] = all_mutated_sequences\n",
      "/tmp/ipykernel_2783/2705302036.py:237: PerformanceWarning: DataFrame is highly fragmented.  This is usually the result of calling `frame.insert` many times, which has poor performance.  Consider joining all columns at once using pd.concat(axis=1) instead. To get a de-fragmented frame, use `newframe = frame.copy()`\n",
      "  df_results[f'{col_name} alternative'] = all_alternative_sequences\n",
      "/tmp/ipykernel_2783/2705302036.py:239: PerformanceWarning: DataFrame is highly fragmented.  This is usually the result of calling `frame.insert` many times, which has poor performance.  Consider joining all columns at once using pd.concat(axis=1) instead. To get a de-fragmented frame, use `newframe = frame.copy()`\n",
      "  df_results[f'{col_name} baseline'] = all_baseline_sequences\n"
     ]
    },
    {
     "name": "stdout",
     "output_type": "stream",
     "text": [
      "Changes: 1364, Scores: 1355.0, Score perc: 0.9934017595307918\n",
      "\n",
      "Processing column: PUMA blosum62 0.9 0.005 12800\n"
     ]
    },
    {
     "name": "stderr",
     "output_type": "stream",
     "text": [
      "100%|██████████| 100/100 [00:00<00:00, 1885.89it/s]\n",
      "/tmp/ipykernel_2783/2705302036.py:236: PerformanceWarning: DataFrame is highly fragmented.  This is usually the result of calling `frame.insert` many times, which has poor performance.  Consider joining all columns at once using pd.concat(axis=1) instead. To get a de-fragmented frame, use `newframe = frame.copy()`\n",
      "  df_results[f'{col_name} mutated'] = all_mutated_sequences\n",
      "/tmp/ipykernel_2783/2705302036.py:237: PerformanceWarning: DataFrame is highly fragmented.  This is usually the result of calling `frame.insert` many times, which has poor performance.  Consider joining all columns at once using pd.concat(axis=1) instead. To get a de-fragmented frame, use `newframe = frame.copy()`\n",
      "  df_results[f'{col_name} alternative'] = all_alternative_sequences\n",
      "/tmp/ipykernel_2783/2705302036.py:239: PerformanceWarning: DataFrame is highly fragmented.  This is usually the result of calling `frame.insert` many times, which has poor performance.  Consider joining all columns at once using pd.concat(axis=1) instead. To get a de-fragmented frame, use `newframe = frame.copy()`\n",
      "  df_results[f'{col_name} baseline'] = all_baseline_sequences\n"
     ]
    },
    {
     "name": "stdout",
     "output_type": "stream",
     "text": [
      "Changes: 1714, Scores: 1753.0, Score perc: 1.0227537922987164\n",
      "\n",
      "Processing column: PUMA blosum62 0.9 0.005 25600\n"
     ]
    },
    {
     "name": "stderr",
     "output_type": "stream",
     "text": [
      "100%|██████████| 100/100 [00:00<00:00, 1574.53it/s]"
     ]
    },
    {
     "name": "stdout",
     "output_type": "stream",
     "text": [
      "Changes: 2085, Scores: 2191.0, Score perc: 1.0508393285371702\n"
     ]
    },
    {
     "name": "stderr",
     "output_type": "stream",
     "text": [
      "\n",
      "/tmp/ipykernel_2783/2705302036.py:236: PerformanceWarning: DataFrame is highly fragmented.  This is usually the result of calling `frame.insert` many times, which has poor performance.  Consider joining all columns at once using pd.concat(axis=1) instead. To get a de-fragmented frame, use `newframe = frame.copy()`\n",
      "  df_results[f'{col_name} mutated'] = all_mutated_sequences\n",
      "/tmp/ipykernel_2783/2705302036.py:237: PerformanceWarning: DataFrame is highly fragmented.  This is usually the result of calling `frame.insert` many times, which has poor performance.  Consider joining all columns at once using pd.concat(axis=1) instead. To get a de-fragmented frame, use `newframe = frame.copy()`\n",
      "  df_results[f'{col_name} alternative'] = all_alternative_sequences\n",
      "/tmp/ipykernel_2783/2705302036.py:239: PerformanceWarning: DataFrame is highly fragmented.  This is usually the result of calling `frame.insert` many times, which has poor performance.  Consider joining all columns at once using pd.concat(axis=1) instead. To get a de-fragmented frame, use `newframe = frame.copy()`\n",
      "  df_results[f'{col_name} baseline'] = all_baseline_sequences\n"
     ]
    }
   ],
   "source": [
    "# Initialize and run the experiment\n",
    "print(\"Starting enhanced protein mutation analysis...\")\n",
    "\n",
    "# Precompute alternatives for all substitution matrices\n",
    "sub_matrix_precomputed_alternatives = {}\n",
    "for sub_matrix_name in ['blosum45', 'blosum62', 'pam70', 'pam250']:\n",
    "    sub_matrix = substitution_matrices.load(sub_matrix_name.upper())\n",
    "    sub_matrix_precomputed_alternatives[sub_matrix_name] = precompute_alternatives(sub_matrix)\n",
    "\n",
    "# Run mutation experiment with baseline\n",
    "print(\"Running mutation experiment with baseline...\")\n",
    "df_protein_oma, change_counters, change_scores = run_mutation_experiment_optimized(\n",
    "    df_protein.sample(100, random_state=42), vocab_lineage_list, sub_matrix_precomputed_alternatives, create_baseline=True\n",
    ")"
   ]
  },
  {
   "cell_type": "code",
   "execution_count": 21,
   "metadata": {},
   "outputs": [
    {
     "name": "stdout",
     "output_type": "stream",
     "text": [
      "Running enhanced similarity experiment...\n",
      "Using device: cuda\n",
      "Loaded ESM-2 model: facebook/esm2_t33_650M_UR50D\n",
      "Found 48 tokenizer columns to process\n",
      "Collecting unique sequences and masking positions...\n",
      "Found 12483 unique sequences\n",
      "Found 10102 positions to mask\n",
      "Precomputing masked logits for all positions...\n"
     ]
    },
    {
     "name": "stderr",
     "output_type": "stream",
     "text": [
      "Processing masked sequences: 100%|██████████| 158/158 [03:21<00:00,  1.27s/it]\n"
     ]
    },
    {
     "name": "stdout",
     "output_type": "stream",
     "text": [
      "\n",
      "Processing tokenizer: PUMA blosum62 0.7 0.05 800\n"
     ]
    },
    {
     "name": "stderr",
     "output_type": "stream",
     "text": [
      "Processing proteins: 100%|██████████| 100/100 [00:00<00:00, 4687.26it/s]\n"
     ]
    },
    {
     "name": "stdout",
     "output_type": "stream",
     "text": [
      "\n",
      "Processing tokenizer: PUMA blosum62 0.7 0.05 1600\n"
     ]
    },
    {
     "name": "stderr",
     "output_type": "stream",
     "text": [
      "Processing proteins: 100%|██████████| 100/100 [00:00<00:00, 3273.96it/s]\n"
     ]
    },
    {
     "name": "stdout",
     "output_type": "stream",
     "text": [
      "\n",
      "Processing tokenizer: PUMA blosum62 0.7 0.05 3200\n"
     ]
    },
    {
     "name": "stderr",
     "output_type": "stream",
     "text": [
      "Processing proteins: 100%|██████████| 100/100 [00:00<00:00, 2494.19it/s]\n"
     ]
    },
    {
     "name": "stdout",
     "output_type": "stream",
     "text": [
      "\n",
      "Processing tokenizer: PUMA blosum62 0.7 0.05 6400\n"
     ]
    },
    {
     "name": "stderr",
     "output_type": "stream",
     "text": [
      "Processing proteins: 100%|██████████| 100/100 [00:00<00:00, 2139.55it/s]\n"
     ]
    },
    {
     "name": "stdout",
     "output_type": "stream",
     "text": [
      "\n",
      "Processing tokenizer: PUMA blosum62 0.7 0.05 12800\n"
     ]
    },
    {
     "name": "stderr",
     "output_type": "stream",
     "text": [
      "Processing proteins: 100%|██████████| 100/100 [00:00<00:00, 1755.13it/s]\n"
     ]
    },
    {
     "name": "stdout",
     "output_type": "stream",
     "text": [
      "\n",
      "Processing tokenizer: PUMA blosum62 0.7 0.05 25600\n"
     ]
    },
    {
     "name": "stderr",
     "output_type": "stream",
     "text": [
      "Processing proteins: 100%|██████████| 100/100 [00:00<00:00, 1553.26it/s]\n"
     ]
    },
    {
     "name": "stdout",
     "output_type": "stream",
     "text": [
      "\n",
      "Processing tokenizer: PUMA pre blosum62 0.7 0.05 800\n"
     ]
    },
    {
     "name": "stderr",
     "output_type": "stream",
     "text": [
      "Processing proteins: 100%|██████████| 100/100 [00:00<00:00, 6229.66it/s]\n"
     ]
    },
    {
     "name": "stdout",
     "output_type": "stream",
     "text": [
      "\n",
      "Processing tokenizer: PUMA pre blosum62 0.7 0.05 1600\n"
     ]
    },
    {
     "name": "stderr",
     "output_type": "stream",
     "text": [
      "Processing proteins: 100%|██████████| 100/100 [00:00<00:00, 3607.29it/s]\n"
     ]
    },
    {
     "name": "stdout",
     "output_type": "stream",
     "text": [
      "\n",
      "Processing tokenizer: PUMA pre blosum62 0.7 0.05 3200\n"
     ]
    },
    {
     "name": "stderr",
     "output_type": "stream",
     "text": [
      "Processing proteins: 100%|██████████| 100/100 [00:00<00:00, 2589.25it/s]\n"
     ]
    },
    {
     "name": "stdout",
     "output_type": "stream",
     "text": [
      "\n",
      "Processing tokenizer: PUMA pre blosum62 0.7 0.05 6400\n"
     ]
    },
    {
     "name": "stderr",
     "output_type": "stream",
     "text": [
      "Processing proteins: 100%|██████████| 100/100 [00:00<00:00, 2193.27it/s]\n"
     ]
    },
    {
     "name": "stdout",
     "output_type": "stream",
     "text": [
      "\n",
      "Processing tokenizer: PUMA pre blosum62 0.7 0.05 12800\n"
     ]
    },
    {
     "name": "stderr",
     "output_type": "stream",
     "text": [
      "Processing proteins: 100%|██████████| 100/100 [00:00<00:00, 1829.23it/s]\n"
     ]
    },
    {
     "name": "stdout",
     "output_type": "stream",
     "text": [
      "\n",
      "Processing tokenizer: PUMA pre blosum62 0.7 0.05 25600\n"
     ]
    },
    {
     "name": "stderr",
     "output_type": "stream",
     "text": [
      "Processing proteins: 100%|██████████| 100/100 [00:00<00:00, 1565.51it/s]\n"
     ]
    },
    {
     "name": "stdout",
     "output_type": "stream",
     "text": [
      "\n",
      "Processing tokenizer: PUMA blosum62 0.8 0.05 800\n"
     ]
    },
    {
     "name": "stderr",
     "output_type": "stream",
     "text": [
      "Processing proteins: 100%|██████████| 100/100 [00:00<00:00, 9012.26it/s]\n"
     ]
    },
    {
     "name": "stdout",
     "output_type": "stream",
     "text": [
      "\n",
      "Processing tokenizer: PUMA blosum62 0.8 0.05 1600\n"
     ]
    },
    {
     "name": "stderr",
     "output_type": "stream",
     "text": [
      "Processing proteins: 100%|██████████| 100/100 [00:00<00:00, 6538.79it/s]\n"
     ]
    },
    {
     "name": "stdout",
     "output_type": "stream",
     "text": [
      "\n",
      "Processing tokenizer: PUMA blosum62 0.8 0.05 3200\n"
     ]
    },
    {
     "name": "stderr",
     "output_type": "stream",
     "text": [
      "Processing proteins: 100%|██████████| 100/100 [00:00<00:00, 5653.16it/s]\n"
     ]
    },
    {
     "name": "stdout",
     "output_type": "stream",
     "text": [
      "\n",
      "Processing tokenizer: PUMA blosum62 0.8 0.05 6400\n"
     ]
    },
    {
     "name": "stderr",
     "output_type": "stream",
     "text": [
      "Processing proteins: 100%|██████████| 100/100 [00:00<00:00, 4672.43it/s]\n"
     ]
    },
    {
     "name": "stdout",
     "output_type": "stream",
     "text": [
      "\n",
      "Processing tokenizer: PUMA blosum62 0.8 0.05 12800\n"
     ]
    },
    {
     "name": "stderr",
     "output_type": "stream",
     "text": [
      "Processing proteins: 100%|██████████| 100/100 [00:00<00:00, 4056.86it/s]\n"
     ]
    },
    {
     "name": "stdout",
     "output_type": "stream",
     "text": [
      "\n",
      "Processing tokenizer: PUMA blosum62 0.8 0.05 25600\n"
     ]
    },
    {
     "name": "stderr",
     "output_type": "stream",
     "text": [
      "Processing proteins: 100%|██████████| 100/100 [00:00<00:00, 3427.64it/s]\n"
     ]
    },
    {
     "name": "stdout",
     "output_type": "stream",
     "text": [
      "\n",
      "Processing tokenizer: PUMA blosum62 0.7 0.005 800\n"
     ]
    },
    {
     "name": "stderr",
     "output_type": "stream",
     "text": [
      "Processing proteins: 100%|██████████| 100/100 [00:00<00:00, 5910.55it/s]\n"
     ]
    },
    {
     "name": "stdout",
     "output_type": "stream",
     "text": [
      "\n",
      "Processing tokenizer: PUMA blosum62 0.7 0.005 1600\n"
     ]
    },
    {
     "name": "stderr",
     "output_type": "stream",
     "text": [
      "Processing proteins: 100%|██████████| 100/100 [00:00<00:00, 3754.87it/s]\n"
     ]
    },
    {
     "name": "stdout",
     "output_type": "stream",
     "text": [
      "\n",
      "Processing tokenizer: PUMA blosum62 0.7 0.005 3200\n"
     ]
    },
    {
     "name": "stderr",
     "output_type": "stream",
     "text": [
      "Processing proteins: 100%|██████████| 100/100 [00:00<00:00, 2610.43it/s]\n"
     ]
    },
    {
     "name": "stdout",
     "output_type": "stream",
     "text": [
      "\n",
      "Processing tokenizer: PUMA blosum62 0.7 0.005 6400\n"
     ]
    },
    {
     "name": "stderr",
     "output_type": "stream",
     "text": [
      "Processing proteins: 100%|██████████| 100/100 [00:00<00:00, 2251.03it/s]\n"
     ]
    },
    {
     "name": "stdout",
     "output_type": "stream",
     "text": [
      "\n",
      "Processing tokenizer: PUMA blosum62 0.7 0.005 12800\n"
     ]
    },
    {
     "name": "stderr",
     "output_type": "stream",
     "text": [
      "Processing proteins: 100%|██████████| 100/100 [00:00<00:00, 1849.33it/s]\n"
     ]
    },
    {
     "name": "stdout",
     "output_type": "stream",
     "text": [
      "\n",
      "Processing tokenizer: PUMA blosum62 0.7 0.005 25600\n"
     ]
    },
    {
     "name": "stderr",
     "output_type": "stream",
     "text": [
      "Processing proteins: 100%|██████████| 100/100 [00:00<00:00, 1637.49it/s]\n"
     ]
    },
    {
     "name": "stdout",
     "output_type": "stream",
     "text": [
      "\n",
      "Processing tokenizer: PUMA blosum45 0.7 0.05 800\n"
     ]
    },
    {
     "name": "stderr",
     "output_type": "stream",
     "text": [
      "Processing proteins: 100%|██████████| 100/100 [00:00<00:00, 5421.10it/s]\n"
     ]
    },
    {
     "name": "stdout",
     "output_type": "stream",
     "text": [
      "\n",
      "Processing tokenizer: PUMA blosum45 0.7 0.05 1600\n"
     ]
    },
    {
     "name": "stderr",
     "output_type": "stream",
     "text": [
      "Processing proteins: 100%|██████████| 100/100 [00:00<00:00, 3345.70it/s]\n"
     ]
    },
    {
     "name": "stdout",
     "output_type": "stream",
     "text": [
      "\n",
      "Processing tokenizer: PUMA blosum45 0.7 0.05 3200\n"
     ]
    },
    {
     "name": "stderr",
     "output_type": "stream",
     "text": [
      "Processing proteins: 100%|██████████| 100/100 [00:00<00:00, 2392.44it/s]\n"
     ]
    },
    {
     "name": "stdout",
     "output_type": "stream",
     "text": [
      "\n",
      "Processing tokenizer: PUMA blosum45 0.7 0.05 6400\n"
     ]
    },
    {
     "name": "stderr",
     "output_type": "stream",
     "text": [
      "Processing proteins: 100%|██████████| 100/100 [00:00<00:00, 2014.89it/s]\n"
     ]
    },
    {
     "name": "stdout",
     "output_type": "stream",
     "text": [
      "\n",
      "Processing tokenizer: PUMA blosum45 0.7 0.05 12800\n"
     ]
    },
    {
     "name": "stderr",
     "output_type": "stream",
     "text": [
      "Processing proteins: 100%|██████████| 100/100 [00:00<00:00, 1706.40it/s]\n"
     ]
    },
    {
     "name": "stdout",
     "output_type": "stream",
     "text": [
      "\n",
      "Processing tokenizer: PUMA blosum45 0.7 0.05 25600\n"
     ]
    },
    {
     "name": "stderr",
     "output_type": "stream",
     "text": [
      "Processing proteins: 100%|██████████| 100/100 [00:00<00:00, 1480.88it/s]\n"
     ]
    },
    {
     "name": "stdout",
     "output_type": "stream",
     "text": [
      "\n",
      "Processing tokenizer: PUMA pam70 0.7 0.05 800\n"
     ]
    },
    {
     "name": "stderr",
     "output_type": "stream",
     "text": [
      "Processing proteins: 100%|██████████| 100/100 [00:00<00:00, 5657.81it/s]\n"
     ]
    },
    {
     "name": "stdout",
     "output_type": "stream",
     "text": [
      "\n",
      "Processing tokenizer: PUMA pam70 0.7 0.05 1600\n"
     ]
    },
    {
     "name": "stderr",
     "output_type": "stream",
     "text": [
      "Processing proteins: 100%|██████████| 100/100 [00:00<00:00, 4035.62it/s]\n"
     ]
    },
    {
     "name": "stdout",
     "output_type": "stream",
     "text": [
      "\n",
      "Processing tokenizer: PUMA pam70 0.7 0.05 3200\n"
     ]
    },
    {
     "name": "stderr",
     "output_type": "stream",
     "text": [
      "Processing proteins: 100%|██████████| 100/100 [00:00<00:00, 3130.97it/s]\n"
     ]
    },
    {
     "name": "stdout",
     "output_type": "stream",
     "text": [
      "\n",
      "Processing tokenizer: PUMA pam70 0.7 0.05 6400\n"
     ]
    },
    {
     "name": "stderr",
     "output_type": "stream",
     "text": [
      "Processing proteins: 100%|██████████| 100/100 [00:00<00:00, 2854.72it/s]\n"
     ]
    },
    {
     "name": "stdout",
     "output_type": "stream",
     "text": [
      "\n",
      "Processing tokenizer: PUMA pam70 0.7 0.05 12800\n"
     ]
    },
    {
     "name": "stderr",
     "output_type": "stream",
     "text": [
      "Processing proteins: 100%|██████████| 100/100 [00:00<00:00, 2431.26it/s]\n"
     ]
    },
    {
     "name": "stdout",
     "output_type": "stream",
     "text": [
      "\n",
      "Processing tokenizer: PUMA pam70 0.7 0.05 25600\n"
     ]
    },
    {
     "name": "stderr",
     "output_type": "stream",
     "text": [
      "Processing proteins: 100%|██████████| 100/100 [00:00<00:00, 2092.75it/s]\n"
     ]
    },
    {
     "name": "stdout",
     "output_type": "stream",
     "text": [
      "\n",
      "Processing tokenizer: PUMA pam250 0.8 0.05 800\n"
     ]
    },
    {
     "name": "stderr",
     "output_type": "stream",
     "text": [
      "Processing proteins: 100%|██████████| 100/100 [00:00<00:00, 4607.35it/s]\n"
     ]
    },
    {
     "name": "stdout",
     "output_type": "stream",
     "text": [
      "\n",
      "Processing tokenizer: PUMA pam250 0.8 0.05 1600\n"
     ]
    },
    {
     "name": "stderr",
     "output_type": "stream",
     "text": [
      "Processing proteins: 100%|██████████| 100/100 [00:00<00:00, 3405.52it/s]\n"
     ]
    },
    {
     "name": "stdout",
     "output_type": "stream",
     "text": [
      "\n",
      "Processing tokenizer: PUMA pam250 0.8 0.05 3200\n"
     ]
    },
    {
     "name": "stderr",
     "output_type": "stream",
     "text": [
      "Processing proteins: 100%|██████████| 100/100 [00:00<00:00, 2578.06it/s]\n"
     ]
    },
    {
     "name": "stdout",
     "output_type": "stream",
     "text": [
      "\n",
      "Processing tokenizer: PUMA pam250 0.8 0.05 6400\n"
     ]
    },
    {
     "name": "stderr",
     "output_type": "stream",
     "text": [
      "Processing proteins: 100%|██████████| 100/100 [00:00<00:00, 2134.58it/s]\n"
     ]
    },
    {
     "name": "stdout",
     "output_type": "stream",
     "text": [
      "\n",
      "Processing tokenizer: PUMA pam250 0.8 0.05 12800\n"
     ]
    },
    {
     "name": "stderr",
     "output_type": "stream",
     "text": [
      "Processing proteins: 100%|██████████| 100/100 [00:00<00:00, 1735.95it/s]\n"
     ]
    },
    {
     "name": "stdout",
     "output_type": "stream",
     "text": [
      "\n",
      "Processing tokenizer: PUMA pam250 0.8 0.05 25600\n"
     ]
    },
    {
     "name": "stderr",
     "output_type": "stream",
     "text": [
      "Processing proteins: 100%|██████████| 100/100 [00:00<00:00, 1541.41it/s]\n"
     ]
    },
    {
     "name": "stdout",
     "output_type": "stream",
     "text": [
      "\n",
      "Processing tokenizer: PUMA blosum62 0.9 0.005 800\n"
     ]
    },
    {
     "name": "stderr",
     "output_type": "stream",
     "text": [
      "Processing proteins: 100%|██████████| 100/100 [00:00<00:00, 6743.58it/s]\n"
     ]
    },
    {
     "name": "stdout",
     "output_type": "stream",
     "text": [
      "\n",
      "Processing tokenizer: PUMA blosum62 0.9 0.005 1600\n"
     ]
    },
    {
     "name": "stderr",
     "output_type": "stream",
     "text": [
      "Processing proteins: 100%|██████████| 100/100 [00:00<00:00, 4104.54it/s]\n"
     ]
    },
    {
     "name": "stdout",
     "output_type": "stream",
     "text": [
      "\n",
      "Processing tokenizer: PUMA blosum62 0.9 0.005 3200\n"
     ]
    },
    {
     "name": "stderr",
     "output_type": "stream",
     "text": [
      "Processing proteins: 100%|██████████| 100/100 [00:00<00:00, 2914.96it/s]\n"
     ]
    },
    {
     "name": "stdout",
     "output_type": "stream",
     "text": [
      "\n",
      "Processing tokenizer: PUMA blosum62 0.9 0.005 6400\n"
     ]
    },
    {
     "name": "stderr",
     "output_type": "stream",
     "text": [
      "Processing proteins: 100%|██████████| 100/100 [00:00<00:00, 2322.98it/s]\n"
     ]
    },
    {
     "name": "stdout",
     "output_type": "stream",
     "text": [
      "\n",
      "Processing tokenizer: PUMA blosum62 0.9 0.005 12800\n"
     ]
    },
    {
     "name": "stderr",
     "output_type": "stream",
     "text": [
      "Processing proteins: 100%|██████████| 100/100 [00:00<00:00, 1924.69it/s]\n"
     ]
    },
    {
     "name": "stdout",
     "output_type": "stream",
     "text": [
      "\n",
      "Processing tokenizer: PUMA blosum62 0.9 0.005 25600\n"
     ]
    },
    {
     "name": "stderr",
     "output_type": "stream",
     "text": [
      "Processing proteins: 100%|██████████| 100/100 [00:00<00:00, 1631.35it/s]\n"
     ]
    }
   ],
   "source": [
    "# Run enhanced similarity experiment\n",
    "print(\"Running enhanced similarity experiment...\")\n",
    "results_df = run_enhanced_protein_similarity_experiment(\n",
    "    df_protein_oma,\n",
    "    sub_matrix_precomputed_alternatives,\n",
    "    batch_size=64,\n",
    "    extract_layers=[], #[6, 12, -1],  # Multiple layers\n",
    "    similarity_methods=[], #['concat', 'position_wise', 'global_mean', 'local_window'],\n",
    "    include_probability_analysis=False,\n",
    "    include_rank_analysis=True,\n",
    "    include_baseline=True\n",
    ")"
   ]
  },
  {
   "cell_type": "code",
   "execution_count": 22,
   "metadata": {},
   "outputs": [
    {
     "data": {
      "text/html": [
       "<div>\n",
       "<style scoped>\n",
       "    .dataframe tbody tr th:only-of-type {\n",
       "        vertical-align: middle;\n",
       "    }\n",
       "\n",
       "    .dataframe tbody tr th {\n",
       "        vertical-align: top;\n",
       "    }\n",
       "\n",
       "    .dataframe thead th {\n",
       "        text-align: right;\n",
       "    }\n",
       "</style>\n",
       "<table border=\"1\" class=\"dataframe\">\n",
       "  <thead>\n",
       "    <tr style=\"text-align: right;\">\n",
       "      <th></th>\n",
       "      <th>tokenizer</th>\n",
       "      <th>processed_proteins</th>\n",
       "      <th>total_differing_positions</th>\n",
       "      <th>avg_differing_positions</th>\n",
       "      <th>rank_win_rate_vs_mut</th>\n",
       "      <th>rank_win_rate_vs_alt</th>\n",
       "      <th>rank_win_rate_vs_base</th>\n",
       "      <th>rank_win_rate_mut_vs_alt</th>\n",
       "      <th>rank_win_rate_mut_vs_base</th>\n",
       "      <th>rank_win_rate_alt_vs_base</th>\n",
       "    </tr>\n",
       "  </thead>\n",
       "  <tbody>\n",
       "    <tr>\n",
       "      <th>0</th>\n",
       "      <td>PUMA blosum62 0.7 0.05 800</td>\n",
       "      <td>85</td>\n",
       "      <td>409</td>\n",
       "      <td>4.811765</td>\n",
       "      <td>0.711491</td>\n",
       "      <td>0.745721</td>\n",
       "      <td>0.833741</td>\n",
       "      <td>0.520782</td>\n",
       "      <td>0.660147</td>\n",
       "      <td>0.662592</td>\n",
       "    </tr>\n",
       "    <tr>\n",
       "      <th>1</th>\n",
       "      <td>PUMA blosum62 0.7 0.05 1600</td>\n",
       "      <td>95</td>\n",
       "      <td>1061</td>\n",
       "      <td>11.168421</td>\n",
       "      <td>0.743638</td>\n",
       "      <td>0.777568</td>\n",
       "      <td>0.836946</td>\n",
       "      <td>0.521206</td>\n",
       "      <td>0.666352</td>\n",
       "      <td>0.646560</td>\n",
       "    </tr>\n",
       "    <tr>\n",
       "      <th>2</th>\n",
       "      <td>PUMA blosum62 0.7 0.05 3200</td>\n",
       "      <td>98</td>\n",
       "      <td>1673</td>\n",
       "      <td>17.071429</td>\n",
       "      <td>0.751943</td>\n",
       "      <td>0.795577</td>\n",
       "      <td>0.838016</td>\n",
       "      <td>0.515840</td>\n",
       "      <td>0.679617</td>\n",
       "      <td>0.664077</td>\n",
       "    </tr>\n",
       "    <tr>\n",
       "      <th>3</th>\n",
       "      <td>PUMA blosum62 0.7 0.05 6400</td>\n",
       "      <td>99</td>\n",
       "      <td>2127</td>\n",
       "      <td>21.484848</td>\n",
       "      <td>0.750823</td>\n",
       "      <td>0.789845</td>\n",
       "      <td>0.842971</td>\n",
       "      <td>0.514339</td>\n",
       "      <td>0.668547</td>\n",
       "      <td>0.653503</td>\n",
       "    </tr>\n",
       "    <tr>\n",
       "      <th>4</th>\n",
       "      <td>PUMA blosum62 0.7 0.05 12800</td>\n",
       "      <td>99</td>\n",
       "      <td>2728</td>\n",
       "      <td>27.555556</td>\n",
       "      <td>0.751100</td>\n",
       "      <td>0.794355</td>\n",
       "      <td>0.853006</td>\n",
       "      <td>0.520528</td>\n",
       "      <td>0.691716</td>\n",
       "      <td>0.664956</td>\n",
       "    </tr>\n",
       "    <tr>\n",
       "      <th>5</th>\n",
       "      <td>PUMA blosum62 0.7 0.05 25600</td>\n",
       "      <td>99</td>\n",
       "      <td>3243</td>\n",
       "      <td>32.757576</td>\n",
       "      <td>0.747456</td>\n",
       "      <td>0.785692</td>\n",
       "      <td>0.838730</td>\n",
       "      <td>0.521431</td>\n",
       "      <td>0.679001</td>\n",
       "      <td>0.658341</td>\n",
       "    </tr>\n",
       "    <tr>\n",
       "      <th>6</th>\n",
       "      <td>PUMA pre blosum62 0.7 0.05 800</td>\n",
       "      <td>84</td>\n",
       "      <td>331</td>\n",
       "      <td>3.940476</td>\n",
       "      <td>0.712991</td>\n",
       "      <td>0.773414</td>\n",
       "      <td>0.839879</td>\n",
       "      <td>0.531722</td>\n",
       "      <td>0.622356</td>\n",
       "      <td>0.601208</td>\n",
       "    </tr>\n",
       "    <tr>\n",
       "      <th>7</th>\n",
       "      <td>PUMA pre blosum62 0.7 0.05 1600</td>\n",
       "      <td>97</td>\n",
       "      <td>1032</td>\n",
       "      <td>10.639175</td>\n",
       "      <td>0.754845</td>\n",
       "      <td>0.778101</td>\n",
       "      <td>0.851744</td>\n",
       "      <td>0.520349</td>\n",
       "      <td>0.676357</td>\n",
       "      <td>0.646318</td>\n",
       "    </tr>\n",
       "    <tr>\n",
       "      <th>8</th>\n",
       "      <td>PUMA pre blosum62 0.7 0.05 3200</td>\n",
       "      <td>99</td>\n",
       "      <td>1689</td>\n",
       "      <td>17.060606</td>\n",
       "      <td>0.759029</td>\n",
       "      <td>0.804026</td>\n",
       "      <td>0.860272</td>\n",
       "      <td>0.530491</td>\n",
       "      <td>0.691533</td>\n",
       "      <td>0.654233</td>\n",
       "    </tr>\n",
       "    <tr>\n",
       "      <th>9</th>\n",
       "      <td>PUMA pre blosum62 0.7 0.05 6400</td>\n",
       "      <td>100</td>\n",
       "      <td>2136</td>\n",
       "      <td>21.360000</td>\n",
       "      <td>0.752341</td>\n",
       "      <td>0.795412</td>\n",
       "      <td>0.855337</td>\n",
       "      <td>0.519663</td>\n",
       "      <td>0.673221</td>\n",
       "      <td>0.645131</td>\n",
       "    </tr>\n",
       "    <tr>\n",
       "      <th>10</th>\n",
       "      <td>PUMA pre blosum62 0.7 0.05 12800</td>\n",
       "      <td>100</td>\n",
       "      <td>2712</td>\n",
       "      <td>27.120000</td>\n",
       "      <td>0.751475</td>\n",
       "      <td>0.794248</td>\n",
       "      <td>0.842552</td>\n",
       "      <td>0.515487</td>\n",
       "      <td>0.653761</td>\n",
       "      <td>0.643437</td>\n",
       "    </tr>\n",
       "    <tr>\n",
       "      <th>11</th>\n",
       "      <td>PUMA pre blosum62 0.7 0.05 25600</td>\n",
       "      <td>100</td>\n",
       "      <td>3256</td>\n",
       "      <td>32.560000</td>\n",
       "      <td>0.750000</td>\n",
       "      <td>0.780098</td>\n",
       "      <td>0.842138</td>\n",
       "      <td>0.509828</td>\n",
       "      <td>0.679668</td>\n",
       "      <td>0.657248</td>\n",
       "    </tr>\n",
       "    <tr>\n",
       "      <th>12</th>\n",
       "      <td>PUMA blosum62 0.8 0.05 800</td>\n",
       "      <td>51</td>\n",
       "      <td>117</td>\n",
       "      <td>2.294118</td>\n",
       "      <td>0.803419</td>\n",
       "      <td>0.529915</td>\n",
       "      <td>0.777778</td>\n",
       "      <td>0.222222</td>\n",
       "      <td>0.581197</td>\n",
       "      <td>0.760684</td>\n",
       "    </tr>\n",
       "    <tr>\n",
       "      <th>13</th>\n",
       "      <td>PUMA blosum62 0.8 0.05 1600</td>\n",
       "      <td>74</td>\n",
       "      <td>303</td>\n",
       "      <td>4.094595</td>\n",
       "      <td>0.772277</td>\n",
       "      <td>0.567657</td>\n",
       "      <td>0.792079</td>\n",
       "      <td>0.290429</td>\n",
       "      <td>0.630363</td>\n",
       "      <td>0.735974</td>\n",
       "    </tr>\n",
       "    <tr>\n",
       "      <th>14</th>\n",
       "      <td>PUMA blosum62 0.8 0.05 3200</td>\n",
       "      <td>82</td>\n",
       "      <td>449</td>\n",
       "      <td>5.475610</td>\n",
       "      <td>0.777283</td>\n",
       "      <td>0.625835</td>\n",
       "      <td>0.795100</td>\n",
       "      <td>0.336303</td>\n",
       "      <td>0.634744</td>\n",
       "      <td>0.712695</td>\n",
       "    </tr>\n",
       "    <tr>\n",
       "      <th>15</th>\n",
       "      <td>PUMA blosum62 0.8 0.05 6400</td>\n",
       "      <td>88</td>\n",
       "      <td>601</td>\n",
       "      <td>6.829545</td>\n",
       "      <td>0.765391</td>\n",
       "      <td>0.645591</td>\n",
       "      <td>0.793677</td>\n",
       "      <td>0.349418</td>\n",
       "      <td>0.633943</td>\n",
       "      <td>0.713810</td>\n",
       "    </tr>\n",
       "    <tr>\n",
       "      <th>16</th>\n",
       "      <td>PUMA blosum62 0.8 0.05 12800</td>\n",
       "      <td>94</td>\n",
       "      <td>799</td>\n",
       "      <td>8.500000</td>\n",
       "      <td>0.770964</td>\n",
       "      <td>0.689612</td>\n",
       "      <td>0.837297</td>\n",
       "      <td>0.394243</td>\n",
       "      <td>0.662078</td>\n",
       "      <td>0.730914</td>\n",
       "    </tr>\n",
       "    <tr>\n",
       "      <th>17</th>\n",
       "      <td>PUMA blosum62 0.8 0.05 25600</td>\n",
       "      <td>96</td>\n",
       "      <td>1110</td>\n",
       "      <td>11.562500</td>\n",
       "      <td>0.757658</td>\n",
       "      <td>0.724324</td>\n",
       "      <td>0.830631</td>\n",
       "      <td>0.454054</td>\n",
       "      <td>0.649550</td>\n",
       "      <td>0.695495</td>\n",
       "    </tr>\n",
       "    <tr>\n",
       "      <th>18</th>\n",
       "      <td>PUMA blosum62 0.7 0.005 800</td>\n",
       "      <td>83</td>\n",
       "      <td>374</td>\n",
       "      <td>4.506024</td>\n",
       "      <td>0.705882</td>\n",
       "      <td>0.745989</td>\n",
       "      <td>0.842246</td>\n",
       "      <td>0.524064</td>\n",
       "      <td>0.679144</td>\n",
       "      <td>0.663102</td>\n",
       "    </tr>\n",
       "    <tr>\n",
       "      <th>19</th>\n",
       "      <td>PUMA blosum62 0.7 0.005 1600</td>\n",
       "      <td>95</td>\n",
       "      <td>917</td>\n",
       "      <td>9.652632</td>\n",
       "      <td>0.744820</td>\n",
       "      <td>0.769902</td>\n",
       "      <td>0.850600</td>\n",
       "      <td>0.512541</td>\n",
       "      <td>0.678299</td>\n",
       "      <td>0.660851</td>\n",
       "    </tr>\n",
       "    <tr>\n",
       "      <th>20</th>\n",
       "      <td>PUMA blosum62 0.7 0.005 3200</td>\n",
       "      <td>98</td>\n",
       "      <td>1629</td>\n",
       "      <td>16.622449</td>\n",
       "      <td>0.751995</td>\n",
       "      <td>0.791897</td>\n",
       "      <td>0.842848</td>\n",
       "      <td>0.515654</td>\n",
       "      <td>0.672805</td>\n",
       "      <td>0.657459</td>\n",
       "    </tr>\n",
       "    <tr>\n",
       "      <th>21</th>\n",
       "      <td>PUMA blosum62 0.7 0.005 6400</td>\n",
       "      <td>99</td>\n",
       "      <td>2058</td>\n",
       "      <td>20.787879</td>\n",
       "      <td>0.750243</td>\n",
       "      <td>0.786200</td>\n",
       "      <td>0.846453</td>\n",
       "      <td>0.502915</td>\n",
       "      <td>0.666181</td>\n",
       "      <td>0.657920</td>\n",
       "    </tr>\n",
       "    <tr>\n",
       "      <th>22</th>\n",
       "      <td>PUMA blosum62 0.7 0.005 12800</td>\n",
       "      <td>99</td>\n",
       "      <td>2641</td>\n",
       "      <td>26.676768</td>\n",
       "      <td>0.748959</td>\n",
       "      <td>0.785309</td>\n",
       "      <td>0.840591</td>\n",
       "      <td>0.514578</td>\n",
       "      <td>0.670958</td>\n",
       "      <td>0.650511</td>\n",
       "    </tr>\n",
       "    <tr>\n",
       "      <th>23</th>\n",
       "      <td>PUMA blosum62 0.7 0.005 25600</td>\n",
       "      <td>99</td>\n",
       "      <td>3069</td>\n",
       "      <td>31.000000</td>\n",
       "      <td>0.750081</td>\n",
       "      <td>0.783969</td>\n",
       "      <td>0.839361</td>\n",
       "      <td>0.508309</td>\n",
       "      <td>0.668948</td>\n",
       "      <td>0.666993</td>\n",
       "    </tr>\n",
       "    <tr>\n",
       "      <th>24</th>\n",
       "      <td>PUMA blosum45 0.7 0.05 800</td>\n",
       "      <td>90</td>\n",
       "      <td>444</td>\n",
       "      <td>4.933333</td>\n",
       "      <td>0.790541</td>\n",
       "      <td>0.777027</td>\n",
       "      <td>0.849099</td>\n",
       "      <td>0.475225</td>\n",
       "      <td>0.605856</td>\n",
       "      <td>0.594595</td>\n",
       "    </tr>\n",
       "    <tr>\n",
       "      <th>25</th>\n",
       "      <td>PUMA blosum45 0.7 0.05 1600</td>\n",
       "      <td>95</td>\n",
       "      <td>1063</td>\n",
       "      <td>11.189474</td>\n",
       "      <td>0.785513</td>\n",
       "      <td>0.825964</td>\n",
       "      <td>0.844779</td>\n",
       "      <td>0.551270</td>\n",
       "      <td>0.647225</td>\n",
       "      <td>0.606773</td>\n",
       "    </tr>\n",
       "    <tr>\n",
       "      <th>26</th>\n",
       "      <td>PUMA blosum45 0.7 0.05 3200</td>\n",
       "      <td>99</td>\n",
       "      <td>1735</td>\n",
       "      <td>17.525253</td>\n",
       "      <td>0.778098</td>\n",
       "      <td>0.828818</td>\n",
       "      <td>0.835159</td>\n",
       "      <td>0.531988</td>\n",
       "      <td>0.637464</td>\n",
       "      <td>0.617291</td>\n",
       "    </tr>\n",
       "    <tr>\n",
       "      <th>27</th>\n",
       "      <td>PUMA blosum45 0.7 0.05 6400</td>\n",
       "      <td>100</td>\n",
       "      <td>2195</td>\n",
       "      <td>21.950000</td>\n",
       "      <td>0.757631</td>\n",
       "      <td>0.825513</td>\n",
       "      <td>0.842369</td>\n",
       "      <td>0.547608</td>\n",
       "      <td>0.673804</td>\n",
       "      <td>0.616401</td>\n",
       "    </tr>\n",
       "    <tr>\n",
       "      <th>28</th>\n",
       "      <td>PUMA blosum45 0.7 0.05 12800</td>\n",
       "      <td>100</td>\n",
       "      <td>2722</td>\n",
       "      <td>27.220000</td>\n",
       "      <td>0.754225</td>\n",
       "      <td>0.814475</td>\n",
       "      <td>0.849743</td>\n",
       "      <td>0.543718</td>\n",
       "      <td>0.678913</td>\n",
       "      <td>0.635929</td>\n",
       "    </tr>\n",
       "    <tr>\n",
       "      <th>29</th>\n",
       "      <td>PUMA blosum45 0.7 0.05 25600</td>\n",
       "      <td>100</td>\n",
       "      <td>3251</td>\n",
       "      <td>32.510000</td>\n",
       "      <td>0.752076</td>\n",
       "      <td>0.821286</td>\n",
       "      <td>0.842510</td>\n",
       "      <td>0.541372</td>\n",
       "      <td>0.667179</td>\n",
       "      <td>0.629652</td>\n",
       "    </tr>\n",
       "    <tr>\n",
       "      <th>30</th>\n",
       "      <td>PUMA pam70 0.7 0.05 800</td>\n",
       "      <td>86</td>\n",
       "      <td>357</td>\n",
       "      <td>4.151163</td>\n",
       "      <td>0.801120</td>\n",
       "      <td>0.817927</td>\n",
       "      <td>0.857143</td>\n",
       "      <td>0.490196</td>\n",
       "      <td>0.613445</td>\n",
       "      <td>0.621849</td>\n",
       "    </tr>\n",
       "    <tr>\n",
       "      <th>31</th>\n",
       "      <td>PUMA pam70 0.7 0.05 1600</td>\n",
       "      <td>90</td>\n",
       "      <td>781</td>\n",
       "      <td>8.677778</td>\n",
       "      <td>0.788732</td>\n",
       "      <td>0.811780</td>\n",
       "      <td>0.860435</td>\n",
       "      <td>0.498079</td>\n",
       "      <td>0.641485</td>\n",
       "      <td>0.637644</td>\n",
       "    </tr>\n",
       "    <tr>\n",
       "      <th>32</th>\n",
       "      <td>PUMA pam70 0.7 0.05 3200</td>\n",
       "      <td>97</td>\n",
       "      <td>1184</td>\n",
       "      <td>12.206186</td>\n",
       "      <td>0.779561</td>\n",
       "      <td>0.826014</td>\n",
       "      <td>0.860642</td>\n",
       "      <td>0.507601</td>\n",
       "      <td>0.646115</td>\n",
       "      <td>0.647804</td>\n",
       "    </tr>\n",
       "    <tr>\n",
       "      <th>33</th>\n",
       "      <td>PUMA pam70 0.7 0.05 6400</td>\n",
       "      <td>98</td>\n",
       "      <td>1490</td>\n",
       "      <td>15.204082</td>\n",
       "      <td>0.775168</td>\n",
       "      <td>0.814094</td>\n",
       "      <td>0.855034</td>\n",
       "      <td>0.528188</td>\n",
       "      <td>0.658389</td>\n",
       "      <td>0.646309</td>\n",
       "    </tr>\n",
       "    <tr>\n",
       "      <th>34</th>\n",
       "      <td>PUMA pam70 0.7 0.05 12800</td>\n",
       "      <td>99</td>\n",
       "      <td>1869</td>\n",
       "      <td>18.878788</td>\n",
       "      <td>0.773141</td>\n",
       "      <td>0.806314</td>\n",
       "      <td>0.845907</td>\n",
       "      <td>0.523810</td>\n",
       "      <td>0.659711</td>\n",
       "      <td>0.645265</td>\n",
       "    </tr>\n",
       "    <tr>\n",
       "      <th>35</th>\n",
       "      <td>PUMA pam70 0.7 0.05 25600</td>\n",
       "      <td>99</td>\n",
       "      <td>2285</td>\n",
       "      <td>23.080808</td>\n",
       "      <td>0.771554</td>\n",
       "      <td>0.815755</td>\n",
       "      <td>0.852954</td>\n",
       "      <td>0.515536</td>\n",
       "      <td>0.680088</td>\n",
       "      <td>0.659519</td>\n",
       "    </tr>\n",
       "    <tr>\n",
       "      <th>36</th>\n",
       "      <td>PUMA pam250 0.8 0.05 800</td>\n",
       "      <td>94</td>\n",
       "      <td>614</td>\n",
       "      <td>6.531915</td>\n",
       "      <td>0.760586</td>\n",
       "      <td>0.815961</td>\n",
       "      <td>0.881107</td>\n",
       "      <td>0.467427</td>\n",
       "      <td>0.657980</td>\n",
       "      <td>0.659609</td>\n",
       "    </tr>\n",
       "    <tr>\n",
       "      <th>37</th>\n",
       "      <td>PUMA pam250 0.8 0.05 1600</td>\n",
       "      <td>97</td>\n",
       "      <td>1099</td>\n",
       "      <td>11.329897</td>\n",
       "      <td>0.769791</td>\n",
       "      <td>0.825296</td>\n",
       "      <td>0.863512</td>\n",
       "      <td>0.505914</td>\n",
       "      <td>0.655141</td>\n",
       "      <td>0.633303</td>\n",
       "    </tr>\n",
       "    <tr>\n",
       "      <th>38</th>\n",
       "      <td>PUMA pam250 0.8 0.05 3200</td>\n",
       "      <td>99</td>\n",
       "      <td>1706</td>\n",
       "      <td>17.232323</td>\n",
       "      <td>0.759086</td>\n",
       "      <td>0.824736</td>\n",
       "      <td>0.848183</td>\n",
       "      <td>0.511723</td>\n",
       "      <td>0.624853</td>\n",
       "      <td>0.617233</td>\n",
       "    </tr>\n",
       "    <tr>\n",
       "      <th>39</th>\n",
       "      <td>PUMA pam250 0.8 0.05 6400</td>\n",
       "      <td>100</td>\n",
       "      <td>2230</td>\n",
       "      <td>22.300000</td>\n",
       "      <td>0.753812</td>\n",
       "      <td>0.821076</td>\n",
       "      <td>0.855157</td>\n",
       "      <td>0.522870</td>\n",
       "      <td>0.655605</td>\n",
       "      <td>0.621973</td>\n",
       "    </tr>\n",
       "    <tr>\n",
       "      <th>40</th>\n",
       "      <td>PUMA pam250 0.8 0.05 12800</td>\n",
       "      <td>100</td>\n",
       "      <td>2807</td>\n",
       "      <td>28.070000</td>\n",
       "      <td>0.750267</td>\n",
       "      <td>0.815818</td>\n",
       "      <td>0.848593</td>\n",
       "      <td>0.521553</td>\n",
       "      <td>0.655148</td>\n",
       "      <td>0.624866</td>\n",
       "    </tr>\n",
       "    <tr>\n",
       "      <th>41</th>\n",
       "      <td>PUMA pam250 0.8 0.05 25600</td>\n",
       "      <td>100</td>\n",
       "      <td>3260</td>\n",
       "      <td>32.600000</td>\n",
       "      <td>0.743558</td>\n",
       "      <td>0.815644</td>\n",
       "      <td>0.855215</td>\n",
       "      <td>0.531288</td>\n",
       "      <td>0.664110</td>\n",
       "      <td>0.634969</td>\n",
       "    </tr>\n",
       "    <tr>\n",
       "      <th>42</th>\n",
       "      <td>PUMA blosum62 0.9 0.005 800</td>\n",
       "      <td>75</td>\n",
       "      <td>289</td>\n",
       "      <td>3.853333</td>\n",
       "      <td>0.782007</td>\n",
       "      <td>0.865052</td>\n",
       "      <td>0.899654</td>\n",
       "      <td>0.546713</td>\n",
       "      <td>0.702422</td>\n",
       "      <td>0.629758</td>\n",
       "    </tr>\n",
       "    <tr>\n",
       "      <th>43</th>\n",
       "      <td>PUMA blosum62 0.9 0.005 1600</td>\n",
       "      <td>95</td>\n",
       "      <td>802</td>\n",
       "      <td>8.442105</td>\n",
       "      <td>0.790524</td>\n",
       "      <td>0.811721</td>\n",
       "      <td>0.870324</td>\n",
       "      <td>0.521197</td>\n",
       "      <td>0.663342</td>\n",
       "      <td>0.648379</td>\n",
       "    </tr>\n",
       "    <tr>\n",
       "      <th>44</th>\n",
       "      <td>PUMA blosum62 0.9 0.005 3200</td>\n",
       "      <td>99</td>\n",
       "      <td>1403</td>\n",
       "      <td>14.171717</td>\n",
       "      <td>0.786885</td>\n",
       "      <td>0.801140</td>\n",
       "      <td>0.851746</td>\n",
       "      <td>0.530292</td>\n",
       "      <td>0.655738</td>\n",
       "      <td>0.633642</td>\n",
       "    </tr>\n",
       "    <tr>\n",
       "      <th>45</th>\n",
       "      <td>PUMA blosum62 0.9 0.005 6400</td>\n",
       "      <td>98</td>\n",
       "      <td>1984</td>\n",
       "      <td>20.244898</td>\n",
       "      <td>0.782258</td>\n",
       "      <td>0.799395</td>\n",
       "      <td>0.855343</td>\n",
       "      <td>0.511089</td>\n",
       "      <td>0.667843</td>\n",
       "      <td>0.652722</td>\n",
       "    </tr>\n",
       "    <tr>\n",
       "      <th>46</th>\n",
       "      <td>PUMA blosum62 0.9 0.005 12800</td>\n",
       "      <td>100</td>\n",
       "      <td>2536</td>\n",
       "      <td>25.360000</td>\n",
       "      <td>0.783517</td>\n",
       "      <td>0.807177</td>\n",
       "      <td>0.855284</td>\n",
       "      <td>0.510252</td>\n",
       "      <td>0.654968</td>\n",
       "      <td>0.643139</td>\n",
       "    </tr>\n",
       "    <tr>\n",
       "      <th>47</th>\n",
       "      <td>PUMA blosum62 0.9 0.005 25600</td>\n",
       "      <td>100</td>\n",
       "      <td>3102</td>\n",
       "      <td>31.020000</td>\n",
       "      <td>0.772405</td>\n",
       "      <td>0.797550</td>\n",
       "      <td>0.837847</td>\n",
       "      <td>0.516119</td>\n",
       "      <td>0.665700</td>\n",
       "      <td>0.642166</td>\n",
       "    </tr>\n",
       "  </tbody>\n",
       "</table>\n",
       "</div>"
      ],
      "text/plain": [
       "                           tokenizer  processed_proteins  \\\n",
       "0         PUMA blosum62 0.7 0.05 800                  85   \n",
       "1        PUMA blosum62 0.7 0.05 1600                  95   \n",
       "2        PUMA blosum62 0.7 0.05 3200                  98   \n",
       "3        PUMA blosum62 0.7 0.05 6400                  99   \n",
       "4       PUMA blosum62 0.7 0.05 12800                  99   \n",
       "5       PUMA blosum62 0.7 0.05 25600                  99   \n",
       "6     PUMA pre blosum62 0.7 0.05 800                  84   \n",
       "7    PUMA pre blosum62 0.7 0.05 1600                  97   \n",
       "8    PUMA pre blosum62 0.7 0.05 3200                  99   \n",
       "9    PUMA pre blosum62 0.7 0.05 6400                 100   \n",
       "10  PUMA pre blosum62 0.7 0.05 12800                 100   \n",
       "11  PUMA pre blosum62 0.7 0.05 25600                 100   \n",
       "12        PUMA blosum62 0.8 0.05 800                  51   \n",
       "13       PUMA blosum62 0.8 0.05 1600                  74   \n",
       "14       PUMA blosum62 0.8 0.05 3200                  82   \n",
       "15       PUMA blosum62 0.8 0.05 6400                  88   \n",
       "16      PUMA blosum62 0.8 0.05 12800                  94   \n",
       "17      PUMA blosum62 0.8 0.05 25600                  96   \n",
       "18       PUMA blosum62 0.7 0.005 800                  83   \n",
       "19      PUMA blosum62 0.7 0.005 1600                  95   \n",
       "20      PUMA blosum62 0.7 0.005 3200                  98   \n",
       "21      PUMA blosum62 0.7 0.005 6400                  99   \n",
       "22     PUMA blosum62 0.7 0.005 12800                  99   \n",
       "23     PUMA blosum62 0.7 0.005 25600                  99   \n",
       "24        PUMA blosum45 0.7 0.05 800                  90   \n",
       "25       PUMA blosum45 0.7 0.05 1600                  95   \n",
       "26       PUMA blosum45 0.7 0.05 3200                  99   \n",
       "27       PUMA blosum45 0.7 0.05 6400                 100   \n",
       "28      PUMA blosum45 0.7 0.05 12800                 100   \n",
       "29      PUMA blosum45 0.7 0.05 25600                 100   \n",
       "30           PUMA pam70 0.7 0.05 800                  86   \n",
       "31          PUMA pam70 0.7 0.05 1600                  90   \n",
       "32          PUMA pam70 0.7 0.05 3200                  97   \n",
       "33          PUMA pam70 0.7 0.05 6400                  98   \n",
       "34         PUMA pam70 0.7 0.05 12800                  99   \n",
       "35         PUMA pam70 0.7 0.05 25600                  99   \n",
       "36          PUMA pam250 0.8 0.05 800                  94   \n",
       "37         PUMA pam250 0.8 0.05 1600                  97   \n",
       "38         PUMA pam250 0.8 0.05 3200                  99   \n",
       "39         PUMA pam250 0.8 0.05 6400                 100   \n",
       "40        PUMA pam250 0.8 0.05 12800                 100   \n",
       "41        PUMA pam250 0.8 0.05 25600                 100   \n",
       "42       PUMA blosum62 0.9 0.005 800                  75   \n",
       "43      PUMA blosum62 0.9 0.005 1600                  95   \n",
       "44      PUMA blosum62 0.9 0.005 3200                  99   \n",
       "45      PUMA blosum62 0.9 0.005 6400                  98   \n",
       "46     PUMA blosum62 0.9 0.005 12800                 100   \n",
       "47     PUMA blosum62 0.9 0.005 25600                 100   \n",
       "\n",
       "    total_differing_positions  avg_differing_positions  rank_win_rate_vs_mut  \\\n",
       "0                         409                 4.811765              0.711491   \n",
       "1                        1061                11.168421              0.743638   \n",
       "2                        1673                17.071429              0.751943   \n",
       "3                        2127                21.484848              0.750823   \n",
       "4                        2728                27.555556              0.751100   \n",
       "5                        3243                32.757576              0.747456   \n",
       "6                         331                 3.940476              0.712991   \n",
       "7                        1032                10.639175              0.754845   \n",
       "8                        1689                17.060606              0.759029   \n",
       "9                        2136                21.360000              0.752341   \n",
       "10                       2712                27.120000              0.751475   \n",
       "11                       3256                32.560000              0.750000   \n",
       "12                        117                 2.294118              0.803419   \n",
       "13                        303                 4.094595              0.772277   \n",
       "14                        449                 5.475610              0.777283   \n",
       "15                        601                 6.829545              0.765391   \n",
       "16                        799                 8.500000              0.770964   \n",
       "17                       1110                11.562500              0.757658   \n",
       "18                        374                 4.506024              0.705882   \n",
       "19                        917                 9.652632              0.744820   \n",
       "20                       1629                16.622449              0.751995   \n",
       "21                       2058                20.787879              0.750243   \n",
       "22                       2641                26.676768              0.748959   \n",
       "23                       3069                31.000000              0.750081   \n",
       "24                        444                 4.933333              0.790541   \n",
       "25                       1063                11.189474              0.785513   \n",
       "26                       1735                17.525253              0.778098   \n",
       "27                       2195                21.950000              0.757631   \n",
       "28                       2722                27.220000              0.754225   \n",
       "29                       3251                32.510000              0.752076   \n",
       "30                        357                 4.151163              0.801120   \n",
       "31                        781                 8.677778              0.788732   \n",
       "32                       1184                12.206186              0.779561   \n",
       "33                       1490                15.204082              0.775168   \n",
       "34                       1869                18.878788              0.773141   \n",
       "35                       2285                23.080808              0.771554   \n",
       "36                        614                 6.531915              0.760586   \n",
       "37                       1099                11.329897              0.769791   \n",
       "38                       1706                17.232323              0.759086   \n",
       "39                       2230                22.300000              0.753812   \n",
       "40                       2807                28.070000              0.750267   \n",
       "41                       3260                32.600000              0.743558   \n",
       "42                        289                 3.853333              0.782007   \n",
       "43                        802                 8.442105              0.790524   \n",
       "44                       1403                14.171717              0.786885   \n",
       "45                       1984                20.244898              0.782258   \n",
       "46                       2536                25.360000              0.783517   \n",
       "47                       3102                31.020000              0.772405   \n",
       "\n",
       "    rank_win_rate_vs_alt  rank_win_rate_vs_base  rank_win_rate_mut_vs_alt  \\\n",
       "0               0.745721               0.833741                  0.520782   \n",
       "1               0.777568               0.836946                  0.521206   \n",
       "2               0.795577               0.838016                  0.515840   \n",
       "3               0.789845               0.842971                  0.514339   \n",
       "4               0.794355               0.853006                  0.520528   \n",
       "5               0.785692               0.838730                  0.521431   \n",
       "6               0.773414               0.839879                  0.531722   \n",
       "7               0.778101               0.851744                  0.520349   \n",
       "8               0.804026               0.860272                  0.530491   \n",
       "9               0.795412               0.855337                  0.519663   \n",
       "10              0.794248               0.842552                  0.515487   \n",
       "11              0.780098               0.842138                  0.509828   \n",
       "12              0.529915               0.777778                  0.222222   \n",
       "13              0.567657               0.792079                  0.290429   \n",
       "14              0.625835               0.795100                  0.336303   \n",
       "15              0.645591               0.793677                  0.349418   \n",
       "16              0.689612               0.837297                  0.394243   \n",
       "17              0.724324               0.830631                  0.454054   \n",
       "18              0.745989               0.842246                  0.524064   \n",
       "19              0.769902               0.850600                  0.512541   \n",
       "20              0.791897               0.842848                  0.515654   \n",
       "21              0.786200               0.846453                  0.502915   \n",
       "22              0.785309               0.840591                  0.514578   \n",
       "23              0.783969               0.839361                  0.508309   \n",
       "24              0.777027               0.849099                  0.475225   \n",
       "25              0.825964               0.844779                  0.551270   \n",
       "26              0.828818               0.835159                  0.531988   \n",
       "27              0.825513               0.842369                  0.547608   \n",
       "28              0.814475               0.849743                  0.543718   \n",
       "29              0.821286               0.842510                  0.541372   \n",
       "30              0.817927               0.857143                  0.490196   \n",
       "31              0.811780               0.860435                  0.498079   \n",
       "32              0.826014               0.860642                  0.507601   \n",
       "33              0.814094               0.855034                  0.528188   \n",
       "34              0.806314               0.845907                  0.523810   \n",
       "35              0.815755               0.852954                  0.515536   \n",
       "36              0.815961               0.881107                  0.467427   \n",
       "37              0.825296               0.863512                  0.505914   \n",
       "38              0.824736               0.848183                  0.511723   \n",
       "39              0.821076               0.855157                  0.522870   \n",
       "40              0.815818               0.848593                  0.521553   \n",
       "41              0.815644               0.855215                  0.531288   \n",
       "42              0.865052               0.899654                  0.546713   \n",
       "43              0.811721               0.870324                  0.521197   \n",
       "44              0.801140               0.851746                  0.530292   \n",
       "45              0.799395               0.855343                  0.511089   \n",
       "46              0.807177               0.855284                  0.510252   \n",
       "47              0.797550               0.837847                  0.516119   \n",
       "\n",
       "    rank_win_rate_mut_vs_base  rank_win_rate_alt_vs_base  \n",
       "0                    0.660147                   0.662592  \n",
       "1                    0.666352                   0.646560  \n",
       "2                    0.679617                   0.664077  \n",
       "3                    0.668547                   0.653503  \n",
       "4                    0.691716                   0.664956  \n",
       "5                    0.679001                   0.658341  \n",
       "6                    0.622356                   0.601208  \n",
       "7                    0.676357                   0.646318  \n",
       "8                    0.691533                   0.654233  \n",
       "9                    0.673221                   0.645131  \n",
       "10                   0.653761                   0.643437  \n",
       "11                   0.679668                   0.657248  \n",
       "12                   0.581197                   0.760684  \n",
       "13                   0.630363                   0.735974  \n",
       "14                   0.634744                   0.712695  \n",
       "15                   0.633943                   0.713810  \n",
       "16                   0.662078                   0.730914  \n",
       "17                   0.649550                   0.695495  \n",
       "18                   0.679144                   0.663102  \n",
       "19                   0.678299                   0.660851  \n",
       "20                   0.672805                   0.657459  \n",
       "21                   0.666181                   0.657920  \n",
       "22                   0.670958                   0.650511  \n",
       "23                   0.668948                   0.666993  \n",
       "24                   0.605856                   0.594595  \n",
       "25                   0.647225                   0.606773  \n",
       "26                   0.637464                   0.617291  \n",
       "27                   0.673804                   0.616401  \n",
       "28                   0.678913                   0.635929  \n",
       "29                   0.667179                   0.629652  \n",
       "30                   0.613445                   0.621849  \n",
       "31                   0.641485                   0.637644  \n",
       "32                   0.646115                   0.647804  \n",
       "33                   0.658389                   0.646309  \n",
       "34                   0.659711                   0.645265  \n",
       "35                   0.680088                   0.659519  \n",
       "36                   0.657980                   0.659609  \n",
       "37                   0.655141                   0.633303  \n",
       "38                   0.624853                   0.617233  \n",
       "39                   0.655605                   0.621973  \n",
       "40                   0.655148                   0.624866  \n",
       "41                   0.664110                   0.634969  \n",
       "42                   0.702422                   0.629758  \n",
       "43                   0.663342                   0.648379  \n",
       "44                   0.655738                   0.633642  \n",
       "45                   0.667843                   0.652722  \n",
       "46                   0.654968                   0.643139  \n",
       "47                   0.665700                   0.642166  "
      ]
     },
     "execution_count": 22,
     "metadata": {},
     "output_type": "execute_result"
    }
   ],
   "source": [
    "results_df"
   ]
  },
  {
   "cell_type": "markdown",
   "metadata": {},
   "source": [
    "## Results"
   ]
  },
  {
   "cell_type": "code",
   "execution_count": 29,
   "metadata": {},
   "outputs": [],
   "source": [
    "import matplotlib.pyplot as plt\n",
    "import seaborn as sns\n",
    "\n",
    "sns.set()\n",
    "sns.color_palette(\"Spectral\", as_cmap=True)\n",
    "\n",
    "colors = ['olivedrab', 'lightseagreen', 'slateblue', 'gold', 'cornflowerblue', 'darkred', 'teal', 'fuchsia', 'orange', 'dodgerblue', 'purple']\n",
    "markers = [\"o\", \"d\", \"*\", \"X\", \"P\", \"p\", 's', '^', 'v', 'D', 'X']\n",
    "linestyles = ['-', '--', '-.', ':', \".\"]\n",
    "\n",
    "label_pad = 6\n",
    "title_pad = 15\n",
    "title_size = 16\n",
    "tick_size = 14\n",
    "\n",
    "plt.rcParams[\"figure.figsize\"] = (8, 8)\n",
    "plt.rc('axes', titlesize=20)\n",
    "plt.rc('axes', labelsize=19)\n",
    "plt.rc('xtick', labelsize=16)\n",
    "plt.rc('ytick', labelsize=16)\n",
    "plt.rc('legend', fontsize=13)\n",
    "plt.rcParams['figure.dpi'] = 100\n",
    "\n",
    "figures_folder_name = 'figures'"
   ]
  },
  {
   "cell_type": "code",
   "execution_count": 30,
   "metadata": {},
   "outputs": [
    {
     "data": {
      "image/png": "[encoded data removed]",
      "text/plain": [
       "<Figure size 800x800 with 1 Axes>"
      ]
     },
     "metadata": {},
     "output_type": "display_data"
    }
   ],
   "source": [
    "sns.set_style(\"whitegrid\")\n",
    "\n",
    "for i, method in enumerate(methods):\n",
    "        plt.plot(vocab_sizes, [results_df[results_df['tokenizer'] == f'{method} {vocab_size}']['rank_win_rate_mut_vs_alt'] for vocab_size in vocab_sizes],\n",
    "                markers[i],\n",
    "                color=colors[i],\n",
    "                linestyle=linestyles[1],\n",
    "                markersize=10,\n",
    "                label=methods2names[method])\n",
    "\n",
    "plt.title(f\"ESM-2 Embedding Cosine Similarity\", pad=title_pad)\n",
    "plt.xlabel(\"Vocabulary Size\", labelpad=label_pad)\n",
    "plt.ylabel(\"Cosine Similarity\", labelpad=label_pad)\n",
    "plt.legend()\n",
    "\n",
    "# plt.xlim([0, 2000])\n",
    "# plt.ylim([.1, .4])\n",
    "\n",
    "plt.show()"
   ]
  },
  {
   "cell_type": "code",
   "execution_count": 32,
   "metadata": {},
   "outputs": [
    {
     "data": {
      "image/png": "[encoded data removed]",
      "text/plain": [
       "<Figure size 800x800 with 1 Axes>"
      ]
     },
     "metadata": {},
     "output_type": "display_data"
    }
   ],
   "source": [
    "sns.set_style(\"whitegrid\")\n",
    "\n",
    "for i, method in enumerate(methods):\n",
    "        plt.plot(range(6), [results_df[results_df['tokenizer'] == f'{method} {vocab_size}']['rank_win_rate_mut_vs_alt'] for vocab_size in vocab_sizes],\n",
    "                markers[i],\n",
    "                color=colors[i],\n",
    "                linestyle=linestyles[1],\n",
    "                markersize=10,\n",
    "                label=methods2names[method])\n",
    "\n",
    "plt.title(f\"ESM-2 Embedding Cosine Similarity\", pad=title_pad)\n",
    "plt.xlabel(\"Vocabulary Size\", labelpad=label_pad)\n",
    "plt.ylabel(\"Cosine Similarity\", labelpad=label_pad)\n",
    "plt.legend()\n",
    "\n",
    "# plt.xlim([0, 2000])\n",
    "# plt.ylim([.1, .4])\n",
    "\n",
    "plt.show()"
   ]
  },
  {
   "cell_type": "code",
   "execution_count": 33,
   "metadata": {},
   "outputs": [
    {
     "data": {
      "image/png": "[encoded data removed]",
      "text/plain": [
       "<Figure size 800x800 with 1 Axes>"
      ]
     },
     "metadata": {},
     "output_type": "display_data"
    }
   ],
   "source": [
    "sns.set_style(\"whitegrid\")\n",
    "\n",
    "for i, method in enumerate(methods[:2]+methods[3:]):\n",
    "        plt.plot(range(6), [results_df[results_df['tokenizer'] == f'{method} {vocab_size}']['rank_win_rate_mut_vs_alt'] for vocab_size in vocab_sizes],\n",
    "                markers[i],\n",
    "                color=colors[i],\n",
    "                linestyle=linestyles[1],\n",
    "                markersize=10,\n",
    "                label=methods2names[method])\n",
    "\n",
    "plt.title(f\"ESM-2 Embedding Cosine Similarity\", pad=title_pad)\n",
    "plt.xlabel(\"Vocabulary Size\", labelpad=label_pad)\n",
    "plt.ylabel(\"Cosine Similarity\", labelpad=label_pad)\n",
    "plt.legend()\n",
    "\n",
    "# plt.xlim([0, 2000])\n",
    "# plt.ylim([.1, .4])\n",
    "\n",
    "plt.show()"
   ]
  }
 ],
 "metadata": {
  "kernelspec": {
   "display_name": ".venv",
   "language": "python",
   "name": "python3"
  },
  "language_info": {
   "codemirror_mode": {
    "name": "ipython",
    "version": 3
   },
   "file_extension": ".py",
   "mimetype": "text/x-python",
   "name": "python",
   "nbconvert_exporter": "python",
   "pygments_lexer": "ipython3",
   "version": "3.12.8"
  }
 },
 "nbformat": 4,
 "nbformat_minor": 2
}
