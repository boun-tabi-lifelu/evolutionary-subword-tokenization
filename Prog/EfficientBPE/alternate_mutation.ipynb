{
 "cells": [
  {
   "cell_type": "markdown",
   "metadata": {},
   "source": [
    "## An alternative (more conservative and faster) mutation function\n"
   ]
  },
  {
   "cell_type": "code",
   "execution_count": null,
   "metadata": {},
   "outputs": [],
   "source": [
    "from itertools import combinations, product\n",
    "\n",
    "def generate_mutations(seq, matrix, max_num_pw_mut):\n",
    "    alp = matrix.alphabet\n",
    "    candidates = []\n",
    "    if max_num_pw_mut > len(seq):\n",
    "        max_num_pw_mut = len(seq)\n",
    "    # Create candidate symbols for each symbol in the sequence\n",
    "    for i, aa in enumerate(seq):\n",
    "        candidates.append([])\n",
    "        # Consider substitutions with non-negative scores\n",
    "        for c_aa in alp:\n",
    "            if c_aa == aa: # ignore itself\n",
    "                continue\n",
    "            if matrix[aa][c_aa] >= -1e-4: # for floating point precision\n",
    "                candidates[i].append(c_aa)\n",
    "\n",
    "    # Select up to max_num_pw_mut points of mutation and generate mutated sequences\n",
    "    cartesian_product_dict = {} # For dynamic programming purposes\n",
    "    potential_mut_counts = range(1, max_num_pw_mut + 1)\n",
    "    final_mutations = []\n",
    "    for mut_count in potential_mut_counts:\n",
    "        combs_of_mut_indices = list(combinations(range(len(seq)), mut_count))\n",
    "        for mutation_indices in combs_of_mut_indices:\n",
    "            # check if we generated all mutations for this particular subsequence before\n",
    "            only_this_mut_string = \"\"\n",
    "            for idx in mutation_indices:\n",
    "                only_this_mut_string += seq[idx]\n",
    "            if only_this_mut_string not in cartesian_product_dict:\n",
    "                # generate all mutations of this particular subsequence\n",
    "                only_this_mut_candidates = []\n",
    "                for idx in mutation_indices:\n",
    "                    only_this_mut_candidates.append(candidates[idx])\n",
    "                cartesian_product_dict[only_this_mut_string] = list(product(*only_this_mut_candidates))\n",
    "            # add all the calculated pointwise mutated strings to result\n",
    "            for particular_mutation in cartesian_product_dict[only_this_mut_string]:\n",
    "                curr_idx = 0\n",
    "                fin_mut = \"\"\n",
    "                for i, aa in enumerate(seq):\n",
    "                    if i in mutation_indices:\n",
    "                        fin_mut += particular_mutation[curr_idx]\n",
    "                        curr_idx += 1\n",
    "                    else:\n",
    "                        fin_mut += aa\n",
    "                final_mutations.append(fin_mut)\n",
    "    return final_mutations\n",
    "                \n"
   ]
  },
  {
   "cell_type": "markdown",
   "metadata": {},
   "source": [
    "\n",
    "### Example output\n"
   ]
  },
  {
   "cell_type": "code",
   "execution_count": null,
   "metadata": {},
   "outputs": [],
   "source": [
    "from Bio.Align import substitution_matrices\n",
    "\n",
    "blosum62 = substitution_matrices.load(\"BLOSUM62\")\n",
    "pam250 = substitution_matrices.load(\"PAM250\")\n",
    "\n",
    "# print(generate_mutations(\"HVY\", blosum62, 5))\n",
    "print(generate_mutations(\"LLL\", pam250, 5))\n",
    "muts = generate_mutations(\"HYEVVVVEE\", blosum62, 7)\n",
    "# print(muts)\n",
    "print(len(muts))\n",
    "print(len(set(muts)))"
   ]
  },
  {
   "cell_type": "markdown",
   "metadata": {},
   "source": [
    "\n",
    "### Example usage in training\n"
   ]
  },
  {
   "cell_type": "code",
   "execution_count": null,
   "metadata": {},
   "outputs": [],
   "source": [
    "# %%prun -s cumulative\n",
    "init_vocab = alphabet.copy()\n",
    "\n",
    "# Add 100 words + their mutations\n",
    "for i in range(1000):\n",
    "    best_pair = merge_heap.pop()\n",
    "    merge_pair(best_pair)\n",
    "    merged_string = best_pair.merged()\n",
    "    init_vocab.append(merged_string)\n",
    "\n",
    "    # For the mutations:\n",
    "    mutations = generate_mutations(merged_string, blosum62, 5)\n",
    "    for mutated_str, score in mutations:\n",
    "        pairs_to_merge = merge_heap.merged_to_pair.get(mutated_str, [])\n",
    "        if len(pairs_to_merge) > 0:\n",
    "            init_vocab.append(mutated_str)\n",
    "        for pair in pairs_to_merge:\n",
    "            merge_heap.remove_by_value(pair)\n",
    "            merge_pair(pair)\n",
    "\n",
    "print(init_vocab)"
   ]
  }
 ],
 "metadata": {
  "language_info": {
   "name": "python"
  }
 },
 "nbformat": 4,
 "nbformat_minor": 2
}
