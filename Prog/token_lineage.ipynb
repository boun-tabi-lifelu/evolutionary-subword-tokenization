{
 "cells": [
  {
   "cell_type": "code",
   "execution_count": 1,
   "metadata": {},
   "outputs": [],
   "source": [
    "import pandas as pd\n",
    "import numpy as np\n",
    "import sqlite3\n",
    "from tqdm import tqdm\n",
    "import pickle\n",
    "from pandarallel import pandarallel\n",
    "from time import time\n",
    "from tokenizers import Tokenizer\n",
    "import matplotlib.pyplot as plt\n",
    "import seaborn as sns\n",
    "from collections import Counter\n",
    "from scipy.stats import linregress\n",
    "from vocabulary_functions import get_mutated, get_parents, set_difference, set_intersection, load_tokenizers, calc_agreement, calc_dice_idx_only"
   ]
  },
  {
   "cell_type": "code",
   "execution_count": 2,
   "metadata": {},
   "outputs": [
    {
     "name": "stdout",
     "output_type": "stream",
     "text": [
      "INFO: Pandarallel will run on 20 workers.\n",
      "INFO: Pandarallel will use Memory file system to transfer data between the main process and workers.\n"
     ]
    }
   ],
   "source": [
    "pandarallel.initialize(nb_workers=20, progress_bar=True)"
   ]
  },
  {
   "cell_type": "code",
   "execution_count": 31,
   "metadata": {},
   "outputs": [],
   "source": [
    "# 'dataset': {'uniref50', 'uniref90'}\n",
    "# 'is_pretokenizer': {True, False}\n",
    "# 'subs_matrix': {'blosum45', 'blosum62', 'pam70', 'pam250'}\n",
    "# 'mutation_cutoff': {0.7, 0.8, 0.9}\n",
    "# 'min_mutation_freq': {0, 0.05,. 0.005}\n",
    "# 'min_mutation_len': {3}\n",
    "# 'max_mutation_len': {12}\n",
    "# 'vocab_size': list=[800, 1600, 3200, 6400, 12800, 25600, 51200]\n",
    "\n",
    "vocab_sizes = [800, 1600, 3200, 6400, 12800, 25600]\n",
    "uniref_id = \"50\"\n",
    "\n",
    "tokenizer_opts_list = [\n",
    "    {\n",
    "        'is_mut': True,\n",
    "        'dataset': f'uniref{uniref_id}',\n",
    "        'is_pretokenizer': False,\n",
    "        'subs_matrix': 'blosum62',\n",
    "        'mutation_cutoff': 0.7,\n",
    "        'min_mutation_freq': 0.05,\n",
    "        'min_mutation_len': 3,\n",
    "        'max_mutation_len': 12,\n",
    "        'vocab_size': vocab_sizes\n",
    "    },\n",
    "    {\n",
    "        'is_mut': True,\n",
    "        'dataset': f'uniref{uniref_id}',\n",
    "        'is_pretokenizer': False,\n",
    "        'subs_matrix': 'pam70',\n",
    "        'mutation_cutoff': 0.7,\n",
    "        'min_mutation_freq': 0.05,\n",
    "        'min_mutation_len': 3,\n",
    "        'max_mutation_len': 12,\n",
    "        'vocab_size': vocab_sizes\n",
    "    },\n",
    "    {\n",
    "        'is_mut': True,\n",
    "        'dataset': f'uniref{uniref_id}',\n",
    "        'is_pretokenizer': True,\n",
    "        'subs_matrix': 'blosum62',\n",
    "        'mutation_cutoff': 0.7,\n",
    "        'min_mutation_freq': 0.05,\n",
    "        'min_mutation_len': 3,\n",
    "        'max_mutation_len': 12,\n",
    "        'vocab_size': vocab_sizes\n",
    "    },\n",
    "    {\n",
    "        'is_mut': True,\n",
    "        'dataset': f'uniref{uniref_id}',\n",
    "        'is_pretokenizer': True,\n",
    "        'subs_matrix': 'pam70',\n",
    "        'mutation_cutoff': 0.7,\n",
    "        'min_mutation_freq': 0.05,\n",
    "        'min_mutation_len': 3,\n",
    "        'max_mutation_len': 12,\n",
    "        'vocab_size': vocab_sizes\n",
    "    },\n",
    "]"
   ]
  },
  {
   "cell_type": "code",
   "execution_count": 32,
   "metadata": {},
   "outputs": [],
   "source": [
    "tokenizer_list = load_tokenizers(tokenizer_opts_list, 'hf')\n",
    "inner_vocab_list = load_tokenizers(tokenizer_opts_list, 'vocab')\n",
    "\n",
    "vocab_list = {}\n",
    "for name, tokenizer in tokenizer_list.items():\n",
    "    vocab_list[name] = list(set([token for token, idx in tokenizer.get_vocab().items()]))"
   ]
  },
  {
   "cell_type": "code",
   "execution_count": 130,
   "metadata": {},
   "outputs": [
    {
     "data": {
      "text/plain": [
       "{'mutBPE blosum62 0.7 0.05': 'evoBPE BLOSUM62',\n",
       " 'mutBPE pam70 0.7 0.05': 'evoBPE PAM70',\n",
       " 'mutBPE pre blosum62 0.7 0.05': 'evoBPE Pre BLOSUM62',\n",
       " 'mutBPE pre pam70 0.7 0.05': 'evoBPE Pre PAM70'}"
      ]
     },
     "execution_count": 130,
     "metadata": {},
     "output_type": "execute_result"
    }
   ],
   "source": [
    "methods = [method_name[:-len(str(vocab_sizes[0]))-1] for method_name in list(tokenizer_list.keys())[::len(vocab_sizes)]]\n",
    "methods2names = {mn:mn.replace('mut', 'evo').replace('std', '').replace('blosum', 'BLOSUM').replace('pam', 'PAM').replace('pre', 'Pre') for mn in methods}\n",
    "methods2names = {k: ' '.join(v.split()[:-2]) if 'evoBPE' in v else v for k, v in methods2names.items()}\n",
    "methods2names"
   ]
  },
  {
   "cell_type": "code",
   "execution_count": 117,
   "metadata": {},
   "outputs": [
    {
     "name": "stderr",
     "output_type": "stream",
     "text": [
      "100%|██████████| 24/24 [00:00<00:00, 84.75it/s] \n"
     ]
    }
   ],
   "source": [
    "vocab_lineage_list = {}\n",
    "for k, v in inner_vocab_list.items():\n",
    "    template_dict = {\n",
    "        \n",
    "    }\n",
    "    vocab_lineage_list[k] = {token:{\n",
    "                                'frequency': -1,\n",
    "                                'order': -1,\n",
    "                                'parent_pair': [],\n",
    "                                'parent_mutation': \"\",\n",
    "                                'parent_mutation_similarity': -1,\n",
    "                                'partner_pair_self': False,\n",
    "                                'partner_pair_left': [],\n",
    "                                'partner_pair_right': [],\n",
    "                                'child_pair': [],\n",
    "                                'child_mutation': []\n",
    "                            } for token in v.keys()}\n",
    "\n",
    "for method_name, vocab in tqdm(inner_vocab_list.items()):\n",
    "    for token, inner_vocab_elements in vocab.items():\n",
    "        vocab_lineage_list[method_name][token]['frequency'] = inner_vocab_elements['frequency']\n",
    "        vocab_lineage_list[method_name][token]['order'] = inner_vocab_elements['order']\n",
    "        vocab_lineage_list[method_name][token]['parent_pair'] = inner_vocab_elements['pair'] if 'pair' in inner_vocab_elements else []\n",
    "        vocab_lineage_list[method_name][token]['parent_mutation'] = inner_vocab_elements['parent'] if 'parent' in inner_vocab_elements else \"\"\n",
    "        vocab_lineage_list[method_name][token]['parent_mutation_similarity'] = inner_vocab_elements['similarity'] if 'similarity' in inner_vocab_elements else -1\n",
    "\n",
    "        if 'pair' in inner_vocab_elements:\n",
    "            if inner_vocab_elements['pair'][0] == inner_vocab_elements['pair'][1]:\n",
    "                vocab_lineage_list[method_name][inner_vocab_elements['pair'][0]]['partner_pair_self'] = True\n",
    "                vocab_lineage_list[method_name][inner_vocab_elements['pair'][0]]['child_pair'].append(token)\n",
    "            else:\n",
    "                vocab_lineage_list[method_name][inner_vocab_elements['pair'][0]]['partner_pair_right'].append(inner_vocab_elements['pair'][1])\n",
    "                vocab_lineage_list[method_name][inner_vocab_elements['pair'][1]]['partner_pair_left'].append(inner_vocab_elements['pair'][0])\n",
    "                vocab_lineage_list[method_name][inner_vocab_elements['pair'][0]]['child_pair'].append(token)\n",
    "                vocab_lineage_list[method_name][inner_vocab_elements['pair'][1]]['child_pair'].append(token)\n",
    "        if 'parent' in inner_vocab_elements:\n",
    "                vocab_lineage_list[method_name][inner_vocab_elements['parent']]['child_mutation'].append(token)"
   ]
  },
  {
   "cell_type": "code",
   "execution_count": null,
   "metadata": {},
   "outputs": [],
   "source": [
    "method_name = 'mutBPE blosum62 0.7 0.05 3200'"
   ]
  },
  {
   "cell_type": "code",
   "execution_count": null,
   "metadata": {},
   "outputs": [],
   "source": []
  },
  {
   "cell_type": "code",
   "execution_count": null,
   "metadata": {},
   "outputs": [],
   "source": []
  },
  {
   "cell_type": "code",
   "execution_count": null,
   "metadata": {},
   "outputs": [],
   "source": [
    "import networkx as nx\n",
    "from pyvis.network import Network\n",
    "import random\n",
    "\n",
    "def create_vocabulary_graph(vocabulary):\n",
    "    # Create a directed graph\n",
    "    G = nx.DiGraph()\n",
    "    \n",
    "    # Add all tokens as nodes\n",
    "    for token, info in vocabulary.items():\n",
    "        if len(token) > 2:\n",
    "            # Add node with attributes\n",
    "            G.add_node(token, \n",
    "                    frequency=info['frequency'],\n",
    "                    order=info['order'],\n",
    "                    title=f\"Token: {token}\\nFreq: {info['frequency']}\\nOrder: {info['order']}\")\n",
    "    \n",
    "    # Add edges for parent pairs\n",
    "    for token, info in vocabulary.items():\n",
    "        if info['parent_pair']:\n",
    "            # Add edges from both parents to the token\n",
    "            if info['parent_pair'][0] in G.nodes and token in G.nodes:  # Check if parent exists in vocabulary\n",
    "                G.add_edge(info['parent_pair'][0], token, \n",
    "                             relationship=\"parent_left\",\n",
    "                             title=\"Parent Left\",\n",
    "                             color='blue')\n",
    "            if info['parent_pair'][1] in G.nodes and token in G.nodes:  # Check if parent exists in vocabulary\n",
    "                G.add_edge(info['parent_pair'][1], token, \n",
    "                            relationship=\"parent_right\",\n",
    "                            title=\"Parent Right\",\n",
    "                            color='blue')\n",
    "    \n",
    "    # Add edges for parent mutations\n",
    "    for token, info in vocabulary.items():\n",
    "        if info['parent_mutation']:\n",
    "            if info['parent_mutation'] in G.nodes and token in G.nodes:  # Check if parent mutation exists\n",
    "                G.add_edge(info['parent_mutation'], token,\n",
    "                          relationship=\"parent_mutation\",\n",
    "                          title=f\"Parent Mutation\\nSimilarity: {info['parent_mutation_similarity']:.2f}\",\n",
    "                          color='green')\n",
    "    \n",
    "    # # Add edges for partner pairs\n",
    "    # for token, info in vocabulary.items():\n",
    "    #     # Left partners\n",
    "    #     for partner in info['partner_pair_left']:\n",
    "    #         if partner in vocabulary:\n",
    "    #             child_token = next((child for child in info['child_pair'] \n",
    "    #                               if all(p in child for p in [token, partner])), None)\n",
    "    #             if child_token:\n",
    "    #                 G.add_edge(token, child_token,\n",
    "    #                          relationship=\"partner_pair_left\",\n",
    "    #                          title=\"Partner Pair (Left)\",\n",
    "    #                          color='red')\n",
    "    #                 G.add_edge(partner, child_token,\n",
    "    #                          relationship=\"partner_pair_right\",\n",
    "    #                          title=\"Partner Pair (Right)\",\n",
    "    #                          color='red')\n",
    "        \n",
    "    #     # Right partners\n",
    "    #     for partner in info['partner_pair_right']:\n",
    "    #         if partner in vocabulary:\n",
    "    #             child_token = next((child for child in info['child_pair'] \n",
    "    #                               if all(p in child for p in [token, partner])), None)\n",
    "    #             if child_token:\n",
    "    #                 G.add_edge(partner, child_token,\n",
    "    #                          relationship=\"partner_pair_left\",\n",
    "    #                          title=\"Partner Pair (Left)\",\n",
    "    #                          color='red')\n",
    "    #                 G.add_edge(token, child_token,\n",
    "    #                          relationship=\"partner_pair_right\",\n",
    "    #                          title=\"Partner Pair (Right)\",\n",
    "    #                          color='red')\n",
    "    \n",
    "    # # Add edges for child mutations\n",
    "    # for token, info in vocabulary.items():\n",
    "    #     for child in info['child_mutation']:\n",
    "    #         if child in vocabulary:\n",
    "    #             G.add_edge(token, child,\n",
    "    #                       relationship=\"child_mutation\",\n",
    "    #                       title=\"Child Mutation\",\n",
    "    #                       color='purple')\n",
    "    \n",
    "    return G\n",
    "\n",
    "def visualize_graph(G, output_file='vocabulary_graph.html'):\n",
    "    # Create a Pyvis network\n",
    "    net = Network(height='750px', width='100%', bgcolor='#ffffff', \n",
    "                 font_color='#000000')\n",
    "    \n",
    "    # Configure physics\n",
    "    net.force_atlas_2based()\n",
    "    net.show_buttons(filter_=['physics'])\n",
    "    \n",
    "    # Add nodes with size based on frequency and color based on order\n",
    "    for node in G.nodes(data=True):\n",
    "        token = node[0]\n",
    "        attrs = node[1]\n",
    "        \n",
    "        # Calculate node size based on frequency (log scale)\n",
    "        size = 10 + (attrs.get('frequency', 1) ** 0.5) / 10\n",
    "        \n",
    "        # Calculate color based on order (gradient from green to red)\n",
    "        order = attrs.get('order', 0)\n",
    "        max_order = max(attrs.get('order', 0) for _, attrs in G.nodes(data=True))\n",
    "        color_value = int(255 * (order / max_order))\n",
    "        color = f'rgb({color_value},100,{255-color_value})'\n",
    "        \n",
    "        net.add_node(token, \n",
    "                    title=attrs.get('title', ''),\n",
    "                    size=size,\n",
    "                    color=color)\n",
    "    \n",
    "    # Add edges with their properties\n",
    "    for edge in G.edges(data=True):\n",
    "        net.add_edge(edge[0], edge[1],\n",
    "                    title=edge[2].get('title', ''),\n",
    "                    color=edge[2].get('color', '#888888'))\n",
    "    \n",
    "    # Save the graph\n",
    "    net.save_graph(output_file)\n",
    "    return net"
   ]
  },
  {
   "cell_type": "code",
   "execution_count": 212,
   "metadata": {},
   "outputs": [],
   "source": [
    "# Example usage:\n",
    "vocabulary = {\n",
    "    'TLL': {\n",
    "        'frequency': 5437,\n",
    "        'order': 189,\n",
    "        'parent_pair': ['T', 'LL'],\n",
    "        'parent_mutation': 'SLL',\n",
    "        'parent_mutation_similarity': 0.75,\n",
    "        'partner_pair_self': False,\n",
    "        'partner_pair_left': [],\n",
    "        'partner_pair_right': [],\n",
    "        'child_pair': [],\n",
    "        'child_mutation': []\n",
    "    },\n",
    "    'EKPY': {\n",
    "        'frequency': 3063,\n",
    "        'order': 954,\n",
    "        'parent_pair': ['EK', 'PY'],\n",
    "        'parent_mutation': '',\n",
    "        'parent_mutation_similarity': -1,\n",
    "        'partner_pair_self': False,\n",
    "        'partner_pair_left': ['HTG', 'HSG'],\n",
    "        'partner_pair_right': [],\n",
    "        'child_pair': ['HTGEKPY', 'HSGEKPY'],\n",
    "        'child_mutation': ['ERPY', 'EKPF', 'ERPF']\n",
    "    }\n",
    "}\n",
    "\n",
    "method_name = 'mutBPE blosum62 0.7 0.05 1600'\n",
    "vocabulary = vocab_lineage_list[method_name]\n",
    "\n",
    "# Create and visualize the graph\n",
    "G = create_vocabulary_graph(vocabulary)"
   ]
  },
  {
   "cell_type": "code",
   "execution_count": 202,
   "metadata": {},
   "outputs": [],
   "source": [
    "net = visualize_graph(G, method_name+'.html')"
   ]
  },
  {
   "cell_type": "code",
   "execution_count": 218,
   "metadata": {},
   "outputs": [
    {
     "data": {
      "text/plain": [
       "False"
      ]
     },
     "execution_count": 218,
     "metadata": {},
     "output_type": "execute_result"
    }
   ],
   "source": [
    "'P' in G.nodes"
   ]
  },
  {
   "cell_type": "code",
   "execution_count": 213,
   "metadata": {},
   "outputs": [
    {
     "ename": "KeyError",
     "evalue": "\"The edge ('P', 'PR') is not in the graph.\"",
     "output_type": "error",
     "traceback": [
      "\u001b[0;31m---------------------------------------------------------------------------\u001b[0m",
      "\u001b[0;31mKeyError\u001b[0m                                  Traceback (most recent call last)",
      "File \u001b[0;32m~/iscb2025/.venv/lib/python3.12/site-packages/networkx/classes/reportviews.py:1097\u001b[0m, in \u001b[0;36mOutEdgeView.__getitem__\u001b[0;34m(self, e)\u001b[0m\n\u001b[1;32m   1096\u001b[0m \u001b[38;5;28;01mtry\u001b[39;00m:\n\u001b[0;32m-> 1097\u001b[0m     \u001b[38;5;28;01mreturn\u001b[39;00m \u001b[38;5;28;43mself\u001b[39;49m\u001b[38;5;241;43m.\u001b[39;49m\u001b[43m_adjdict\u001b[49m\u001b[43m[\u001b[49m\u001b[43mu\u001b[49m\u001b[43m]\u001b[49m[v]\n\u001b[1;32m   1098\u001b[0m \u001b[38;5;28;01mexcept\u001b[39;00m \u001b[38;5;167;01mKeyError\u001b[39;00m \u001b[38;5;28;01mas\u001b[39;00m ex:  \u001b[38;5;66;03m# Customize msg to indicate exception origin\u001b[39;00m\n",
      "\u001b[0;31mKeyError\u001b[0m: 'P'",
      "\nDuring handling of the above exception, another exception occurred:\n",
      "\u001b[0;31mKeyError\u001b[0m                                  Traceback (most recent call last)",
      "Cell \u001b[0;32mIn[213], line 1\u001b[0m\n\u001b[0;32m----> 1\u001b[0m \u001b[43mG\u001b[49m\u001b[38;5;241;43m.\u001b[39;49m\u001b[43medges\u001b[49m\u001b[43m[\u001b[49m\u001b[43m(\u001b[49m\u001b[38;5;124;43m'\u001b[39;49m\u001b[38;5;124;43mP\u001b[39;49m\u001b[38;5;124;43m'\u001b[39;49m\u001b[43m,\u001b[49m\u001b[43m \u001b[49m\u001b[38;5;124;43m'\u001b[39;49m\u001b[38;5;124;43mPR\u001b[39;49m\u001b[38;5;124;43m'\u001b[39;49m\u001b[43m)\u001b[49m\u001b[43m]\u001b[49m\n",
      "File \u001b[0;32m~/iscb2025/.venv/lib/python3.12/site-packages/networkx/classes/reportviews.py:1099\u001b[0m, in \u001b[0;36mOutEdgeView.__getitem__\u001b[0;34m(self, e)\u001b[0m\n\u001b[1;32m   1097\u001b[0m     \u001b[38;5;28;01mreturn\u001b[39;00m \u001b[38;5;28mself\u001b[39m\u001b[38;5;241m.\u001b[39m_adjdict[u][v]\n\u001b[1;32m   1098\u001b[0m \u001b[38;5;28;01mexcept\u001b[39;00m \u001b[38;5;167;01mKeyError\u001b[39;00m \u001b[38;5;28;01mas\u001b[39;00m ex:  \u001b[38;5;66;03m# Customize msg to indicate exception origin\u001b[39;00m\n\u001b[0;32m-> 1099\u001b[0m     \u001b[38;5;28;01mraise\u001b[39;00m \u001b[38;5;167;01mKeyError\u001b[39;00m(\u001b[38;5;124mf\u001b[39m\u001b[38;5;124m\"\u001b[39m\u001b[38;5;124mThe edge \u001b[39m\u001b[38;5;132;01m{\u001b[39;00me\u001b[38;5;132;01m}\u001b[39;00m\u001b[38;5;124m is not in the graph.\u001b[39m\u001b[38;5;124m\"\u001b[39m)\n",
      "\u001b[0;31mKeyError\u001b[0m: \"The edge ('P', 'PR') is not in the graph.\""
     ]
    }
   ],
   "source": [
    "G.edges[('P', 'PR')]"
   ]
  },
  {
   "cell_type": "code",
   "execution_count": 195,
   "metadata": {},
   "outputs": [
    {
     "data": {
      "text/plain": [
       "{'relationship': 'parent_mutation',\n",
       " 'title': 'Parent Mutation\\nSimilarity: 0.75',\n",
       " 'color': 'green'}"
      ]
     },
     "execution_count": 195,
     "metadata": {},
     "output_type": "execute_result"
    }
   ],
   "source": [
    "G.edges[('LLL', 'LLV')]"
   ]
  },
  {
   "cell_type": "code",
   "execution_count": 196,
   "metadata": {},
   "outputs": [
    {
     "ename": "KeyError",
     "evalue": "\"The edge ('LLV', 'LLL') is not in the graph.\"",
     "output_type": "error",
     "traceback": [
      "\u001b[0;31m---------------------------------------------------------------------------\u001b[0m",
      "\u001b[0;31mKeyError\u001b[0m                                  Traceback (most recent call last)",
      "File \u001b[0;32m~/iscb2025/.venv/lib/python3.12/site-packages/networkx/classes/reportviews.py:1097\u001b[0m, in \u001b[0;36mOutEdgeView.__getitem__\u001b[0;34m(self, e)\u001b[0m\n\u001b[1;32m   1096\u001b[0m \u001b[38;5;28;01mtry\u001b[39;00m:\n\u001b[0;32m-> 1097\u001b[0m     \u001b[38;5;28;01mreturn\u001b[39;00m \u001b[38;5;28;43mself\u001b[39;49m\u001b[38;5;241;43m.\u001b[39;49m\u001b[43m_adjdict\u001b[49m\u001b[43m[\u001b[49m\u001b[43mu\u001b[49m\u001b[43m]\u001b[49m\u001b[43m[\u001b[49m\u001b[43mv\u001b[49m\u001b[43m]\u001b[49m\n\u001b[1;32m   1098\u001b[0m \u001b[38;5;28;01mexcept\u001b[39;00m \u001b[38;5;167;01mKeyError\u001b[39;00m \u001b[38;5;28;01mas\u001b[39;00m ex:  \u001b[38;5;66;03m# Customize msg to indicate exception origin\u001b[39;00m\n",
      "\u001b[0;31mKeyError\u001b[0m: 'LLL'",
      "\nDuring handling of the above exception, another exception occurred:\n",
      "\u001b[0;31mKeyError\u001b[0m                                  Traceback (most recent call last)",
      "Cell \u001b[0;32mIn[196], line 1\u001b[0m\n\u001b[0;32m----> 1\u001b[0m \u001b[43mG\u001b[49m\u001b[38;5;241;43m.\u001b[39;49m\u001b[43medges\u001b[49m\u001b[43m[\u001b[49m\u001b[43m(\u001b[49m\u001b[38;5;124;43m'\u001b[39;49m\u001b[38;5;124;43mLLV\u001b[39;49m\u001b[38;5;124;43m'\u001b[39;49m\u001b[43m,\u001b[49m\u001b[43m \u001b[49m\u001b[38;5;124;43m'\u001b[39;49m\u001b[38;5;124;43mLLL\u001b[39;49m\u001b[38;5;124;43m'\u001b[39;49m\u001b[43m)\u001b[49m\u001b[43m]\u001b[49m\n",
      "File \u001b[0;32m~/iscb2025/.venv/lib/python3.12/site-packages/networkx/classes/reportviews.py:1099\u001b[0m, in \u001b[0;36mOutEdgeView.__getitem__\u001b[0;34m(self, e)\u001b[0m\n\u001b[1;32m   1097\u001b[0m     \u001b[38;5;28;01mreturn\u001b[39;00m \u001b[38;5;28mself\u001b[39m\u001b[38;5;241m.\u001b[39m_adjdict[u][v]\n\u001b[1;32m   1098\u001b[0m \u001b[38;5;28;01mexcept\u001b[39;00m \u001b[38;5;167;01mKeyError\u001b[39;00m \u001b[38;5;28;01mas\u001b[39;00m ex:  \u001b[38;5;66;03m# Customize msg to indicate exception origin\u001b[39;00m\n\u001b[0;32m-> 1099\u001b[0m     \u001b[38;5;28;01mraise\u001b[39;00m \u001b[38;5;167;01mKeyError\u001b[39;00m(\u001b[38;5;124mf\u001b[39m\u001b[38;5;124m\"\u001b[39m\u001b[38;5;124mThe edge \u001b[39m\u001b[38;5;132;01m{\u001b[39;00me\u001b[38;5;132;01m}\u001b[39;00m\u001b[38;5;124m is not in the graph.\u001b[39m\u001b[38;5;124m\"\u001b[39m)\n",
      "\u001b[0;31mKeyError\u001b[0m: \"The edge ('LLV', 'LLL') is not in the graph.\""
     ]
    }
   ],
   "source": [
    "G.edges[('LLV', 'LLL')]"
   ]
  }
 ],
 "metadata": {
  "kernelspec": {
   "display_name": ".venv",
   "language": "python",
   "name": "python3"
  },
  "language_info": {
   "codemirror_mode": {
    "name": "ipython",
    "version": 3
   },
   "file_extension": ".py",
   "mimetype": "text/x-python",
   "name": "python",
   "nbconvert_exporter": "python",
   "pygments_lexer": "ipython3",
   "version": "3.12.8"
  }
 },
 "nbformat": 4,
 "nbformat_minor": 2
}
